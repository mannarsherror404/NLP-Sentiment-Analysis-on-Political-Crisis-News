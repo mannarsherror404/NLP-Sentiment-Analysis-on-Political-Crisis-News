{
  "nbformat": 4,
  "nbformat_minor": 0,
  "metadata": {
    "colab": {
      "provenance": []
    },
    "kernelspec": {
      "name": "python3",
      "display_name": "Python 3"
    },
    "language_info": {
      "name": "python"
    }
  },
  "cells": [
    {
      "cell_type": "markdown",
      "source": [
        "# ** Half Project **\n",
        "\n",
        "| Program              | MBA Tech AI          |\n",
        "|----------------------|----------------------|\n",
        "| Semester             | 5                    |\n",
        "| Name of the Project  | Sentiment Analysis of News Reports: Pre- and Post-Bangladesh Military Coup    |\n",
        "| Batch                | B1                   |\n",
        "| Roll No.             | R024               |\n",
        "| Names                | Mannarsh Singh Bali  |\n",
        "| Date of Submission   | 26th September 2024   |\n",
        "\n",
        "---\n",
        "\n",
        "# Sentiment Analysis on Bangladesh military coup\n",
        "\n"
      ],
      "metadata": {
        "id": "YCORIpG0PpU_"
      }
    },
    {
      "cell_type": "markdown",
      "source": [
        "# Step 1: Define the Project Scope\n"
      ],
      "metadata": {
        "id": "oP1h6X5RRVhr"
      }
    },
    {
      "cell_type": "markdown",
      "source": [
        "### Objective\n",
        "The goal of this project is to perform sentiment analysis on news reports and articles before and after the Bangladesh military coup. By analyzing the sentiment of news coverage surrounding this event, we aim to observe any shifts in tone or perspective.\n",
        "\n",
        "Why sentiment analysis of news articles is valuable?\n",
        "\n",
        "- Understanding media sentiment can help gauge public opinion during politically sensitive times."
      ],
      "metadata": {
        "id": "Dl90qSWzRblO"
      }
    },
    {
      "cell_type": "markdown",
      "source": [
        "### Data Sources\n",
        "We have collected news articles and reports related to the Bangladesh military coup from various online sources. These sources may include **news websites**, **archives**, and **publicly available datasets**, ensuring that we have a comprehensive range of reports from both before and after the event."
      ],
      "metadata": {
        "id": "y9mqCxp1Rg0q"
      }
    },
    {
      "cell_type": "markdown",
      "source": [
        "# Step 2: Data Collection"
      ],
      "metadata": {
        "id": "WsCW-eBDR_Kd"
      }
    },
    {
      "cell_type": "markdown",
      "source": [
        "### Scrape News Articles\n",
        "To gather the necessary data, we will use manual web scraping\n",
        "."
      ],
      "metadata": {
        "id": "iVWfS8TXTfGl"
      }
    },
    {
      "cell_type": "code",
      "source": [
        "from google.colab import files\n",
        "\n",
        "# Upload a file from your desktop\n",
        "uploaded = files.upload()\n",
        "\n",
        "# List the name of the uploaded file\n",
        "for file_name in uploaded.keys():\n",
        "    print(f'You have uploaded: {file_name}')\n"
      ],
      "metadata": {
        "colab": {
          "base_uri": "https://localhost:8080/",
          "height": 37
        },
        "id": "0IBXPV9dTjBR",
        "outputId": "5350374a-4294-4da2-a79e-ed9af4b7bad4"
      },
      "execution_count": null,
      "outputs": [
        {
          "output_type": "display_data",
          "data": {
            "text/plain": [
              "<IPython.core.display.HTML object>"
            ],
            "text/html": [
              "\n",
              "     <input type=\"file\" id=\"files-f25bcb3b-e416-4aaa-843d-3f01e095fc02\" name=\"files[]\" multiple disabled\n",
              "        style=\"border:none\" />\n",
              "     <output id=\"result-f25bcb3b-e416-4aaa-843d-3f01e095fc02\">\n",
              "      Upload widget is only available when the cell has been executed in the\n",
              "      current browser session. Please rerun this cell to enable.\n",
              "      </output>\n",
              "      <script>// Copyright 2017 Google LLC\n",
              "//\n",
              "// Licensed under the Apache License, Version 2.0 (the \"License\");\n",
              "// you may not use this file except in compliance with the License.\n",
              "// You may obtain a copy of the License at\n",
              "//\n",
              "//      http://www.apache.org/licenses/LICENSE-2.0\n",
              "//\n",
              "// Unless required by applicable law or agreed to in writing, software\n",
              "// distributed under the License is distributed on an \"AS IS\" BASIS,\n",
              "// WITHOUT WARRANTIES OR CONDITIONS OF ANY KIND, either express or implied.\n",
              "// See the License for the specific language governing permissions and\n",
              "// limitations under the License.\n",
              "\n",
              "/**\n",
              " * @fileoverview Helpers for google.colab Python module.\n",
              " */\n",
              "(function(scope) {\n",
              "function span(text, styleAttributes = {}) {\n",
              "  const element = document.createElement('span');\n",
              "  element.textContent = text;\n",
              "  for (const key of Object.keys(styleAttributes)) {\n",
              "    element.style[key] = styleAttributes[key];\n",
              "  }\n",
              "  return element;\n",
              "}\n",
              "\n",
              "// Max number of bytes which will be uploaded at a time.\n",
              "const MAX_PAYLOAD_SIZE = 100 * 1024;\n",
              "\n",
              "function _uploadFiles(inputId, outputId) {\n",
              "  const steps = uploadFilesStep(inputId, outputId);\n",
              "  const outputElement = document.getElementById(outputId);\n",
              "  // Cache steps on the outputElement to make it available for the next call\n",
              "  // to uploadFilesContinue from Python.\n",
              "  outputElement.steps = steps;\n",
              "\n",
              "  return _uploadFilesContinue(outputId);\n",
              "}\n",
              "\n",
              "// This is roughly an async generator (not supported in the browser yet),\n",
              "// where there are multiple asynchronous steps and the Python side is going\n",
              "// to poll for completion of each step.\n",
              "// This uses a Promise to block the python side on completion of each step,\n",
              "// then passes the result of the previous step as the input to the next step.\n",
              "function _uploadFilesContinue(outputId) {\n",
              "  const outputElement = document.getElementById(outputId);\n",
              "  const steps = outputElement.steps;\n",
              "\n",
              "  const next = steps.next(outputElement.lastPromiseValue);\n",
              "  return Promise.resolve(next.value.promise).then((value) => {\n",
              "    // Cache the last promise value to make it available to the next\n",
              "    // step of the generator.\n",
              "    outputElement.lastPromiseValue = value;\n",
              "    return next.value.response;\n",
              "  });\n",
              "}\n",
              "\n",
              "/**\n",
              " * Generator function which is called between each async step of the upload\n",
              " * process.\n",
              " * @param {string} inputId Element ID of the input file picker element.\n",
              " * @param {string} outputId Element ID of the output display.\n",
              " * @return {!Iterable<!Object>} Iterable of next steps.\n",
              " */\n",
              "function* uploadFilesStep(inputId, outputId) {\n",
              "  const inputElement = document.getElementById(inputId);\n",
              "  inputElement.disabled = false;\n",
              "\n",
              "  const outputElement = document.getElementById(outputId);\n",
              "  outputElement.innerHTML = '';\n",
              "\n",
              "  const pickedPromise = new Promise((resolve) => {\n",
              "    inputElement.addEventListener('change', (e) => {\n",
              "      resolve(e.target.files);\n",
              "    });\n",
              "  });\n",
              "\n",
              "  const cancel = document.createElement('button');\n",
              "  inputElement.parentElement.appendChild(cancel);\n",
              "  cancel.textContent = 'Cancel upload';\n",
              "  const cancelPromise = new Promise((resolve) => {\n",
              "    cancel.onclick = () => {\n",
              "      resolve(null);\n",
              "    };\n",
              "  });\n",
              "\n",
              "  // Wait for the user to pick the files.\n",
              "  const files = yield {\n",
              "    promise: Promise.race([pickedPromise, cancelPromise]),\n",
              "    response: {\n",
              "      action: 'starting',\n",
              "    }\n",
              "  };\n",
              "\n",
              "  cancel.remove();\n",
              "\n",
              "  // Disable the input element since further picks are not allowed.\n",
              "  inputElement.disabled = true;\n",
              "\n",
              "  if (!files) {\n",
              "    return {\n",
              "      response: {\n",
              "        action: 'complete',\n",
              "      }\n",
              "    };\n",
              "  }\n",
              "\n",
              "  for (const file of files) {\n",
              "    const li = document.createElement('li');\n",
              "    li.append(span(file.name, {fontWeight: 'bold'}));\n",
              "    li.append(span(\n",
              "        `(${file.type || 'n/a'}) - ${file.size} bytes, ` +\n",
              "        `last modified: ${\n",
              "            file.lastModifiedDate ? file.lastModifiedDate.toLocaleDateString() :\n",
              "                                    'n/a'} - `));\n",
              "    const percent = span('0% done');\n",
              "    li.appendChild(percent);\n",
              "\n",
              "    outputElement.appendChild(li);\n",
              "\n",
              "    const fileDataPromise = new Promise((resolve) => {\n",
              "      const reader = new FileReader();\n",
              "      reader.onload = (e) => {\n",
              "        resolve(e.target.result);\n",
              "      };\n",
              "      reader.readAsArrayBuffer(file);\n",
              "    });\n",
              "    // Wait for the data to be ready.\n",
              "    let fileData = yield {\n",
              "      promise: fileDataPromise,\n",
              "      response: {\n",
              "        action: 'continue',\n",
              "      }\n",
              "    };\n",
              "\n",
              "    // Use a chunked sending to avoid message size limits. See b/62115660.\n",
              "    let position = 0;\n",
              "    do {\n",
              "      const length = Math.min(fileData.byteLength - position, MAX_PAYLOAD_SIZE);\n",
              "      const chunk = new Uint8Array(fileData, position, length);\n",
              "      position += length;\n",
              "\n",
              "      const base64 = btoa(String.fromCharCode.apply(null, chunk));\n",
              "      yield {\n",
              "        response: {\n",
              "          action: 'append',\n",
              "          file: file.name,\n",
              "          data: base64,\n",
              "        },\n",
              "      };\n",
              "\n",
              "      let percentDone = fileData.byteLength === 0 ?\n",
              "          100 :\n",
              "          Math.round((position / fileData.byteLength) * 100);\n",
              "      percent.textContent = `${percentDone}% done`;\n",
              "\n",
              "    } while (position < fileData.byteLength);\n",
              "  }\n",
              "\n",
              "  // All done.\n",
              "  yield {\n",
              "    response: {\n",
              "      action: 'complete',\n",
              "    }\n",
              "  };\n",
              "}\n",
              "\n",
              "scope.google = scope.google || {};\n",
              "scope.google.colab = scope.google.colab || {};\n",
              "scope.google.colab._files = {\n",
              "  _uploadFiles,\n",
              "  _uploadFilesContinue,\n",
              "};\n",
              "})(self);\n",
              "</script> "
            ]
          },
          "metadata": {}
        }
      ]
    },
    {
      "cell_type": "markdown",
      "source": [
        "### Dataset Preparation\n",
        "Once the articles are collected, we will categorize the data into two sets:\n",
        "- **Before the Coup**: Articles published before the event.\n",
        "- **After the Coup**: Articles published after the event.\n",
        "\n",
        "In total a 50 articles were taken for \"after\".\n",
        "##TOTAL WORD COUNT: 51111\n",
        "\n",
        "Time duration of all Articles - 4th August 2024 to 5th September 2024."
      ],
      "metadata": {
        "id": "DGggVXxfVbxQ"
      }
    },
    {
      "cell_type": "markdown",
      "source": [
        "# Step 3: Data Preprocessing of Articles published after the event."
      ],
      "metadata": {
        "id": "lHwg02pDVvIi"
      }
    },
    {
      "cell_type": "markdown",
      "source": [
        "**Text Cleaning**: Remove HTML tags, special characters, stopwords, and perform stemming/lemmatization.\n"
      ],
      "metadata": {
        "id": "1DuQszajXQbQ"
      }
    },
    {
      "cell_type": "code",
      "source": [
        "!pip install python-docx\n"
      ],
      "metadata": {
        "colab": {
          "base_uri": "https://localhost:8080/"
        },
        "id": "EaqjBwdNY8Tk",
        "outputId": "24a332c9-e1f7-444a-dc19-fa9f95405f67"
      },
      "execution_count": null,
      "outputs": [
        {
          "output_type": "stream",
          "name": "stdout",
          "text": [
            "Collecting python-docx\n",
            "  Downloading python_docx-1.1.2-py3-none-any.whl.metadata (2.0 kB)\n",
            "Requirement already satisfied: lxml>=3.1.0 in /usr/local/lib/python3.10/dist-packages (from python-docx) (4.9.4)\n",
            "Requirement already satisfied: typing-extensions>=4.9.0 in /usr/local/lib/python3.10/dist-packages (from python-docx) (4.12.2)\n",
            "Downloading python_docx-1.1.2-py3-none-any.whl (244 kB)\n",
            "\u001b[?25l   \u001b[90m━━━━━━━━━━━━━━━━━━━━━━━━━━━━━━━━━━━━━━━━\u001b[0m \u001b[32m0.0/244.3 kB\u001b[0m \u001b[31m?\u001b[0m eta \u001b[36m-:--:--\u001b[0m\r\u001b[2K   \u001b[91m━━━━━━━━━━━━━━━━━━━━━━━━━━━━━━━━━━━━━━\u001b[0m\u001b[91m╸\u001b[0m\u001b[90m━\u001b[0m \u001b[32m235.5/244.3 kB\u001b[0m \u001b[31m8.1 MB/s\u001b[0m eta \u001b[36m0:00:01\u001b[0m\r\u001b[2K   \u001b[90m━━━━━━━━━━━━━━━━━━━━━━━━━━━━━━━━━━━━━━━━\u001b[0m \u001b[32m244.3/244.3 kB\u001b[0m \u001b[31m5.6 MB/s\u001b[0m eta \u001b[36m0:00:00\u001b[0m\n",
            "\u001b[?25hInstalling collected packages: python-docx\n",
            "Successfully installed python-docx-1.1.2\n"
          ]
        }
      ]
    },
    {
      "cell_type": "code",
      "source": [
        "from google.colab import files\n",
        "import docx\n",
        "import nltk\n",
        "import re\n",
        "from nltk.corpus import stopwords\n",
        "from nltk.stem import WordNetLemmatizer\n",
        "from bs4 import BeautifulSoup\n",
        "\n",
        "# Download necessary NLTK data\n",
        "nltk.download('stopwords')\n",
        "nltk.download('wordnet')\n",
        "nltk.download('punkt')\n",
        "\n",
        "# Initialize Lemmatizer and stopwords\n",
        "lemmatizer = WordNetLemmatizer()\n",
        "stop_words = set(stopwords.words('english'))\n",
        "\n",
        "# Function to clean text\n",
        "def clean_text(text):\n",
        "    # Remove HTML tags\n",
        "    soup = BeautifulSoup(text, \"html.parser\")\n",
        "    text = soup.get_text()\n",
        "\n",
        "    # Remove special characters, numbers, and punctuations\n",
        "    text = re.sub(r'[^A-Za-z\\s]', '', text)\n",
        "\n",
        "    # Convert to lowercase\n",
        "    text = text.lower()\n",
        "\n",
        "    # Tokenize the text\n",
        "    tokens = nltk.word_tokenize(text)\n",
        "\n",
        "    # Remove stopwords and perform lemmatization\n",
        "    cleaned_text = [lemmatizer.lemmatize(word) for word in tokens if word not in stop_words]\n",
        "\n",
        "    # Join the cleaned tokens back into a single string\n",
        "    return ' '.join(cleaned_text)\n",
        "\n",
        "# Upload the Data.docx file once\n",
        "uploaded = files.upload()\n",
        "\n",
        "# Access the uploaded file directly\n",
        "file_name = list(uploaded.keys())[0]  # Get the uploaded file's name\n",
        "\n",
        "# Function to read the Word file\n",
        "def read_word_file(file_name):\n",
        "    doc = docx.Document(file_name)\n",
        "    content = []\n",
        "    for paragraph in doc.paragraphs:\n",
        "        content.append(paragraph.text)\n",
        "    return \"\\n\".join(content)\n",
        "\n",
        "# Read the content of the uploaded file\n",
        "file_content = read_word_file(file_name)\n",
        "\n",
        "# Clean the content\n",
        "cleaned_content = clean_text(file_content)\n",
        "\n",
        "# Split the cleaned content into words and print the first 500 words\n",
        "words = cleaned_content.split()  # Split into individual words\n",
        "first_500_words = \" \".join(words[:500])  # Join the first 500 words back into a string\n",
        "\n",
        "# Display the first 500 words\n",
        "print(\"First 500 words of the cleaned Data.docx file:\\n\")\n",
        "print(first_500_words)\n"
      ],
      "metadata": {
        "colab": {
          "base_uri": "https://localhost:8080/",
          "height": 238
        },
        "id": "DlSds_-cZbfn",
        "outputId": "faa5cf37-4fcd-4bb0-c7c0-12a2127f4297"
      },
      "execution_count": null,
      "outputs": [
        {
          "output_type": "stream",
          "name": "stderr",
          "text": [
            "[nltk_data] Downloading package stopwords to /root/nltk_data...\n",
            "[nltk_data]   Unzipping corpora/stopwords.zip.\n",
            "[nltk_data] Downloading package wordnet to /root/nltk_data...\n",
            "[nltk_data] Downloading package punkt to /root/nltk_data...\n",
            "[nltk_data]   Unzipping tokenizers/punkt.zip.\n"
          ]
        },
        {
          "output_type": "display_data",
          "data": {
            "text/plain": [
              "<IPython.core.display.HTML object>"
            ],
            "text/html": [
              "\n",
              "     <input type=\"file\" id=\"files-9f7b030f-2c48-4734-ae6a-29a1bc041f60\" name=\"files[]\" multiple disabled\n",
              "        style=\"border:none\" />\n",
              "     <output id=\"result-9f7b030f-2c48-4734-ae6a-29a1bc041f60\">\n",
              "      Upload widget is only available when the cell has been executed in the\n",
              "      current browser session. Please rerun this cell to enable.\n",
              "      </output>\n",
              "      <script>// Copyright 2017 Google LLC\n",
              "//\n",
              "// Licensed under the Apache License, Version 2.0 (the \"License\");\n",
              "// you may not use this file except in compliance with the License.\n",
              "// You may obtain a copy of the License at\n",
              "//\n",
              "//      http://www.apache.org/licenses/LICENSE-2.0\n",
              "//\n",
              "// Unless required by applicable law or agreed to in writing, software\n",
              "// distributed under the License is distributed on an \"AS IS\" BASIS,\n",
              "// WITHOUT WARRANTIES OR CONDITIONS OF ANY KIND, either express or implied.\n",
              "// See the License for the specific language governing permissions and\n",
              "// limitations under the License.\n",
              "\n",
              "/**\n",
              " * @fileoverview Helpers for google.colab Python module.\n",
              " */\n",
              "(function(scope) {\n",
              "function span(text, styleAttributes = {}) {\n",
              "  const element = document.createElement('span');\n",
              "  element.textContent = text;\n",
              "  for (const key of Object.keys(styleAttributes)) {\n",
              "    element.style[key] = styleAttributes[key];\n",
              "  }\n",
              "  return element;\n",
              "}\n",
              "\n",
              "// Max number of bytes which will be uploaded at a time.\n",
              "const MAX_PAYLOAD_SIZE = 100 * 1024;\n",
              "\n",
              "function _uploadFiles(inputId, outputId) {\n",
              "  const steps = uploadFilesStep(inputId, outputId);\n",
              "  const outputElement = document.getElementById(outputId);\n",
              "  // Cache steps on the outputElement to make it available for the next call\n",
              "  // to uploadFilesContinue from Python.\n",
              "  outputElement.steps = steps;\n",
              "\n",
              "  return _uploadFilesContinue(outputId);\n",
              "}\n",
              "\n",
              "// This is roughly an async generator (not supported in the browser yet),\n",
              "// where there are multiple asynchronous steps and the Python side is going\n",
              "// to poll for completion of each step.\n",
              "// This uses a Promise to block the python side on completion of each step,\n",
              "// then passes the result of the previous step as the input to the next step.\n",
              "function _uploadFilesContinue(outputId) {\n",
              "  const outputElement = document.getElementById(outputId);\n",
              "  const steps = outputElement.steps;\n",
              "\n",
              "  const next = steps.next(outputElement.lastPromiseValue);\n",
              "  return Promise.resolve(next.value.promise).then((value) => {\n",
              "    // Cache the last promise value to make it available to the next\n",
              "    // step of the generator.\n",
              "    outputElement.lastPromiseValue = value;\n",
              "    return next.value.response;\n",
              "  });\n",
              "}\n",
              "\n",
              "/**\n",
              " * Generator function which is called between each async step of the upload\n",
              " * process.\n",
              " * @param {string} inputId Element ID of the input file picker element.\n",
              " * @param {string} outputId Element ID of the output display.\n",
              " * @return {!Iterable<!Object>} Iterable of next steps.\n",
              " */\n",
              "function* uploadFilesStep(inputId, outputId) {\n",
              "  const inputElement = document.getElementById(inputId);\n",
              "  inputElement.disabled = false;\n",
              "\n",
              "  const outputElement = document.getElementById(outputId);\n",
              "  outputElement.innerHTML = '';\n",
              "\n",
              "  const pickedPromise = new Promise((resolve) => {\n",
              "    inputElement.addEventListener('change', (e) => {\n",
              "      resolve(e.target.files);\n",
              "    });\n",
              "  });\n",
              "\n",
              "  const cancel = document.createElement('button');\n",
              "  inputElement.parentElement.appendChild(cancel);\n",
              "  cancel.textContent = 'Cancel upload';\n",
              "  const cancelPromise = new Promise((resolve) => {\n",
              "    cancel.onclick = () => {\n",
              "      resolve(null);\n",
              "    };\n",
              "  });\n",
              "\n",
              "  // Wait for the user to pick the files.\n",
              "  const files = yield {\n",
              "    promise: Promise.race([pickedPromise, cancelPromise]),\n",
              "    response: {\n",
              "      action: 'starting',\n",
              "    }\n",
              "  };\n",
              "\n",
              "  cancel.remove();\n",
              "\n",
              "  // Disable the input element since further picks are not allowed.\n",
              "  inputElement.disabled = true;\n",
              "\n",
              "  if (!files) {\n",
              "    return {\n",
              "      response: {\n",
              "        action: 'complete',\n",
              "      }\n",
              "    };\n",
              "  }\n",
              "\n",
              "  for (const file of files) {\n",
              "    const li = document.createElement('li');\n",
              "    li.append(span(file.name, {fontWeight: 'bold'}));\n",
              "    li.append(span(\n",
              "        `(${file.type || 'n/a'}) - ${file.size} bytes, ` +\n",
              "        `last modified: ${\n",
              "            file.lastModifiedDate ? file.lastModifiedDate.toLocaleDateString() :\n",
              "                                    'n/a'} - `));\n",
              "    const percent = span('0% done');\n",
              "    li.appendChild(percent);\n",
              "\n",
              "    outputElement.appendChild(li);\n",
              "\n",
              "    const fileDataPromise = new Promise((resolve) => {\n",
              "      const reader = new FileReader();\n",
              "      reader.onload = (e) => {\n",
              "        resolve(e.target.result);\n",
              "      };\n",
              "      reader.readAsArrayBuffer(file);\n",
              "    });\n",
              "    // Wait for the data to be ready.\n",
              "    let fileData = yield {\n",
              "      promise: fileDataPromise,\n",
              "      response: {\n",
              "        action: 'continue',\n",
              "      }\n",
              "    };\n",
              "\n",
              "    // Use a chunked sending to avoid message size limits. See b/62115660.\n",
              "    let position = 0;\n",
              "    do {\n",
              "      const length = Math.min(fileData.byteLength - position, MAX_PAYLOAD_SIZE);\n",
              "      const chunk = new Uint8Array(fileData, position, length);\n",
              "      position += length;\n",
              "\n",
              "      const base64 = btoa(String.fromCharCode.apply(null, chunk));\n",
              "      yield {\n",
              "        response: {\n",
              "          action: 'append',\n",
              "          file: file.name,\n",
              "          data: base64,\n",
              "        },\n",
              "      };\n",
              "\n",
              "      let percentDone = fileData.byteLength === 0 ?\n",
              "          100 :\n",
              "          Math.round((position / fileData.byteLength) * 100);\n",
              "      percent.textContent = `${percentDone}% done`;\n",
              "\n",
              "    } while (position < fileData.byteLength);\n",
              "  }\n",
              "\n",
              "  // All done.\n",
              "  yield {\n",
              "    response: {\n",
              "      action: 'complete',\n",
              "    }\n",
              "  };\n",
              "}\n",
              "\n",
              "scope.google = scope.google || {};\n",
              "scope.google.colab = scope.google.colab || {};\n",
              "scope.google.colab._files = {\n",
              "  _uploadFiles,\n",
              "  _uploadFilesContinue,\n",
              "};\n",
              "})(self);\n",
              "</script> "
            ]
          },
          "metadata": {}
        },
        {
          "output_type": "stream",
          "name": "stdout",
          "text": [
            "Saving Data After.docx to Data After.docx\n",
            "First 500 words of the cleaned Data.docx file:\n",
            "\n",
            "new delhi aug reuters bangladesh prime minister sheikh hasinas resignationhttpswwwreuterscomworldasiapacificbangladeshprotesterscallmarchdhakadefiancecurfew week violent protest announced monday televised address army chief brought focus country history political upheaval coup country first prime minister sheikh mujibur rahman hasinas father assassinated along family member military coup brought long period military rule two coup year ended general ziaur rahman seizing power novemberziaur rahman assassinated rebel stormed government guest house chittagong city residing violence believed act small group army officer army remained loyal suppressed rebellionrahmans successor abdus sattar ousted bloodless military coup led hussein muhammad ershad took chief martiallaw administrator later assumed office president advertisement scroll continuethe army chief staged military coup backed caretaker government ruled country next two year hasina took power unhappy wage living condition revolting paramilitary force killed people capital dhaka army officer mutiny called spread nearly dozen town ended six day angry guard surrendered following series discussionsthe bangladesh army said foiled coup attempt retired serving officer driven campaign introduce sharia islamic law throughout countryangladeshs army chief general wakeruzzamanhttpswwwreuterscomworldasiapacificwhoisbangladesharmychiefwhoannouncedhasinasresignation said hasina resigned following violent antiquota protest interim government would formed lead country top news day sheikh hasina land hindon air force station near delhi seek asylum uk lakshya sen loses olympics bronze medal match sheikh hasina land hindon air force station near delhi seek asylum ukin sudden turn event bangladesh prime minister sheikh hasina succumbed protestshttpswwwthehinducomnewsinternationalfromproteststosheikhhasinaresignationtimelineofbangladeshstudentprotestarticleece tendered resignation august httpswwwthehinducomnewsinternationalsheikhasinaresignsasbangladeshpmleavescountrywithsisterarticleece reportedly reached india m hasina family sheltered country faced military coup earlier however time coup protester stormed prime minister official residence dhaka news leaving country emerged bangladesh air force c transport m hasina landed hindon air force stationhttpswwwthehinducomnewsinternationalbangladeshprotestsliveupdatesstudentsprotestaugustsheikhhasinaarticleece according source meanwhile national security advisor ajit doval leaf hindon airbase talk m hasina western air command chief pm sinha also present bsf intensifies security along indiabangladesh border wake sheikh hasina resignation wake political development bangladesh alert sounded along km border indiahttpswwwthehinducomnewsnationalbsfintensifiessecurityalongindiabangladeshborderinwakeofsheikhhasinaresignationarticleece said border security force official director generalbsf daljit singh chawdhary rushed kolkata august take stock situation here happened todaywe shortly closing live page here quick recap happened todaylocal medium report india say aircraft hasina board land hindon airbase near new delhithousands people storm hasinas official residence dhaka amid scene jubilation street head army say interim government formed pledge justice killedgeneral wakeruzzaman urge protester stop unrest amid report vandalism bangladesh prime minister sheikh hasina resigned fled country following week deadly demonstrationshttpswwwaljazeeracomnewsliveblogbangladeshprotestslivearmychieftoaddressnationamidnewprotests governmentthe removal hasina monday followed week deadly protest appears averted threat bloodshed focus move control south asian countryin address nation army chief general wakeruzzaman announced interim government run bangladesh called calm hasina ruled country close two decade boarded military helicopter monday aide told al jazeera huge crowd ignored national curfew storm palace dhaka medium report india say aircraft carrying hasina landed hindon air base near new delhi board bangladesh air force aircraft landed base ghaziabad india today news channel reported resignation came nearly people died week protest authority sought crush night deadly violence sunday killed close httpswwwaljazeeracomnewsmorethankilledasbangladeshprotestersrenewcallforhasinatoquittextatleastpeoplehaveministersheikhhasinatoresign curfew called monday huge crowd stormed prime minister palace preventing hasina delivering speech least people killed violence\n"
          ]
        }
      ]
    },
    {
      "cell_type": "markdown",
      "source": [
        "**Tokenization**: Split the text into individual tokens (words) using NLTK’s word_tokenize."
      ],
      "metadata": {
        "id": "mdwEpoChbJx0"
      }
    },
    {
      "cell_type": "code",
      "source": [
        "import nltk\n",
        "\n",
        "# Tokenize the text\n",
        "nltk.download('punkt')\n",
        "tokens = nltk.word_tokenize(cleaned_content)\n",
        "\n",
        "# Join and print the first 500 tokens\n",
        "first_500_tokens = \" \".join(tokens[:500])\n",
        "print(\"First 500 tokens after tokenization:\\n\")\n",
        "print(first_500_tokens)\n"
      ],
      "metadata": {
        "colab": {
          "base_uri": "https://localhost:8080/"
        },
        "id": "Bj03vfRZbKyL",
        "outputId": "d3ba9e85-3815-415b-e193-fefc2b9ef9fd"
      },
      "execution_count": null,
      "outputs": [
        {
          "output_type": "stream",
          "name": "stderr",
          "text": [
            "[nltk_data] Downloading package punkt to /root/nltk_data...\n",
            "[nltk_data]   Package punkt is already up-to-date!\n"
          ]
        },
        {
          "output_type": "stream",
          "name": "stdout",
          "text": [
            "First 500 tokens after tokenization:\n",
            "\n",
            "new delhi aug reuters bangladesh prime minister sheikh hasinas resignationhttpswwwreuterscomworldasiapacificbangladeshprotesterscallmarchdhakadefiancecurfew week violent protest announced monday televised address army chief brought focus country history political upheaval coup country first prime minister sheikh mujibur rahman hasinas father assassinated along family member military coup brought long period military rule two coup year ended general ziaur rahman seizing power novemberziaur rahman assassinated rebel stormed government guest house chittagong city residing violence believed act small group army officer army remained loyal suppressed rebellionrahmans successor abdus sattar ousted bloodless military coup led hussein muhammad ershad took chief martiallaw administrator later assumed office president advertisement scroll continuethe army chief staged military coup backed caretaker government ruled country next two year hasina took power unhappy wage living condition revolting paramilitary force killed people capital dhaka army officer mutiny called spread nearly dozen town ended six day angry guard surrendered following series discussionsthe bangladesh army said foiled coup attempt retired serving officer driven campaign introduce sharia islamic law throughout countryangladeshs army chief general wakeruzzamanhttpswwwreuterscomworldasiapacificwhoisbangladesharmychiefwhoannouncedhasinasresignation said hasina resigned following violent antiquota protest interim government would formed lead country top news day sheikh hasina land hindon air force station near delhi seek asylum uk lakshya sen loses olympics bronze medal match sheikh hasina land hindon air force station near delhi seek asylum ukin sudden turn event bangladesh prime minister sheikh hasina succumbed protestshttpswwwthehinducomnewsinternationalfromproteststosheikhhasinaresignationtimelineofbangladeshstudentprotestarticleece tendered resignation august httpswwwthehinducomnewsinternationalsheikhasinaresignsasbangladeshpmleavescountrywithsisterarticleece reportedly reached india m hasina family sheltered country faced military coup earlier however time coup protester stormed prime minister official residence dhaka news leaving country emerged bangladesh air force c transport m hasina landed hindon air force stationhttpswwwthehinducomnewsinternationalbangladeshprotestsliveupdatesstudentsprotestaugustsheikhhasinaarticleece according source meanwhile national security advisor ajit doval leaf hindon airbase talk m hasina western air command chief pm sinha also present bsf intensifies security along indiabangladesh border wake sheikh hasina resignation wake political development bangladesh alert sounded along km border indiahttpswwwthehinducomnewsnationalbsfintensifiessecurityalongindiabangladeshborderinwakeofsheikhhasinaresignationarticleece said border security force official director generalbsf daljit singh chawdhary rushed kolkata august take stock situation here happened todaywe shortly closing live page here quick recap happened todaylocal medium report india say aircraft hasina board land hindon airbase near new delhithousands people storm hasinas official residence dhaka amid scene jubilation street head army say interim government formed pledge justice killedgeneral wakeruzzaman urge protester stop unrest amid report vandalism bangladesh prime minister sheikh hasina resigned fled country following week deadly demonstrationshttpswwwaljazeeracomnewsliveblogbangladeshprotestslivearmychieftoaddressnationamidnewprotests governmentthe removal hasina monday followed week deadly protest appears averted threat bloodshed focus move control south asian countryin address nation army chief general wakeruzzaman announced interim government run bangladesh called calm hasina ruled country close two decade boarded military helicopter monday aide told al jazeera huge crowd ignored national curfew storm palace dhaka medium report india say aircraft carrying hasina landed hindon air base near new delhi board bangladesh air force aircraft landed base ghaziabad india today news channel reported resignation came nearly people died week protest authority sought crush night deadly violence sunday killed close httpswwwaljazeeracomnewsmorethankilledasbangladeshprotestersrenewcallforhasinatoquittextatleastpeoplehaveministersheikhhasinatoresign curfew called monday huge crowd stormed prime minister palace preventing hasina delivering speech least people killed violence\n"
          ]
        }
      ]
    },
    {
      "cell_type": "markdown",
      "source": [
        "**Stopword Removal**: Use NLTK’s built-in stopword corpus to filter out common, non-informative words."
      ],
      "metadata": {
        "id": "RF9K4bYpbRwZ"
      }
    },
    {
      "cell_type": "code",
      "source": [
        "from nltk.corpus import stopwords\n",
        "\n",
        "# Download stopwords if not done already\n",
        "nltk.download('stopwords')\n",
        "stop_words = set(stopwords.words('english'))\n",
        "\n",
        "# Remove stopwords\n",
        "filtered_tokens = [word for word in tokens if word.lower() not in stop_words]\n",
        "\n",
        "# Join and print the first 500 filtered tokens\n",
        "first_500_filtered = \" \".join(filtered_tokens[:500])\n",
        "print(\"First 500 words after stopword removal:\\n\")\n",
        "print(first_500_filtered)\n"
      ],
      "metadata": {
        "colab": {
          "base_uri": "https://localhost:8080/"
        },
        "id": "etQPgsnCbUI4",
        "outputId": "256a8c7e-a3b0-41d6-8c19-d4ac030985b8"
      },
      "execution_count": null,
      "outputs": [
        {
          "output_type": "stream",
          "name": "stdout",
          "text": [
            "First 500 words after stopword removal:\n",
            "\n",
            "new delhi aug reuters bangladesh prime minister sheikh hasinas resignationhttpswwwreuterscomworldasiapacificbangladeshprotesterscallmarchdhakadefiancecurfew week violent protest announced monday televised address army chief brought focus country history political upheaval coup country first prime minister sheikh mujibur rahman hasinas father assassinated along family member military coup brought long period military rule two coup year ended general ziaur rahman seizing power novemberziaur rahman assassinated rebel stormed government guest house chittagong city residing violence believed act small group army officer army remained loyal suppressed rebellionrahmans successor abdus sattar ousted bloodless military coup led hussein muhammad ershad took chief martiallaw administrator later assumed office president advertisement scroll continuethe army chief staged military coup backed caretaker government ruled country next two year hasina took power unhappy wage living condition revolting paramilitary force killed people capital dhaka army officer mutiny called spread nearly dozen town ended six day angry guard surrendered following series discussionsthe bangladesh army said foiled coup attempt retired serving officer driven campaign introduce sharia islamic law throughout countryangladeshs army chief general wakeruzzamanhttpswwwreuterscomworldasiapacificwhoisbangladesharmychiefwhoannouncedhasinasresignation said hasina resigned following violent antiquota protest interim government would formed lead country top news day sheikh hasina land hindon air force station near delhi seek asylum uk lakshya sen loses olympics bronze medal match sheikh hasina land hindon air force station near delhi seek asylum ukin sudden turn event bangladesh prime minister sheikh hasina succumbed protestshttpswwwthehinducomnewsinternationalfromproteststosheikhhasinaresignationtimelineofbangladeshstudentprotestarticleece tendered resignation august httpswwwthehinducomnewsinternationalsheikhasinaresignsasbangladeshpmleavescountrywithsisterarticleece reportedly reached india hasina family sheltered country faced military coup earlier however time coup protester stormed prime minister official residence dhaka news leaving country emerged bangladesh air force c transport hasina landed hindon air force stationhttpswwwthehinducomnewsinternationalbangladeshprotestsliveupdatesstudentsprotestaugustsheikhhasinaarticleece according source meanwhile national security advisor ajit doval leaf hindon airbase talk hasina western air command chief pm sinha also present bsf intensifies security along indiabangladesh border wake sheikh hasina resignation wake political development bangladesh alert sounded along km border indiahttpswwwthehinducomnewsnationalbsfintensifiessecurityalongindiabangladeshborderinwakeofsheikhhasinaresignationarticleece said border security force official director generalbsf daljit singh chawdhary rushed kolkata august take stock situation happened todaywe shortly closing live page quick recap happened todaylocal medium report india say aircraft hasina board land hindon airbase near new delhithousands people storm hasinas official residence dhaka amid scene jubilation street head army say interim government formed pledge justice killedgeneral wakeruzzaman urge protester stop unrest amid report vandalism bangladesh prime minister sheikh hasina resigned fled country following week deadly demonstrationshttpswwwaljazeeracomnewsliveblogbangladeshprotestslivearmychieftoaddressnationamidnewprotests governmentthe removal hasina monday followed week deadly protest appears averted threat bloodshed focus move control south asian countryin address nation army chief general wakeruzzaman announced interim government run bangladesh called calm hasina ruled country close two decade boarded military helicopter monday aide told al jazeera huge crowd ignored national curfew storm palace dhaka medium report india say aircraft carrying hasina landed hindon air base near new delhi board bangladesh air force aircraft landed base ghaziabad india today news channel reported resignation came nearly people died week protest authority sought crush night deadly violence sunday killed close httpswwwaljazeeracomnewsmorethankilledasbangladeshprotestersrenewcallforhasinatoquittextatleastpeoplehaveministersheikhhasinatoresign curfew called monday huge crowd stormed prime minister palace preventing hasina delivering speech least people killed violence dhaka protester stormed building police\n"
          ]
        },
        {
          "output_type": "stream",
          "name": "stderr",
          "text": [
            "[nltk_data] Downloading package stopwords to /root/nltk_data...\n",
            "[nltk_data]   Package stopwords is already up-to-date!\n"
          ]
        }
      ]
    },
    {
      "cell_type": "markdown",
      "source": [
        "**Vectorization**: Convert text into numerical data using Count Vectorization or TF-IDF."
      ],
      "metadata": {
        "id": "vqCy3AxIbXjX"
      }
    },
    {
      "cell_type": "code",
      "source": [
        "from sklearn.feature_extraction.text import CountVectorizer\n",
        "\n",
        "# Initialize CountVectorizer\n",
        "vectorizer = CountVectorizer()\n",
        "X = vectorizer.fit_transform(filtered_tokens)\n",
        "\n",
        "# Get feature names and print first 500\n",
        "features = vectorizer.get_feature_names_out()\n",
        "print(\"First 500 features from Count Vectorization:\\n\")\n",
        "print(features[:500])\n"
      ],
      "metadata": {
        "colab": {
          "base_uri": "https://localhost:8080/"
        },
        "id": "BlAVY71CbaZV",
        "outputId": "5a7ed457-119d-46c3-9f14-fd04021fdd82"
      },
      "execution_count": null,
      "outputs": [
        {
          "output_type": "stream",
          "name": "stdout",
          "text": [
            "First 500 features from Count Vectorization:\n",
            "\n",
            "['abandoned' 'abating' 'abc' 'abducted' 'abduction' 'abdul' 'abdullah'\n",
            " 'abdur' 'abdus' 'ability' 'able' 'abm' 'abolish' 'abolished' 'abolishing'\n",
            " 'abortion' 'abroad' 'abrupt' 'abruptly' 'absence' 'absolute' 'absolutely'\n",
            " 'absorbed' 'absorption' 'abu' 'abul' 'abuse' 'academy' 'accept'\n",
            " 'acceptability' 'acceptable' 'accepted' 'access' 'accident'\n",
            " 'accompanying' 'accord' 'accordance' 'according' 'account'\n",
            " 'accountability' 'accountable' 'accounting' 'accumulated' 'accurate'\n",
            " 'accusation' 'accuse' 'accused' 'accusing' 'achieve' 'achieved'\n",
            " 'achievement' 'achieving' 'acid' 'acknowledge' 'acknowledged' 'acquire'\n",
            " 'acquiring' 'acrid' 'across' 'act' 'acted' 'acting' 'action' 'active'\n",
            " 'activism' 'activist' 'activity' 'actor' 'adamant' 'adaption' 'add'\n",
            " 'added' 'adding' 'addition' 'additional' 'additionally' 'address'\n",
            " 'addressed' 'addressing' 'adequate' 'adhyay' 'adjutant' 'administration'\n",
            " 'administrative' 'administrator' 'admission' 'admit' 'admitted' 'adnal'\n",
            " 'adolescent' 'adopting' 'advance' 'advanced' 'advantage' 'adversely'\n",
            " 'advertisement' 'advice' 'adviser' 'advisor' 'advocacy' 'advocated'\n",
            " 'affair' 'affect' 'affected' 'affecting' 'affiliation' 'affinity'\n",
            " 'afford' 'afghanistan' 'afm' 'afp' 'aftermath' 'afternoon' 'againsts'\n",
            " 'agartala' 'age' 'aged' 'agency' 'agenda' 'agent' 'aggressive'\n",
            " 'agitation' 'ago' 'agonising' 'agreed' 'agreeing' 'agreement' 'agrees'\n",
            " 'ahead' 'ahm' 'ahmad' 'ahmed' 'aid' 'aide' 'aided' 'aim' 'aimed' 'air'\n",
            " 'aira' 'airbase' 'airborne' 'aircraft' 'aire' 'airport' 'ajit' 'ak'\n",
            " 'akbar' 'akhaura' 'akm' 'akter' 'al' 'alamepaefe' 'alamgir' 'alarming'\n",
            " 'alert' 'alerted' 'algeria' 'alhamdulillah' 'ali' 'alight' 'align'\n",
            " 'aligned' 'alive' 'allahu' 'allay' 'allegation' 'alleged' 'allegedly'\n",
            " 'alleges' 'allegiance' 'alleviation' 'alliance' 'allied' 'allocated'\n",
            " 'allocating' 'allocation' 'allow' 'allowed' 'allpowerful' 'ally' 'almost'\n",
            " 'alo' 'alone' 'along' 'already' 'also' 'alternative' 'alternatively'\n",
            " 'although' 'altogether' 'always' 'amassed' 'ambassador' 'ambition'\n",
            " 'ambitious' 'ambulance' 'amend' 'america' 'americabe' 'american' 'ami'\n",
            " 'amicable' 'amid' 'amidst' 'amin' 'amir' 'amnesty' 'among' 'amongst'\n",
            " 'amount' 'amounted' 'amounting' 'amplified' 'amplifies' 'analysis'\n",
            " 'analysisbangladeshs' 'analyst' 'analytics' 'ananya' 'anarchic'\n",
            " 'anarchist' 'anarchy' 'anbarasan' 'anger' 'angry' 'anguish' 'ani'\n",
            " 'animal' 'animosity' 'anjuman' 'annexing' 'announce' 'announced'\n",
            " 'announcement' 'announces' 'annoyed' 'annual' 'anonymity' 'another'\n",
            " 'ansar' 'answer' 'antiaircraft' 'anticipate' 'antidepressant'\n",
            " 'antiepileptic' 'antigovernment' 'antihasina' 'antihindu' 'antiindia'\n",
            " 'antipsychotic' 'antiquota' 'antitank' 'antnio' 'anup' 'anxiety'\n",
            " 'anxiolytic' 'anxious' 'anymore' 'anyone' 'anything' 'ap' 'apalachee'\n",
            " 'apart' 'apex' 'apology' 'apparently' 'appeal' 'appealed' 'appear'\n",
            " 'appeared' 'appears' 'appeasement' 'appellate' 'appetite' 'applicant'\n",
            " 'application' 'applied' 'applique' 'appoint' 'appointed' 'appointing'\n",
            " 'appointment' 'appoints' 'appreciate' 'apprehension' 'apprehensive'\n",
            " 'approach' 'approximately' 'april' 'arab' 'arabia' 'arbitrarily'\n",
            " 'arbitrary' 'arbitrator' 'arch' 'area' 'arent' 'argentina' 'arguably'\n",
            " 'argue' 'argued' 'arguing' 'arif' 'arise' 'arises' 'arising' 'arm'\n",
            " 'armed' 'armoured' 'army' 'armyin' 'arose' 'around' 'arrangement'\n",
            " 'arrest' 'arrested' 'arresting' 'arrived' 'arrives' 'arrowdown' 'arson'\n",
            " 'art' 'article' 'articulate' 'artificial' 'artillery' 'artwork' 'arzu'\n",
            " 'asadagence' 'asadullah' 'ashram' 'asia' 'asian' 'aside' 'ask' 'asked'\n",
            " 'asks' 'aspiration' 'ass' 'assam' 'assassin' 'assassinate' 'assassinated'\n",
            " 'assassinating' 'assassination' 'assault' 'assaulted' 'assembly'\n",
            " 'assessment' 'asset' 'assiduously' 'assign' 'assist' 'assistance'\n",
            " 'assistant' 'assisting' 'associate' 'associated' 'association' 'assumed'\n",
            " 'assumes' 'assured' 'astute' 'asylum' 'asymmetry' 'atal' 'atmosphere'\n",
            " 'atrocity' 'attached' 'attack' 'attacked' 'attacker' 'attacking'\n",
            " 'attempt' 'attempted' 'attempting' 'attend' 'attending' 'attention'\n",
            " 'attitude' 'attracted' 'attracting' 'attributable' 'attributed' 'aug'\n",
            " 'august' 'australia' 'australian' 'author' 'authoritarian'\n",
            " 'authoritarianism' 'authority' 'autism' 'autocracy' 'autocratic'\n",
            " 'availability' 'available' 'average' 'averted' 'avinash' 'avoid'\n",
            " 'avoiding' 'await' 'awaited' 'awaiting' 'awaits' 'awami' 'awardee'\n",
            " 'awarding' 'awardwinning' 'awareness' 'away' 'awkward' 'ayesha' 'ayub'\n",
            " 'aziz' 'azizur' 'baba' 'babu' 'baby' 'bacchu' 'back' 'backdrop' 'backed'\n",
            " 'backer' 'backfired' 'background' 'backing' 'backlash' 'backsliding'\n",
            " 'bad' 'baffled' 'bahini' 'bail' 'bailout' 'bailouts' 'baksal' 'balance'\n",
            " 'balancing' 'ball' 'ballot' 'balsillie' 'ban' 'banani' 'bandhan'\n",
            " 'bangabandhu' 'bangabandhus' 'bangabondhu' 'bangaldesh' 'bangkok'\n",
            " 'bangla' 'bangladesh' 'bangladeshbased' 'bangladeshhow' 'bangladeshi'\n",
            " 'bangladeshiamerican' 'bangladeshindia' 'bangladeshiswho'\n",
            " 'bangladeshisyoung' 'bangladeshon' 'bangladeshrelated' 'bangladeshthe'\n",
            " 'bangosagar' 'bank' 'bankand' 'banker' 'banking' 'bankruptcy'\n",
            " 'bankrupting' 'banned' 'banner' 'banning' 'banshkhali' 'barely' 'barrack'\n",
            " 'barrage' 'barricade' 'barrier' 'barring' 'base' 'based' 'basel' 'bashar'\n",
            " 'bashing' 'basic' 'basin' 'basis' 'basu' 'batch' 'bath' 'bathroom'\n",
            " 'baton' 'battalion' 'battle' 'battled' 'battleground' 'battling' 'bay'\n",
            " 'bayonet' 'bayonetsa']\n"
          ]
        }
      ]
    },
    {
      "cell_type": "markdown",
      "source": [
        "**POS Tagging**: Use NLTK’s averaged_perceptron_tagger to tag parts of speech, which could be used as features."
      ],
      "metadata": {
        "id": "ea9L1Wckbqyx"
      }
    },
    {
      "cell_type": "code",
      "source": [
        "nltk.download('averaged_perceptron_tagger')\n"
      ],
      "metadata": {
        "colab": {
          "base_uri": "https://localhost:8080/"
        },
        "id": "nqQxSSrIcBvc",
        "outputId": "7f0b1fe5-16d6-4f72-df84-6345a030087a"
      },
      "execution_count": null,
      "outputs": [
        {
          "output_type": "stream",
          "name": "stderr",
          "text": [
            "[nltk_data] Downloading package averaged_perceptron_tagger to\n",
            "[nltk_data]     /root/nltk_data...\n",
            "[nltk_data]   Unzipping taggers/averaged_perceptron_tagger.zip.\n"
          ]
        },
        {
          "output_type": "execute_result",
          "data": {
            "text/plain": [
              "True"
            ]
          },
          "metadata": {},
          "execution_count": 9
        }
      ]
    },
    {
      "cell_type": "code",
      "source": [
        "# Download necessary POS tagger from NLTK\n",
        "nltk.download('averaged_perceptron_tagger')\n",
        "\n",
        "# Perform POS tagging\n",
        "pos_tags = nltk.pos_tag(filtered_tokens)\n",
        "\n",
        "# Print the first 500 POS tags\n",
        "\n",
        "first_500_pos = pos_tags[:500]\n",
        "print(\"First 500 POS tags:\\n\")\n",
        "print(first_500_pos)\n"
      ],
      "metadata": {
        "colab": {
          "base_uri": "https://localhost:8080/"
        },
        "id": "MKsiUNPPcC6_",
        "outputId": "7e243fc6-e44c-47a8-fd90-5c65d664eb99"
      },
      "execution_count": null,
      "outputs": [
        {
          "output_type": "stream",
          "name": "stderr",
          "text": [
            "[nltk_data] Downloading package averaged_perceptron_tagger to\n",
            "[nltk_data]     /root/nltk_data...\n",
            "[nltk_data]   Package averaged_perceptron_tagger is already up-to-\n",
            "[nltk_data]       date!\n"
          ]
        },
        {
          "output_type": "stream",
          "name": "stdout",
          "text": [
            "First 500 POS tags:\n",
            "\n",
            "[('new', 'JJ'), ('delhi', 'NN'), ('aug', 'NN'), ('reuters', 'NNS'), ('bangladesh', 'VBP'), ('prime', 'JJ'), ('minister', 'NN'), ('sheikh', 'NN'), ('hasinas', 'NNS'), ('resignationhttpswwwreuterscomworldasiapacificbangladeshprotesterscallmarchdhakadefiancecurfew', 'VBP'), ('week', 'NN'), ('violent', 'JJ'), ('protest', 'NN'), ('announced', 'VBD'), ('monday', 'RB'), ('televised', 'VBN'), ('address', 'NN'), ('army', 'NN'), ('chief', 'NN'), ('brought', 'VBD'), ('focus', 'JJ'), ('country', 'NN'), ('history', 'NN'), ('political', 'JJ'), ('upheaval', 'NN'), ('coup', 'NN'), ('country', 'NN'), ('first', 'JJ'), ('prime', 'JJ'), ('minister', 'NN'), ('sheikh', 'NN'), ('mujibur', 'NN'), ('rahman', 'NN'), ('hasinas', 'VBZ'), ('father', 'RB'), ('assassinated', 'VBN'), ('along', 'IN'), ('family', 'NN'), ('member', 'NN'), ('military', 'JJ'), ('coup', 'NN'), ('brought', 'VBD'), ('long', 'JJ'), ('period', 'NN'), ('military', 'JJ'), ('rule', 'NN'), ('two', 'CD'), ('coup', 'NN'), ('year', 'NN'), ('ended', 'VBN'), ('general', 'JJ'), ('ziaur', 'NNP'), ('rahman', 'NN'), ('seizing', 'VBG'), ('power', 'NN'), ('novemberziaur', 'JJ'), ('rahman', 'NN'), ('assassinated', 'VBD'), ('rebel', 'NN'), ('stormed', 'JJ'), ('government', 'NN'), ('guest', 'JJS'), ('house', 'NN'), ('chittagong', 'JJ'), ('city', 'NN'), ('residing', 'VBG'), ('violence', 'NN'), ('believed', 'VBN'), ('act', 'IN'), ('small', 'JJ'), ('group', 'NN'), ('army', 'JJ'), ('officer', 'NN'), ('army', 'NN'), ('remained', 'VBD'), ('loyal', 'JJ'), ('suppressed', 'JJ'), ('rebellionrahmans', 'NNS'), ('successor', 'VBP'), ('abdus', 'JJ'), ('sattar', 'NN'), ('ousted', 'VBD'), ('bloodless', 'JJ'), ('military', 'JJ'), ('coup', 'NN'), ('led', 'VBD'), ('hussein', 'JJ'), ('muhammad', 'NN'), ('ershad', 'VBD'), ('took', 'VBD'), ('chief', 'JJ'), ('martiallaw', 'NN'), ('administrator', 'NN'), ('later', 'RB'), ('assumed', 'VBN'), ('office', 'NN'), ('president', 'NN'), ('advertisement', 'NN'), ('scroll', 'VBD'), ('continuethe', 'JJ'), ('army', 'NN'), ('chief', 'NN'), ('staged', 'VBD'), ('military', 'JJ'), ('coup', 'NN'), ('backed', 'VBD'), ('caretaker', 'JJ'), ('government', 'NN'), ('ruled', 'VBD'), ('country', 'NN'), ('next', 'IN'), ('two', 'CD'), ('year', 'NN'), ('hasina', 'NN'), ('took', 'VBD'), ('power', 'NN'), ('unhappy', 'JJ'), ('wage', 'NN'), ('living', 'VBG'), ('condition', 'NN'), ('revolting', 'VBG'), ('paramilitary', 'JJ'), ('force', 'NN'), ('killed', 'VBD'), ('people', 'NNS'), ('capital', 'NN'), ('dhaka', 'JJ'), ('army', 'NN'), ('officer', 'NN'), ('mutiny', 'NN'), ('called', 'VBN'), ('spread', 'VBP'), ('nearly', 'RB'), ('dozen', 'NN'), ('town', 'NN'), ('ended', 'VBD'), ('six', 'CD'), ('day', 'NN'), ('angry', 'JJ'), ('guard', 'NN'), ('surrendered', 'VBD'), ('following', 'VBG'), ('series', 'NN'), ('discussionsthe', 'NNS'), ('bangladesh', 'JJ'), ('army', 'NN'), ('said', 'VBD'), ('foiled', 'VBN'), ('coup', 'NN'), ('attempt', 'NN'), ('retired', 'VBD'), ('serving', 'VBG'), ('officer', 'NN'), ('driven', 'VBN'), ('campaign', 'NN'), ('introduce', 'NN'), ('sharia', 'VBP'), ('islamic', 'JJ'), ('law', 'NN'), ('throughout', 'IN'), ('countryangladeshs', 'JJ'), ('army', 'NN'), ('chief', 'NN'), ('general', 'JJ'), ('wakeruzzamanhttpswwwreuterscomworldasiapacificwhoisbangladesharmychiefwhoannouncedhasinasresignation', 'NN'), ('said', 'VBD'), ('hasina', 'NN'), ('resigned', 'VBD'), ('following', 'VBG'), ('violent', 'JJ'), ('antiquota', 'JJ'), ('protest', 'NN'), ('interim', 'JJ'), ('government', 'NN'), ('would', 'MD'), ('formed', 'VB'), ('lead', 'JJ'), ('country', 'NN'), ('top', 'JJ'), ('news', 'NN'), ('day', 'NN'), ('sheikh', 'VB'), ('hasina', 'NN'), ('land', 'NN'), ('hindon', 'VBP'), ('air', 'NN'), ('force', 'NN'), ('station', 'NN'), ('near', 'IN'), ('delhi', 'JJ'), ('seek', 'NN'), ('asylum', 'NN'), ('uk', 'JJ'), ('lakshya', 'JJ'), ('sen', 'NN'), ('loses', 'VBZ'), ('olympics', 'NNS'), ('bronze', 'JJ'), ('medal', 'JJ'), ('match', 'NN'), ('sheikh', 'NN'), ('hasina', 'NN'), ('land', 'NN'), ('hindon', 'VBP'), ('air', 'NN'), ('force', 'NN'), ('station', 'NN'), ('near', 'IN'), ('delhi', 'JJ'), ('seek', 'NN'), ('asylum', 'NN'), ('ukin', 'JJ'), ('sudden', 'JJ'), ('turn', 'NN'), ('event', 'NN'), ('bangladesh', 'JJ'), ('prime', 'JJ'), ('minister', 'NN'), ('sheikh', 'NN'), ('hasina', 'NN'), ('succumbed', 'VBD'), ('protestshttpswwwthehinducomnewsinternationalfromproteststosheikhhasinaresignationtimelineofbangladeshstudentprotestarticleece', 'RB'), ('tendered', 'VBN'), ('resignation', 'NN'), ('august', 'NN'), ('httpswwwthehinducomnewsinternationalsheikhasinaresignsasbangladeshpmleavescountrywithsisterarticleece', 'NN'), ('reportedly', 'RB'), ('reached', 'VBD'), ('india', 'JJ'), ('hasina', 'JJ'), ('family', 'NN'), ('sheltered', 'VBD'), ('country', 'NN'), ('faced', 'VBD'), ('military', 'JJ'), ('coup', 'NN'), ('earlier', 'RBR'), ('however', 'RB'), ('time', 'NN'), ('coup', 'NN'), ('protester', 'NN'), ('stormed', 'VBD'), ('prime', 'JJ'), ('minister', 'NN'), ('official', 'NN'), ('residence', 'NN'), ('dhaka', 'JJ'), ('news', 'NN'), ('leaving', 'VBG'), ('country', 'NN'), ('emerged', 'VBD'), ('bangladesh', 'JJ'), ('air', 'NN'), ('force', 'NN'), ('c', 'NN'), ('transport', 'NN'), ('hasina', 'NN'), ('landed', 'VBD'), ('hindon', 'JJ'), ('air', 'NN'), ('force', 'NN'), ('stationhttpswwwthehinducomnewsinternationalbangladeshprotestsliveupdatesstudentsprotestaugustsheikhhasinaarticleece', 'NN'), ('according', 'VBG'), ('source', 'NN'), ('meanwhile', 'JJ'), ('national', 'JJ'), ('security', 'NN'), ('advisor', 'NN'), ('ajit', 'NN'), ('doval', 'NN'), ('leaf', 'NN'), ('hindon', 'NN'), ('airbase', 'NN'), ('talk', 'NN'), ('hasina', 'NN'), ('western', 'JJ'), ('air', 'NN'), ('command', 'VBP'), ('chief', 'NN'), ('pm', 'NN'), ('sinha', 'NN'), ('also', 'RB'), ('present', 'JJ'), ('bsf', 'NN'), ('intensifies', 'NNS'), ('security', 'NN'), ('along', 'IN'), ('indiabangladesh', 'JJ'), ('border', 'NN'), ('wake', 'NN'), ('sheikh', 'JJ'), ('hasina', 'NN'), ('resignation', 'NN'), ('wake', 'VB'), ('political', 'JJ'), ('development', 'NN'), ('bangladesh', 'NN'), ('alert', 'NN'), ('sounded', 'VBD'), ('along', 'RB'), ('km', 'JJ'), ('border', 'NN'), ('indiahttpswwwthehinducomnewsnationalbsfintensifiessecurityalongindiabangladeshborderinwakeofsheikhhasinaresignationarticleece', 'NN'), ('said', 'VBD'), ('border', 'JJR'), ('security', 'NN'), ('force', 'NN'), ('official', 'NN'), ('director', 'NN'), ('generalbsf', 'VBD'), ('daljit', 'JJ'), ('singh', 'NN'), ('chawdhary', 'NN'), ('rushed', 'VBD'), ('kolkata', 'JJ'), ('august', 'NNS'), ('take', 'VB'), ('stock', 'NN'), ('situation', 'NN'), ('happened', 'VBD'), ('todaywe', 'RB'), ('shortly', 'RB'), ('closing', 'VBG'), ('live', 'JJ'), ('page', 'NN'), ('quick', 'JJ'), ('recap', 'NN'), ('happened', 'VBD'), ('todaylocal', 'JJ'), ('medium', 'NN'), ('report', 'NN'), ('india', 'NNS'), ('say', 'VBP'), ('aircraft', 'NN'), ('hasina', 'NN'), ('board', 'NN'), ('land', 'NN'), ('hindon', 'VB'), ('airbase', 'NN'), ('near', 'IN'), ('new', 'JJ'), ('delhithousands', 'NNS'), ('people', 'NNS'), ('storm', 'VBP'), ('hasinas', 'JJ'), ('official', 'JJ'), ('residence', 'NN'), ('dhaka', 'NN'), ('amid', 'IN'), ('scene', 'NN'), ('jubilation', 'NN'), ('street', 'NN'), ('head', 'JJ'), ('army', 'NNS'), ('say', 'VBP'), ('interim', 'JJ'), ('government', 'NN'), ('formed', 'VBD'), ('pledge', 'NN'), ('justice', 'NN'), ('killedgeneral', 'JJ'), ('wakeruzzaman', 'NN'), ('urge', 'NN'), ('protester', 'NN'), ('stop', 'VB'), ('unrest', 'NN'), ('amid', 'IN'), ('report', 'NN'), ('vandalism', 'NN'), ('bangladesh', 'JJ'), ('prime', 'JJ'), ('minister', 'NN'), ('sheikh', 'NN'), ('hasina', 'NN'), ('resigned', 'VBD'), ('fled', 'JJ'), ('country', 'NN'), ('following', 'VBG'), ('week', 'NN'), ('deadly', 'RB'), ('demonstrationshttpswwwaljazeeracomnewsliveblogbangladeshprotestslivearmychieftoaddressnationamidnewprotests', 'VBZ'), ('governmentthe', 'JJ'), ('removal', 'NN'), ('hasina', 'NN'), ('monday', 'NN'), ('followed', 'VBD'), ('week', 'NN'), ('deadly', 'RB'), ('protest', 'JJ'), ('appears', 'VBZ'), ('averted', 'JJ'), ('threat', 'NN'), ('bloodshed', 'VBD'), ('focus', 'RB'), ('move', 'VB'), ('control', 'NN'), ('south', 'JJ'), ('asian', 'JJ'), ('countryin', 'NN'), ('address', 'NN'), ('nation', 'NN'), ('army', 'NN'), ('chief', 'NN'), ('general', 'JJ'), ('wakeruzzaman', 'NN'), ('announced', 'VBD'), ('interim', 'JJ'), ('government', 'NN'), ('run', 'NN'), ('bangladesh', 'RB'), ('called', 'VBD'), ('calm', 'JJ'), ('hasina', 'NN'), ('ruled', 'VBD'), ('country', 'NN'), ('close', 'RB'), ('two', 'CD'), ('decade', 'NN'), ('boarded', 'VBD'), ('military', 'JJ'), ('helicopter', 'NN'), ('monday', 'JJ'), ('aide', 'RB'), ('told', 'VBD'), ('al', 'JJ'), ('jazeera', 'NN'), ('huge', 'JJ'), ('crowd', 'NN'), ('ignored', 'VBD'), ('national', 'JJ'), ('curfew', 'NN'), ('storm', 'NN'), ('palace', 'NN'), ('dhaka', 'NN'), ('medium', 'NN'), ('report', 'NN'), ('india', 'NNS'), ('say', 'VBP'), ('aircraft', 'NN'), ('carrying', 'VBG'), ('hasina', 'NN'), ('landed', 'VBD'), ('hindon', 'JJ'), ('air', 'NN'), ('base', 'NN'), ('near', 'IN'), ('new', 'JJ'), ('delhi', 'NNS'), ('board', 'NN'), ('bangladesh', 'VBP'), ('air', 'NN'), ('force', 'NN'), ('aircraft', 'NN'), ('landed', 'VBD'), ('base', 'NN'), ('ghaziabad', 'NN'), ('india', 'NN'), ('today', 'NN'), ('news', 'NN'), ('channel', 'NN'), ('reported', 'VBD'), ('resignation', 'NN'), ('came', 'VBD'), ('nearly', 'RB'), ('people', 'NNS'), ('died', 'VBD'), ('week', 'NN'), ('protest', 'NN'), ('authority', 'NN'), ('sought', 'VBD'), ('crush', 'NN'), ('night', 'NN'), ('deadly', 'RB'), ('violence', 'NN'), ('sunday', 'NN'), ('killed', 'VBD'), ('close', 'JJ'), ('httpswwwaljazeeracomnewsmorethankilledasbangladeshprotestersrenewcallforhasinatoquittextatleastpeoplehaveministersheikhhasinatoresign', 'NN'), ('curfew', 'NN'), ('called', 'VBN'), ('monday', 'RB'), ('huge', 'JJ'), ('crowd', 'NN'), ('stormed', 'VBD'), ('prime', 'JJ'), ('minister', 'NN'), ('palace', 'NN'), ('preventing', 'VBG'), ('hasina', 'NN'), ('delivering', 'VBG'), ('speech', 'JJ'), ('least', 'JJS'), ('people', 'NNS'), ('killed', 'VBD'), ('violence', 'NN'), ('dhaka', 'NN'), ('protester', 'NN'), ('stormed', 'VBD'), ('building', 'NN'), ('police', 'NN')]\n"
          ]
        }
      ]
    },
    {
      "cell_type": "markdown",
      "source": [
        "# Step 4: Exploratory Data Analysis (EDA)\n"
      ],
      "metadata": {
        "id": "20AU8gOFceuF"
      }
    },
    {
      "cell_type": "markdown",
      "source": [
        "### 1. Word Frequency Analysis\n",
        "We will perform word frequency analysis to identify the most common words and phrases in the dataset. Using NLTK’s `FreqDist`, we can compute the frequency of each word after cleaning and tokenization."
      ],
      "metadata": {
        "id": "clW2WiskciZK"
      }
    },
    {
      "cell_type": "code",
      "source": [
        "import nltk\n",
        "from nltk.probability import FreqDist\n",
        "import matplotlib.pyplot as plt\n",
        "\n",
        "# Perform word frequency analysis\n",
        "freq_dist = FreqDist(filtered_tokens)\n",
        "\n",
        "# Plot the 20 most common words\n",
        "freq_dist.plot(20, title=\"Top 20 Most Common Words\")\n"
      ],
      "metadata": {
        "colab": {
          "base_uri": "https://localhost:8080/",
          "height": 560
        },
        "id": "81CwMY4bdI7s",
        "outputId": "1e142b15-5012-48ea-8cab-6f89a3aeb052"
      },
      "execution_count": null,
      "outputs": [
        {
          "output_type": "display_data",
          "data": {
            "text/plain": [
              "<Figure size 640x480 with 1 Axes>"
            ],
            "image/png": "[encoded data removed]"
          },
          "metadata": {}
        },
        {
          "output_type": "execute_result",
          "data": {
            "text/plain": [
              "<Axes: title={'center': 'Top 20 Most Common Words'}, xlabel='Samples', ylabel='Counts'>"
            ]
          },
          "metadata": {},
          "execution_count": 11
        }
      ]
    },
    {
      "cell_type": "markdown",
      "source": [
        "### 2. Sentiment Distribution\n",
        "Visualizing the sentiment distribution across the dataset will help us understand the overall tone of the articles, both before and after the Bangladesh military coup. We can use libraries such as `matplotlib` or `seaborn` to create visual representations of the sentiment scores.\n"
      ],
      "metadata": {
        "id": "taw74pMgdtEk"
      }
    },
    {
      "cell_type": "code",
      "source": [
        "from textblob import TextBlob\n",
        "import matplotlib.pyplot as plt\n",
        "\n",
        "# Perform sentiment analysis\n",
        "sentiments = [TextBlob(word).sentiment.polarity for word in filtered_tokens]\n",
        "\n",
        "# Plot sentiment distribution\n",
        "plt.hist(sentiments, bins=20, edgecolor='black')\n",
        "plt.title(\"Sentiment Distribution\")\n",
        "plt.xlabel(\"Sentiment Polarity\")\n",
        "plt.ylabel(\"Frequency\")\n",
        "plt.show()\n"
      ],
      "metadata": {
        "colab": {
          "base_uri": "https://localhost:8080/",
          "height": 472
        },
        "id": "QVYxSniAdudH",
        "outputId": "1b9d7076-f620-4150-e7eb-62052bf40b95"
      },
      "execution_count": null,
      "outputs": [
        {
          "output_type": "display_data",
          "data": {
            "text/plain": [
              "<Figure size 640x480 with 1 Axes>"
            ],
            "image/png": "[encoded data removed]"
          },
          "metadata": {}
        }
      ]
    },
    {
      "cell_type": "code",
      "source": [
        "from textblob import TextBlob\n",
        "\n",
        "# Function to categorize words by sentiment polarity (close to -1, 0, 1)\n",
        "def get_words_by_polarity(tokens, polarity_value, count=5):\n",
        "    selected_words = []\n",
        "    for word in tokens:\n",
        "        polarity = TextBlob(word).sentiment.polarity\n",
        "        # Check for a range of values around the desired polarity (accounting for floating-point precision)\n",
        "        if abs(polarity - polarity_value) < 0.1:  # Small tolerance to match polarities\n",
        "            selected_words.append(word)\n",
        "        if len(selected_words) >= count:  # Stop after collecting the required number of words\n",
        "            break\n",
        "    return selected_words\n",
        "\n",
        "# Fetch 5 words for polarity close to -1, 0, and 1\n",
        "negative_words = get_words_by_polarity(filtered_tokens, -1.0, 5)\n",
        "neutral_words = get_words_by_polarity(filtered_tokens, 0.0, 5)\n",
        "positive_words = get_words_by_polarity(filtered_tokens, 1.0, 5)\n",
        "\n",
        "# Print the results\n",
        "print(\"5 words with polarity close to -1 (Negative):\", negative_words)\n",
        "print(\"5 words with polarity close to 0 (Neutral):\", neutral_words)\n",
        "print(\"5 words with polarity close to 1 (Positive):\", positive_words)\n"
      ],
      "metadata": {
        "colab": {
          "base_uri": "https://localhost:8080/"
        },
        "id": "DFlACvWIwjTQ",
        "outputId": "6a0ebd1d-2b8c-42e4-8bda-04e2831bebe7"
      },
      "execution_count": null,
      "outputs": [
        {
          "output_type": "stream",
          "name": "stdout",
          "text": [
            "5 words with polarity close to -1 (Negative): ['worst', 'worst', 'shocking', 'shocking', 'worst']\n",
            "5 words with polarity close to 0 (Neutral): ['delhi', 'aug', 'reuters', 'bangladesh', 'prime']\n",
            "5 words with polarity close to 1 (Positive): ['best', 'best', 'best', 'best', 'perfect']\n"
          ]
        }
      ]
    },
    {
      "cell_type": "markdown",
      "source": [
        "### 3. Collocations and Concordance\n",
        "By extracting collocations (frequent word pairs), we can identify words that commonly appear together in the text. Additionally, using NLTK’s `concordance` method, we can examine how specific words are used in context."
      ],
      "metadata": {
        "id": "5tn68XG3e2JX"
      }
    },
    {
      "cell_type": "code",
      "source": [
        "from nltk.collocations import BigramCollocationFinder\n",
        "from nltk.metrics import BigramAssocMeasures\n",
        "\n",
        "# Find bigram collocations\n",
        "bigram_finder = BigramCollocationFinder.from_words(filtered_tokens)\n",
        "bigram_finder.apply_freq_filter(3)  # Only consider bigrams that appear at least 3 times\n",
        "top_10_bigrams = bigram_finder.nbest(BigramAssocMeasures.likelihood_ratio, 10)\n",
        "\n",
        "# Print top 10 collocations\n",
        "print(\"Top 10 Collocations:\")\n",
        "print(top_10_bigrams)\n"
      ],
      "metadata": {
        "colab": {
          "base_uri": "https://localhost:8080/"
        },
        "id": "y-AbXoP4e3F3",
        "outputId": "07ea034d-758e-4bf5-be23-7c3d09afa1c1"
      },
      "execution_count": null,
      "outputs": [
        {
          "output_type": "stream",
          "name": "stdout",
          "text": [
            "Top 10 Collocations:\n",
            "[('prime', 'minister'), ('awami', 'league'), ('sheikh', 'hasina'), ('interim', 'government'), ('minister', 'sheikh'), ('mujibur', 'rahman'), ('south', 'asia'), ('human', 'right'), ('mental', 'health'), ('quota', 'system')]\n"
          ]
        }
      ]
    },
    {
      "cell_type": "markdown",
      "source": [
        "### 4. Topic Modelling\n",
        "For a deeper analysis, we can employ Latent Dirichlet Allocation (LDA) to identify common topics across the articles. This optional step allows us to understand underlying themes in the dataset by clustering similar words and phrases."
      ],
      "metadata": {
        "id": "S9tBCKewe66M"
      }
    },
    {
      "cell_type": "code",
      "source": [
        "from sklearn.decomposition import LatentDirichletAllocation\n",
        "from sklearn.feature_extraction.text import CountVectorizer\n",
        "\n",
        "# Vectorize the text\n",
        "vectorizer = CountVectorizer(max_df=0.95, min_df=2, stop_words='english')\n",
        "X = vectorizer.fit_transform(filtered_tokens)\n",
        "\n",
        "# Perform LDA\n",
        "lda = LatentDirichletAllocation(n_components=5, random_state=42)\n",
        "lda.fit(X)\n",
        "\n",
        "# Print the top words for each topic\n",
        "def print_top_words(model, feature_names, n_top_words):\n",
        "    for topic_idx, topic in enumerate(model.components_):\n",
        "        print(f\"Topic #{topic_idx}:\")\n",
        "        print(\" \".join([feature_names[i] for i in topic.argsort()[:-n_top_words - 1:-1]]))\n",
        "    print()\n",
        "\n",
        "n_top_words = 10\n",
        "print(\"Topics in LDA model:\")\n",
        "print_top_words(lda, vectorizer.get_feature_names_out(), n_top_words)\n"
      ],
      "metadata": {
        "colab": {
          "base_uri": "https://localhost:8080/"
        },
        "id": "5tdToTykfApy",
        "outputId": "4cfc59f5-8543-4da0-d93c-c33185e35996"
      },
      "execution_count": null,
      "outputs": [
        {
          "output_type": "stream",
          "name": "stdout",
          "text": [
            "Topics in LDA model:\n",
            "Topic #0:\n",
            "bangladesh hasina country political minister year new economic violence bangladeshi\n",
            "Topic #1:\n",
            "india sheikh hasinas dhaka leader general force nation including rule\n",
            "Topic #2:\n",
            "government student people security quota day killed yunus group death\n",
            "Topic #3:\n",
            "protest military said party indian chief rahman hindu state war\n",
            "Topic #4:\n",
            "army prime coup protester league interim awami power police opposition\n",
            "\n"
          ]
        }
      ]
    },
    {
      "cell_type": "markdown",
      "source": [
        "#Step 5 - Model Selection for training"
      ],
      "metadata": {
        "id": "r5VPw-gwlcE_"
      }
    },
    {
      "cell_type": "markdown",
      "source": [
        "### 1. Logistic Regression\n",
        "We will start by applying Logistic Regression, which is a simple yet effective machine learning model for binary classification tasks such as sentiment analysis. It is often a good baseline model for initial performance evaluation."
      ],
      "metadata": {
        "id": "iZMKqHpAmEGQ"
      }
    },
    {
      "cell_type": "code",
      "source": [
        "import numpy as np\n",
        "from sklearn.model_selection import train_test_split\n",
        "from sklearn.feature_extraction.text import CountVectorizer\n",
        "from sklearn.linear_model import LogisticRegression\n",
        "from sklearn.metrics import accuracy_score, classification_report\n",
        "\n",
        "# Vectorize the data\n",
        "vectorizer = CountVectorizer()\n",
        "X = vectorizer.fit_transform(filtered_tokens)  # Assuming filtered_tokens contains your preprocessed text data\n",
        "\n",
        "# Assuming 'sentiments' contains continuous sentiment polarity from TextBlob or another source\n",
        "# Convert sentiment scores to discrete classes (positive: 1, negative: -1, neutral: 0)\n",
        "y_discrete = np.where(np.array(sentiments) > 0, 1, np.where(np.array(sentiments) < 0, -1, 0))\n",
        "\n",
        "# Split the data into training and testing sets (80% train, 20% test)\n",
        "X_train, X_test, y_train, y_test = train_test_split(X, y_discrete, test_size=0.2, random_state=42)\n",
        "\n",
        "# Train Logistic Regression model\n",
        "log_reg = LogisticRegression()\n",
        "log_reg.fit(X_train, y_train)\n",
        "\n",
        "# Make predictions on the test set\n",
        "y_pred = log_reg.predict(X_test)\n",
        "\n",
        "# Evaluate the model\n",
        "print(\"Accuracy:\", accuracy_score(y_test, y_pred))\n",
        "print(\"Classification Report:\\n\", classification_report(y_test, y_pred))\n"
      ],
      "metadata": {
        "colab": {
          "base_uri": "https://localhost:8080/"
        },
        "id": "uLBhTRTemgUp",
        "outputId": "25658f05-5039-4832-8f82-c6c1b478f98d"
      },
      "execution_count": null,
      "outputs": [
        {
          "output_type": "stream",
          "name": "stdout",
          "text": [
            "Accuracy: 0.9815215581821208\n",
            "Classification Report:\n",
            "               precision    recall  f1-score   support\n",
            "\n",
            "          -1       1.00      0.72      0.84       195\n",
            "           0       0.98      1.00      0.99      5510\n",
            "           1       1.00      0.81      0.90       302\n",
            "\n",
            "    accuracy                           0.98      6007\n",
            "   macro avg       0.99      0.84      0.91      6007\n",
            "weighted avg       0.98      0.98      0.98      6007\n",
            "\n"
          ]
        }
      ]
    },
    {
      "cell_type": "markdown",
      "source": [
        "### Conclusion and Observations:\n",
        "\n",
        "1. **Overall Performance**:  \n",
        "   The Logistic Regression model achieved an overall accuracy of **98.15%**, with high precision and recall for neutral and positive sentiments.\n",
        "\n",
        "2. **Class Imbalance**:  \n",
        "   There is an imbalance in the dataset, with the majority of samples being neutral (class `0`). The model performs well on neutral and positive sentiments but has a lower recall for negative sentiments (`72%`).\n",
        "\n",
        "3. **Possible Improvements**:  \n",
        "   To improve the performance for negative sentiment (`-1`), we could explore techniques to handle class imbalance, such as oversampling or undersampling. Additionally, trying more advanced models like **SVM** or **Random Forest** may yield better results for minority classes."
      ],
      "metadata": {
        "id": "24nl_Fu_mqo1"
      }
    },
    {
      "cell_type": "markdown",
      "source": [
        "### 2. Explore More Complex Models"
      ],
      "metadata": {
        "id": "R1MZdx65nLFN"
      }
    },
    {
      "cell_type": "markdown",
      "source": [
        "**Support Vector Machine (SVM)**: A powerful algorithm for text classification, which works well for high-dimensional data."
      ],
      "metadata": {
        "id": "TrciqMzKnRqN"
      }
    },
    {
      "cell_type": "code",
      "source": [
        "from sklearn.svm import SVC\n",
        "\n",
        "# Train Support Vector Machine model\n",
        "svm_model = SVC()\n",
        "svm_model.fit(X_train, y_train)\n",
        "\n",
        "# Make predictions on the test set\n",
        "y_pred_svm = svm_model.predict(X_test)\n",
        "\n",
        "# Evaluate the model\n",
        "print(\"SVM Accuracy:\", accuracy_score(y_test, y_pred_svm))\n",
        "print(\"SVM Classification Report:\\n\", classification_report(y_test, y_pred_svm))\n"
      ],
      "metadata": {
        "colab": {
          "base_uri": "https://localhost:8080/"
        },
        "id": "cdHJEwLxnUre",
        "outputId": "1fda8578-358c-4088-9bea-be3d21093397"
      },
      "execution_count": null,
      "outputs": [
        {
          "metadata": {
            "tags": null
          },
          "name": "stdout",
          "output_type": "stream",
          "text": [
            "SVM Accuracy: 0.989845180622607\n",
            "SVM Classification Report:\n",
            "               precision    recall  f1-score   support\n",
            "\n",
            "          -1       1.00      0.85      0.92       195\n",
            "           0       0.99      1.00      0.99      5510\n",
            "           1       1.00      0.89      0.94       302\n",
            "\n",
            "    accuracy                           0.99      6007\n",
            "   macro avg       1.00      0.92      0.95      6007\n",
            "weighted avg       0.99      0.99      0.99      6007\n",
            "\n"
          ]
        }
      ]
    },
    {
      "cell_type": "markdown",
      "source": [
        "### Conclusion and Observations:\n",
        "\n",
        "1. **Overall Performance**:  \n",
        "   The SVM model achieved an accuracy of **98.98%**, which is slightly higher than the Logistic Regression model. This indicates better overall performance in classifying sentiments.\n",
        "\n",
        "2. **Improvement in Negative and Positive Classes**:  \n",
        "   - The recall for **negative sentiment (-1)** improved from 0.72 (in Logistic Regression) to **0.85**, resulting in a better ability to identify negative sentiment.\n",
        "   - The recall for **positive sentiment (1)** also improved, rising from 0.81 to **0.89**.\n",
        "   - The F1-scores for both negative and positive classes improved, indicating better balance between precision and recall.\n",
        "\n",
        "3. **Conclusion**:  \n",
        "   The **SVM model** outperformed Logistic Regression, especially in handling minority classes (negative and positive sentiments). Given its higher accuracy and improved performance across all sentiment classes, **SVM could be selected as the final model** for sentiment analysis in this project."
      ],
      "metadata": {
        "id": "9iB3jzi8nzhn"
      }
    },
    {
      "cell_type": "markdown",
      "source": [
        "**Random Forest**: An ensemble method that builds multiple decision trees and merges them to improve accuracy and reduce overfitting."
      ],
      "metadata": {
        "id": "8dDK--xEnqSf"
      }
    },
    {
      "cell_type": "code",
      "source": [
        "from sklearn.ensemble import RandomForestClassifier\n",
        "\n",
        "# Train Random Forest model\n",
        "rf_model = RandomForestClassifier()\n",
        "rf_model.fit(X_train, y_train)\n",
        "\n",
        "# Make predictions on the test set\n",
        "y_pred_rf = rf_model.predict(X_test)\n",
        "\n",
        "# Evaluate the model\n",
        "print(\"Random Forest Accuracy:\", accuracy_score(y_test, y_pred_rf))\n",
        "print(\"Random Forest Classification Report:\\n\", classification_report(y_test, y_pred_rf))\n"
      ],
      "metadata": {
        "colab": {
          "base_uri": "https://localhost:8080/"
        },
        "id": "GBd666IFnrKb",
        "outputId": "eb12f6f9-9f81-43c7-9359-e199f0839abc"
      },
      "execution_count": null,
      "outputs": [
        {
          "output_type": "stream",
          "name": "stdout",
          "text": [
            "Random Forest Accuracy: 0.9943399367404695\n",
            "Random Forest Classification Report:\n",
            "               precision    recall  f1-score   support\n",
            "\n",
            "          -1       1.00      0.90      0.95       195\n",
            "           0       0.99      1.00      1.00      5510\n",
            "           1       1.00      0.95      0.98       302\n",
            "\n",
            "    accuracy                           0.99      6007\n",
            "   macro avg       1.00      0.95      0.97      6007\n",
            "weighted avg       0.99      0.99      0.99      6007\n",
            "\n"
          ]
        }
      ]
    },
    {
      "cell_type": "markdown",
      "source": [
        "### Conclusion and Observations:\n",
        "\n",
        "1. **Overall Performance**:  \n",
        "   The Random Forest model achieved an accuracy of **99.43%**, which is the highest compared to Logistic Regression and SVM. This indicates that Random Forest performs exceptionally well in classifying sentiments in the dataset.\n",
        "\n",
        "2. **Improvement in Recall for Negative and Positive Classes**:  \n",
        "   - The recall for **negative sentiment (-1)** improved to **0.90**, showing a better ability to correctly identify negative samples.\n",
        "   - The recall for **positive sentiment (1)** is **0.95**, which is higher than both Logistic Regression and SVM.\n",
        "   - The **F1-score** for all classes, especially negative (`0.95`) and positive (`0.98`), is high, reflecting a strong balance between precision and recall.\n",
        "\n",
        "3. **Conclusion**:  \n",
        "   The **Random Forest model** outperforms both Logistic Regression and SVM with the highest accuracy and F1-scores for all sentiment classes. Given its robust performance, **Random Forest could be chosen as the final model** for this sentiment analysis task."
      ],
      "metadata": {
        "id": "tgHXKP34of3r"
      }
    },
    {
      "cell_type": "markdown",
      "source": [
        "## VADER Sentiment Analysis\n",
        "\n",
        "We will use **VADER (Valence Aware Dictionary for Sentiment Reasoning)**, a pre-trained model in NLTK specifically tuned for sentiment analysis. It works well for news articles and social media text by handling nuances like punctuation, capitalization, and intensity (e.g., \"!!!\" or \"VERY good\").\n",
        "\n",
        "- **VADER Principle**: VADER works on the rule-based classification system, and its polarity scores (positive, neutral, negative) help to categorize the sentiment:\n",
        "  - Positive sentiment (`1`): Compound score ≥ 0.05\n",
        "  - Negative sentiment (`-1`): Compound score ≤ -0.05\n",
        "  - Neutral sentiment (`0`): Compound score in between\n",
        "\n",
        "We will use VADER to get an initial understanding of the sentiment distribution in our dataset.\n",
        "\n",
        "---"
      ],
      "metadata": {
        "id": "FoQlZe4wohMq"
      }
    },
    {
      "cell_type": "code",
      "source": [
        "from nltk.sentiment.vader import SentimentIntensityAnalyzer\n",
        "import nltk\n",
        "import pandas as pd\n",
        "\n",
        "# Download VADER lexicon for sentiment analysis\n",
        "nltk.download('vader_lexicon')\n",
        "\n",
        "# Initialize the VADER sentiment analyzer\n",
        "sia = SentimentIntensityAnalyzer()\n",
        "\n",
        "# Example function to apply VADER sentiment analysis\n",
        "def get_vader_sentiment(text):\n",
        "    scores = sia.polarity_scores(text)\n",
        "    # Categorizing the sentiment based on the compound score\n",
        "    if scores['compound'] >= 0.05:\n",
        "        return 1  # Positive\n",
        "    elif scores['compound'] <= -0.05:\n",
        "        return -1  # Negative\n",
        "    else:\n",
        "        return 0   # Neutral\n",
        "\n",
        "# Apply VADER sentiment analysis to the dataset (assuming `cleaned_content` is your text data)\n",
        "vader_sentiments = [get_vader_sentiment(sentence) for sentence in filtered_tokens[:500]]  # Apply to a subset or full dataset\n",
        "\n",
        "# Print sample results\n",
        "df = pd.DataFrame({'Text': filtered_tokens[:500], 'VADER Sentiment': vader_sentiments})\n",
        "print(df.head())\n"
      ],
      "metadata": {
        "colab": {
          "base_uri": "https://localhost:8080/"
        },
        "id": "JLk8v-l3pQDq",
        "outputId": "d4cf9ef7-7868-4f2c-8001-6a4950ca82f5"
      },
      "execution_count": null,
      "outputs": [
        {
          "output_type": "stream",
          "name": "stdout",
          "text": [
            "         Text  VADER Sentiment\n",
            "0         new                0\n",
            "1       delhi                0\n",
            "2         aug                0\n",
            "3     reuters                0\n",
            "4  bangladesh                0\n"
          ]
        },
        {
          "output_type": "stream",
          "name": "stderr",
          "text": [
            "[nltk_data] Downloading package vader_lexicon to /root/nltk_data...\n"
          ]
        }
      ]
    },
    {
      "cell_type": "code",
      "source": [
        "# Apply VADER sentiment analysis to full sentences or longer text instead of individual tokens\n",
        "vader_sentiments = [get_vader_sentiment(\" \".join(filtered_tokens[i:i+20])) for i in range(0, len(filtered_tokens), 20)]  # Join tokens into chunks of 20 words\n",
        "\n",
        "# Print sample results for chunks of text\n",
        "df = pd.DataFrame({'Text': [\" \".join(filtered_tokens[i:i+20]) for i in range(0, len(filtered_tokens), 20)], 'VADER Sentiment': vader_sentiments})\n",
        "print(df.head())\n"
      ],
      "metadata": {
        "colab": {
          "base_uri": "https://localhost:8080/"
        },
        "id": "nr0PoeHupird",
        "outputId": "22ec2403-78ba-49d1-8e2e-a60277202798"
      },
      "execution_count": null,
      "outputs": [
        {
          "output_type": "stream",
          "name": "stdout",
          "text": [
            "                                                Text  VADER Sentiment\n",
            "0  new delhi aug reuters bangladesh prime ministe...               -1\n",
            "1  focus country history political upheaval coup ...                0\n",
            "2  coup brought long period military rule two cou...               -1\n",
            "3  government guest house chittagong city residin...                0\n",
            "4  sattar ousted bloodless military coup led huss...                0\n"
          ]
        }
      ]
    },
    {
      "cell_type": "markdown",
      "source": [
        "## Conclusion - VADER Sentiment Analysis\n",
        "\n",
        "### Observations from Word-Level Sentiment Analysis:\n",
        "Initially, when VADER sentiment analysis was applied to individual tokens (words), the results were predominantly **neutral**. This occurred because VADER is designed to analyze sentences or longer text that provide more context and emotional weight. Individual tokens such as \"new,\" \"delhi,\" \"reuters\" lack sufficient context for VADER to detect meaningful sentiment, resulting in neutral classifications.\n",
        "\n",
        "### Observations from Full Text Sentiment Analysis:\n",
        "After applying VADER to chunks of text, the sentiment analysis produced more varied results, including **negative** sentiments for sentences discussing the military coup and political upheaval. For example:\n",
        "- Sentences like \"new delhi aug reuters bangladesh prime minister...\" were classified as **negative** (`-1`), reflecting the tone of the content.\n",
        "- Other text chunks, such as \"government guest house chittagong city...\", were categorized as **neutral** (`0`), indicating that no strong sentiment was conveyed.\n",
        "\n",
        "### Conclusion:\n",
        "- **Word-Level Analysis**: Applying VADER to individual words is not effective for sentiment analysis due to the lack of contextual meaning. This method primarily yields neutral results, as single words don’t provide enough information for the model to detect sentiment.\n",
        "- **Full Text/Chunk-Level Analysis**: When applied to longer text segments or sentences, VADER performs much better. It accurately identifies positive, neutral, and negative sentiments in the text based on the contextual meaning of the sentences.\n",
        "  \n",
        "### Next Steps:\n",
        "- **Model Selection**: Given the improved performance of VADER on sentence-level text, this insight reinforces the need for context-aware models. In the following steps, more advanced models (such as Logistic Regression, SVM, and Random Forest) will be applied to the dataset to further refine the sentiment classification.\n",
        "- **VADER’s Role**: While VADER provides a quick rule-based analysis, it should be supplemented by more sophisticated machine learning models for deeper and more accurate sentiment analysis."
      ],
      "metadata": {
        "id": "F8b8u2aKqTcS"
      }
    },
    {
      "cell_type": "markdown",
      "source": [
        "#Second Half"
      ],
      "metadata": {
        "id": "nwPF-FuQSsbF"
      }
    },
    {
      "cell_type": "markdown",
      "source": [
        "## Step 6 - Feature Engineering: Lexicon-Based Features\n",
        "\n",
        "In this step, we will use **VADER’s sentiment scores** as features in our model. VADER provides sentiment scores for each piece of text, including positive, negative, neutral, and a compound score (a normalized score between -1 and 1 indicating overall sentiment).\n",
        "\n",
        "We will extract the **compound score** for each text sample and use it as an additional feature to enrich our model.\n"
      ],
      "metadata": {
        "id": "Ruwd2ZPxsPJs"
      }
    },
    {
      "cell_type": "code",
      "source": [
        "from nltk.sentiment.vader import SentimentIntensityAnalyzer\n",
        "import pandas as pd\n",
        "import nltk\n",
        "\n",
        "# Download VADER lexicon for sentiment analysis\n",
        "nltk.download('vader_lexicon')\n",
        "\n",
        "# Initialize the VADER sentiment analyzer\n",
        "sia = SentimentIntensityAnalyzer()\n",
        "\n",
        "# Function to extract VADER sentiment scores (compound score) as features\n",
        "def vader_sentiment_features(text):\n",
        "    scores = sia.polarity_scores(text)\n",
        "    return scores['compound']  # We'll use the compound score for feature engineering\n",
        "\n",
        "# Example: Apply VADER to your dataset (assuming `filtered_tokens` contains cleaned text data)\n",
        "vader_features = [vader_sentiment_features(\" \".join(filtered_tokens[i:i+20])) for i in range(0, len(filtered_tokens), 20)]\n",
        "\n",
        "# Create a DataFrame to store the compound scores as features\n",
        "vader_df = pd.DataFrame({'Text': [\" \".join(filtered_tokens[i:i+20]) for i in range(0, len(filtered_tokens), 20)],\n",
        "                         'VADER Compound Score': vader_features})\n",
        "\n",
        "# Display the DataFrame with VADER sentiment features\n",
        "print(vader_df.head())\n"
      ],
      "metadata": {
        "colab": {
          "base_uri": "https://localhost:8080/"
        },
        "id": "_mDHlBcXsUCh",
        "outputId": "ffbc54ff-5ca6-48ab-bf12-dec73b015a1a"
      },
      "execution_count": null,
      "outputs": [
        {
          "output_type": "stream",
          "name": "stderr",
          "text": [
            "[nltk_data] Downloading package vader_lexicon to /root/nltk_data...\n",
            "[nltk_data]   Package vader_lexicon is already up-to-date!\n"
          ]
        },
        {
          "output_type": "stream",
          "name": "stdout",
          "text": [
            "                                                Text  VADER Compound Score\n",
            "0  new delhi aug reuters bangladesh prime ministe...               -0.7096\n",
            "1  focus country history political upheaval coup ...                0.0000\n",
            "2  coup brought long period military rule two cou...               -0.1531\n",
            "3  government guest house chittagong city residin...               -0.0258\n",
            "4  sattar ousted bloodless military coup led huss...                0.0000\n"
          ]
        }
      ]
    },
    {
      "cell_type": "markdown",
      "source": [
        "## Conclusion: Lexicon-Based Features (VADER Sentiment Scores)\n",
        "\n",
        "In this step, we extracted the **VADER compound sentiment score** for each text chunk and used it as a feature. The compound score ranges from **-1** (very negative) to **1** (very positive).\n",
        "\n",
        "### Observations:\n",
        "- The extracted sentiment scores indicate that many of the text chunks related to the Bangladesh military coup have a **negative sentiment**, as reflected by scores such as `-0.7096` and `-0.1531`.\n",
        "- **Neutral scores** (such as `0.0000`) suggest that certain text chunks are factual or do not convey strong emotional sentiment.\n",
        "\n",
        "### Conclusion:\n",
        "Using VADER’s compound sentiment score as a feature provides additional information about the emotional tone of each text chunk. This feature will help the model better understand the underlying sentiment in the text, particularly when analyzing news articles that cover politically charged events.\n"
      ],
      "metadata": {
        "id": "0gGh7BfLsmfM"
      }
    },
    {
      "cell_type": "markdown",
      "source": [
        "## Feature Engineering: Custom Features (Word Frequency, POS Tags, Bigrams/Trigrams)\n",
        "\n",
        "In this step, we will generate custom features to provide more contextual information to the model. These include:\n",
        "1. **Word Frequency**: Calculate the frequency of each word in the dataset to capture important terms.\n",
        "2. **Part-of-Speech (POS) Tags**: Tag each word with its grammatical category (e.g., noun, verb) to help the model understand sentence structure.\n",
        "3. **Bigrams/Trigrams**: Capture frequently occurring word pairs (bigrams) and triples (trigrams) to add more context to the text.\n"
      ],
      "metadata": {
        "id": "81_dYJVVsnjB"
      }
    },
    {
      "cell_type": "code",
      "source": [
        "import nltk\n",
        "from sklearn.feature_extraction.text import CountVectorizer\n",
        "\n",
        "# 1. Word Frequency\n",
        "vectorizer = CountVectorizer()\n",
        "X_word_freq = vectorizer.fit_transform([\" \".join(filtered_tokens[i:i+20]) for i in range(0, len(filtered_tokens), 20)])\n",
        "word_freq_df = pd.DataFrame(X_word_freq.toarray(), columns=vectorizer.get_feature_names_out())\n",
        "\n",
        "# Display the word frequency data\n",
        "print(\"Word Frequency Features:\")\n",
        "print(word_freq_df.head())\n",
        "\n",
        "# 2. POS Tags\n",
        "# Apply POS tagging to each text chunk\n",
        "def pos_tag_features(text):\n",
        "    tokens = nltk.word_tokenize(text)\n",
        "    pos_tags = nltk.pos_tag(tokens)\n",
        "    return [tag for word, tag in pos_tags]  # Return only the POS tags\n",
        "\n",
        "# Apply POS tagging to the text chunks\n",
        "pos_features = [\" \".join(pos_tag_features(\" \".join(filtered_tokens[i:i+20]))) for i in range(0, len(filtered_tokens), 20)]\n",
        "\n",
        "# Display POS tag features\n",
        "pos_df = pd.DataFrame({'Text': [\" \".join(filtered_tokens[i:i+20]) for i in range(0, len(filtered_tokens), 20)], 'POS Tags': pos_features})\n",
        "print(\"\\nPOS Tag Features:\")\n",
        "print(pos_df.head())\n",
        "\n",
        "# 3. Bigrams/Trigrams\n",
        "# Extract bigrams and trigrams from the text\n",
        "vectorizer_ngrams = CountVectorizer(ngram_range=(2, 3))  # Bigrams and trigrams\n",
        "X_ngrams = vectorizer_ngrams.fit_transform([\" \".join(filtered_tokens[i:i+20]) for i in range(0, len(filtered_tokens), 20)])\n",
        "ngrams_df = pd.DataFrame(X_ngrams.toarray(), columns=vectorizer_ngrams.get_feature_names_out())\n",
        "\n",
        "# Display bigram and trigram features\n",
        "print(\"\\nBigram/Trigram Features:\")\n",
        "print(ngrams_df.head())\n"
      ],
      "metadata": {
        "colab": {
          "base_uri": "https://localhost:8080/"
        },
        "id": "sZmv3mdwsuHd",
        "outputId": "e059df6a-e829-4fcb-dcd0-63aac51c7b4f"
      },
      "execution_count": null,
      "outputs": [
        {
          "output_type": "stream",
          "name": "stdout",
          "text": [
            "Word Frequency Features:\n",
            "   abandoned  abating  abc  abducted  abduction  abdul  abdullah  abdur  \\\n",
            "0          0        0    0         0          0      0         0      0   \n",
            "1          0        0    0         0          0      0         0      0   \n",
            "2          0        0    0         0          0      0         0      0   \n",
            "3          0        0    0         0          0      0         0      0   \n",
            "4          0        0    0         0          0      0         0      0   \n",
            "\n",
            "   abdus  ability  ...  zenith  zerotolerance  zia  zias  ziaur  ziaurrahman  \\\n",
            "0      0        0  ...       0              0    0     0      0            0   \n",
            "1      0        0  ...       0              0    0     0      0            0   \n",
            "2      0        0  ...       0              0    0     0      1            0   \n",
            "3      1        0  ...       0              0    0     0      0            0   \n",
            "4      0        0  ...       0              0    0     0      0            0   \n",
            "\n",
            "   ziaurrahmans  zillur  zobaida  zone  \n",
            "0             0       0        0     0  \n",
            "1             0       0        0     0  \n",
            "2             0       0        0     0  \n",
            "3             0       0        0     0  \n",
            "4             0       0        0     0  \n",
            "\n",
            "[5 rows x 5552 columns]\n",
            "\n",
            "POS Tag Features:\n",
            "                                                Text  \\\n",
            "0  new delhi aug reuters bangladesh prime ministe...   \n",
            "1  focus country history political upheaval coup ...   \n",
            "2  coup brought long period military rule two cou...   \n",
            "3  government guest house chittagong city residin...   \n",
            "4  sattar ousted bloodless military coup led huss...   \n",
            "\n",
            "                                            POS Tags  \n",
            "0  JJ NN NN NNS VBP JJ NN NN NNS VBP NN JJ NN VBD...  \n",
            "1  JJ NN NN JJ NN NN NN JJ JJ NN NN NN NN VBZ RB ...  \n",
            "2  NN VBD JJ NN JJ NN CD NN NN VBN JJ NNP NN VBG ...  \n",
            "3  NN JJS NN JJ NN VBG NN VBN IN JJ NN JJ NN NN V...  \n",
            "4  NN VBD JJ JJ NN VBD JJ NN VBD VBD JJ NN NN RB ...  \n",
            "\n",
            "Bigram/Trigram Features:\n",
            "   abating government  abc victory  abc victory come  abducted pretending  \\\n",
            "0                   0            0                 0                    0   \n",
            "1                   0            0                 0                    0   \n",
            "2                   0            0                 0                    0   \n",
            "3                   0            0                 0                    0   \n",
            "4                   0            0                 0                    0   \n",
            "\n",
            "   abducted pretending police  abduction extrajudicial  \\\n",
            "0                           0                        0   \n",
            "1                           0                        0   \n",
            "2                           0                        0   \n",
            "3                           0                        0   \n",
            "4                           0                        0   \n",
            "\n",
            "   abduction extrajudicial killing  abduction hindu  abduction hindu august  \\\n",
            "0                                0                0                       0   \n",
            "1                                0                0                       0   \n",
            "2                                0                0                       0   \n",
            "3                                0                0                       0   \n",
            "4                                0                0                       0   \n",
            "\n",
            "   abdul aziz  ...  ziaurrahmans eventual  ziaurrahmans eventual elevation  \\\n",
            "0           0  ...                      0                                0   \n",
            "1           0  ...                      0                                0   \n",
            "2           0  ...                      0                                0   \n",
            "3           0  ...                      0                                0   \n",
            "4           0  ...                      0                                0   \n",
            "\n",
            "   zillur rahman  zillur rahman executive  zobaida rashid  \\\n",
            "0              0                        0               0   \n",
            "1              0                        0               0   \n",
            "2              0                        0               0   \n",
            "3              0                        0               0   \n",
            "4              0                        0               0   \n",
            "\n",
            "   zobaida rashid wife  zone political  zone political vacuum  zone stop  \\\n",
            "0                    0               0                      0          0   \n",
            "1                    0               0                      0          0   \n",
            "2                    0               0                      0          0   \n",
            "3                    0               0                      0          0   \n",
            "4                    0               0                      0          0   \n",
            "\n",
            "   zone stop public  \n",
            "0                 0  \n",
            "1                 0  \n",
            "2                 0  \n",
            "3                 0  \n",
            "4                 0  \n",
            "\n",
            "[5 rows x 41692 columns]\n"
          ]
        }
      ]
    },
    {
      "cell_type": "markdown",
      "source": [
        "## Conclusion: Custom Features (Word Frequency, POS Tags, Bigrams/Trigrams)\n",
        "\n",
        "### 1. Word Frequency:\n",
        "- The **word frequency features** show the occurrence of individual words across the dataset. For instance, terms like \"ziaurrahman\" and \"abdul\" appear in specific rows, indicating their importance in the context of the text.\n",
        "- Word frequency helps capture the importance of certain terms and is useful for understanding which words dominate the text. This feature will contribute to the model's ability to differentiate important words from less relevant ones.\n",
        "\n",
        "### 2. POS Tags:\n",
        "- The **Part-of-Speech (POS) tags** provide grammatical context for the words, showing how each word functions in a sentence (e.g., nouns, verbs, adjectives). In the dataset, many words are tagged as **NN (Noun)**, **VBD (Verb, Past Tense)**, and **JJ (Adjective)**.\n",
        "- This feature will help the model understand sentence structure, which is critical for tasks like sentiment analysis and topic modeling.\n",
        "\n",
        "### 3. Bigrams/Trigrams:\n",
        "- The **bigrams and trigrams** capture common word pairs and triples that occur together. Though the sample output did not show significant patterns for these specific rows, this feature helps identify important phrases (e.g., \"political vacuum,\" \"military coup\") that could provide more context to the text.\n",
        "- Bigrams and trigrams enrich the model by capturing relationships between words rather than treating each word in isolation.\n",
        "\n",
        "### Conclusion:\n",
        "By combining word frequency, POS tags, and bigrams/trigrams as features, we add layers of context that will help the model better understand the text. These custom features will improve the model’s ability to classify the text by providing additional linguistic and structural insights, which are essential for tasks like sentiment analysis and text classification.\n"
      ],
      "metadata": {
        "id": "Gs6GAc7XtD8m"
      }
    },
    {
      "cell_type": "markdown",
      "source": [
        "## Feature Engineering: Feature Selection\n",
        "\n",
        "In this step, we will use **feature selection** techniques to refine the dataset and choose only the most informative features for our model. Reducing the number of features helps prevent overfitting and speeds up the training process while retaining the most relevant data.\n"
      ],
      "metadata": {
        "id": "1UBtyqUMtLKN"
      }
    },
    {
      "cell_type": "code",
      "source": [
        "import numpy as np\n",
        "from sklearn.feature_selection import SelectKBest, chi2\n",
        "\n",
        "# Convert VADER compound scores to discrete sentiment classes\n",
        "def vader_to_sentiment_class(compound_score):\n",
        "    if compound_score > 0.05:\n",
        "        return 1  # Positive\n",
        "    elif compound_score < -0.05:\n",
        "        return -1  # Negative\n",
        "    else:\n",
        "        return 0  # Neutral\n",
        "\n",
        "# Apply the conversion to vader_sentiments\n",
        "vader_discrete_sentiments = np.array([vader_to_sentiment_class(score) for score in vader_sentiments])\n",
        "\n",
        "# Perform feature selection using the discrete sentiment labels\n",
        "select_k_best = SelectKBest(chi2, k=100)\n",
        "X_selected = select_k_best.fit_transform(X_word_freq, vader_discrete_sentiments)\n",
        "\n",
        "# Display the names of the top selected features\n",
        "top_features = np.array(vectorizer.get_feature_names_out())[select_k_best.get_support()]\n",
        "print(\"Top 100 Selected Features:\\n\", top_features)\n"
      ],
      "metadata": {
        "colab": {
          "base_uri": "https://localhost:8080/"
        },
        "id": "GvBu07qRtLv7",
        "outputId": "6b6d6a5c-cb02-4280-c6cc-38189e8c25e1"
      },
      "execution_count": null,
      "outputs": [
        {
          "output_type": "stream",
          "name": "stdout",
          "text": [
            "Top 100 Selected Features:\n",
            " ['aircraft' 'akm' 'animal' 'arrowdown' 'asia' 'assumed' 'attack'\n",
            " 'attributed' 'bathroom' 'bazlul' 'beijing' 'betar' 'billion' 'captain'\n",
            " 'chicken' 'china' 'clash' 'club' 'craft' 'creditcreditchannel' 'dawn'\n",
            " 'death' 'democratic' 'depicting' 'deputy' 'development' 'duck' 'embassy'\n",
            " 'engagement' 'faculty' 'first' 'following' 'forced' 'graffiti' 'hindon'\n",
            " 'hindu' 'hotel' 'importance' 'india' 'indopacific' 'information'\n",
            " 'intended' 'interest' 'killed' 'killing' 'least' 'light' 'like' 'maj'\n",
            " 'major' 'make' 'marginalize' 'maritime' 'martiallaw' 'migration'\n",
            " 'mohiuddin' 'muhammad' 'mujibur' 'neighbour' 'note' 'ocean' 'oneeleven'\n",
            " 'owed' 'participant' 'partner' 'party' 'peace' 'police' 'posing'\n",
            " 'protest' 'protester' 'rabbit' 'rahman' 'region' 'regional'\n",
            " 'relationship' 'resulted' 'reuters' 'route' 'secure' 'security'\n",
            " 'significant' 'socialmedia' 'stability' 'strategic' 'studied' 'support'\n",
            " 'surpassed' 'tension' 'thoroughly' 'trade' 'tripathi' 'trust' 'united'\n",
            " 'vidhee' 'violence' 'violent' 'war' 'watching' 'wazed']\n"
          ]
        }
      ]
    },
    {
      "cell_type": "markdown",
      "source": [
        "## Conclusion: Feature Selection\n",
        "\n",
        "In this step, we applied **Chi-Square feature selection** to reduce the dimensionality of the dataset and retain the top 100 most informative features. These features are most strongly related to the target sentiment labels (positive, neutral, negative).\n",
        "\n",
        "### Observations:\n",
        "- The top selected features provide insight into the most important words that contribute to determining sentiment. For example, terms related to political events, names, and specific verbs (e.g., \"ousted,\" \"coup\") are likely to play a significant role in sentiment classification.\n",
        "- Feature selection helps reduce noise and focuses the model on the most relevant data, improving both performance and training efficiency.\n",
        "\n",
        "### Conclusion:\n",
        "Feature selection reduces the dimensionality of the dataset and improves the model's focus on the most important features. By selecting the top 100 features, we ensure that the model is trained on the most relevant data, leading to more accurate sentiment classification.\n"
      ],
      "metadata": {
        "id": "D0wAwCKStvxk"
      }
    },
    {
      "cell_type": "markdown",
      "source": [
        "## Project Progress Overview\n",
        "\n",
        "| **Step**                         | **Description**                                                                 | **Status**         |\n",
        "|-----------------------------------|---------------------------------------------------------------------------------|--------------------|\n",
        "| **1. Define Your Project Scope**  | Objective and data sources for sentiment analysis before and after the coup.     | **Completed**      |\n",
        "| **2. Data Collection**            | Scrape and gather news articles.                                                | **Completed**      |\n",
        "| **3. Data Preprocessing**         | Text cleaning, tokenization, stopword removal, vectorization, POS tagging.       | **Completed**      |\n",
        "| **4. Exploratory Data Analysis**  | Word frequency analysis, sentiment distribution, collocations, and topic modeling. | **Completed**      |\n",
        "| **5. Model Selection**            | Logistic Regression, SVM, Random Forest, VADER sentiment analysis, Train-Test Split. | **Completed**      |\n",
        "| **6. Feature Engineering**        | Lexicon-based features, custom features (word frequency, POS tags), feature selection. | **In Progress**      |\n",
        "| **7. Model Training**             | Pipeline creation, hyperparameter tuning, and model training.                    | **In Progress**    |\n",
        "| **8. Model Evaluation**           | Classification report, confusion matrix, cross-validation, comparison of classifiers. | **Next**           |\n",
        "| **9. Sentiment Analysis**         | Apply the model, compare sentiments before and after the coup, and visualize results. | **Next**           |\n",
        "| **10. Result Interpretation**     | Summarize findings, correlate sentiment changes with significant events.         | **Next**           |\n",
        "| **11. Data Visualization**        | Word clouds, sentiment distribution charts, time-series analysis, confusion matrix, ROC curve. | **Next**           |\n",
        "| **12. Project Documentation**     | Write markdown files, Jupyter notebooks, and comment code clearly.               | **Next**           |\n",
        "| **13. Deployment on GitHub**      | Set up repository, push code, and create a comprehensive README file.            | **Next**           |\n",
        "| **14. Optional Enhancements**     | Create an interactive dashboard, improve models with advanced NLP techniques.    | **Next (Optional)**|\n",
        "| **15. Final Review and Sharing**  | Peer review and sharing on platforms like GitHub, LinkedIn, or Medium.           | **Next**           |\n"
      ],
      "metadata": {
        "id": "2H9Lg_4EvClr"
      }
    }
  ]
}