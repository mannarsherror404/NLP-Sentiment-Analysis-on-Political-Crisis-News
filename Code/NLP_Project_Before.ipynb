{
  "nbformat": 4,
  "nbformat_minor": 0,
  "metadata": {
    "colab": {
      "provenance": []
    },
    "kernelspec": {
      "name": "python3",
      "display_name": "Python 3"
    },
    "language_info": {
      "name": "python"
    }
  },
  "cells": [
    {
      "cell_type": "markdown",
      "source": [
        "# ** Half Project **\n",
        "\n",
        "| Program              | MBA Tech AI          |\n",
        "|----------------------|----------------------|\n",
        "| Semester             | 5                    |\n",
        "| Name of the Project  | Sentiment Analysis of News Reports: Pre- and Post-Bangladesh Military Coup    |\n",
        "| Batch                | B1                   |\n",
        "| Roll No.             | R024           |\n",
        "| Names                | Mannarsh Singh Bali   |\n",
        "| Date of Submission   | 26th September 2024   |\n",
        "\n",
        "---\n",
        "\n",
        "# Sentiment Analysis on Bangladesh military coup\n",
        "\n"
      ],
      "metadata": {
        "id": "YCORIpG0PpU_"
      }
    },
    {
      "cell_type": "markdown",
      "source": [
        "# Step 1: Define the Project Scope\n"
      ],
      "metadata": {
        "id": "oP1h6X5RRVhr"
      }
    },
    {
      "cell_type": "markdown",
      "source": [
        "### Objective\n",
        "The goal of this project is to perform sentiment analysis on news reports and articles before and after the Bangladesh military coup. By analyzing the sentiment of news coverage surrounding this event, we aim to observe any shifts in tone or perspective.\n",
        "\n",
        "Why sentiment analysis of news articles is valuable?\n",
        "\n",
        "- Understanding media sentiment can help gauge public opinion during politically sensitive times."
      ],
      "metadata": {
        "id": "Dl90qSWzRblO"
      }
    },
    {
      "cell_type": "markdown",
      "source": [
        "### Data Sources\n",
        "We have collected news articles and reports related to the Bangladesh military coup from various online sources. These sources may include **news websites**, **archives**, and **publicly available datasets**, ensuring that we have a comprehensive range of reports from both before and after the event."
      ],
      "metadata": {
        "id": "y9mqCxp1Rg0q"
      }
    },
    {
      "cell_type": "markdown",
      "source": [
        "# Step 2: Data Collection"
      ],
      "metadata": {
        "id": "WsCW-eBDR_Kd"
      }
    },
    {
      "cell_type": "markdown",
      "source": [
        "### Scrape News Articles\n",
        "To gather the necessary data, we will use manual web scraping\n",
        "."
      ],
      "metadata": {
        "id": "iVWfS8TXTfGl"
      }
    },
    {
      "cell_type": "code",
      "source": [
        "from google.colab import files\n",
        "\n",
        "# Upload a file from your desktop\n",
        "uploaded = files.upload()\n",
        "\n",
        "# List the name of the uploaded file\n",
        "for file_name in uploaded.keys():\n",
        "    print(f'You have uploaded: {file_name}')\n"
      ],
      "metadata": {
        "colab": {
          "base_uri": "https://localhost:8080/",
          "height": 91
        },
        "id": "0IBXPV9dTjBR",
        "outputId": "9c49f5ff-e22a-4dc3-dd21-15a670d65884"
      },
      "execution_count": null,
      "outputs": [
        {
          "output_type": "display_data",
          "data": {
            "text/plain": [
              "<IPython.core.display.HTML object>"
            ],
            "text/html": [
              "\n",
              "     <input type=\"file\" id=\"files-a382a367-fefb-40b0-9f50-c465204e4bf5\" name=\"files[]\" multiple disabled\n",
              "        style=\"border:none\" />\n",
              "     <output id=\"result-a382a367-fefb-40b0-9f50-c465204e4bf5\">\n",
              "      Upload widget is only available when the cell has been executed in the\n",
              "      current browser session. Please rerun this cell to enable.\n",
              "      </output>\n",
              "      <script>// Copyright 2017 Google LLC\n",
              "//\n",
              "// Licensed under the Apache License, Version 2.0 (the \"License\");\n",
              "// you may not use this file except in compliance with the License.\n",
              "// You may obtain a copy of the License at\n",
              "//\n",
              "//      http://www.apache.org/licenses/LICENSE-2.0\n",
              "//\n",
              "// Unless required by applicable law or agreed to in writing, software\n",
              "// distributed under the License is distributed on an \"AS IS\" BASIS,\n",
              "// WITHOUT WARRANTIES OR CONDITIONS OF ANY KIND, either express or implied.\n",
              "// See the License for the specific language governing permissions and\n",
              "// limitations under the License.\n",
              "\n",
              "/**\n",
              " * @fileoverview Helpers for google.colab Python module.\n",
              " */\n",
              "(function(scope) {\n",
              "function span(text, styleAttributes = {}) {\n",
              "  const element = document.createElement('span');\n",
              "  element.textContent = text;\n",
              "  for (const key of Object.keys(styleAttributes)) {\n",
              "    element.style[key] = styleAttributes[key];\n",
              "  }\n",
              "  return element;\n",
              "}\n",
              "\n",
              "// Max number of bytes which will be uploaded at a time.\n",
              "const MAX_PAYLOAD_SIZE = 100 * 1024;\n",
              "\n",
              "function _uploadFiles(inputId, outputId) {\n",
              "  const steps = uploadFilesStep(inputId, outputId);\n",
              "  const outputElement = document.getElementById(outputId);\n",
              "  // Cache steps on the outputElement to make it available for the next call\n",
              "  // to uploadFilesContinue from Python.\n",
              "  outputElement.steps = steps;\n",
              "\n",
              "  return _uploadFilesContinue(outputId);\n",
              "}\n",
              "\n",
              "// This is roughly an async generator (not supported in the browser yet),\n",
              "// where there are multiple asynchronous steps and the Python side is going\n",
              "// to poll for completion of each step.\n",
              "// This uses a Promise to block the python side on completion of each step,\n",
              "// then passes the result of the previous step as the input to the next step.\n",
              "function _uploadFilesContinue(outputId) {\n",
              "  const outputElement = document.getElementById(outputId);\n",
              "  const steps = outputElement.steps;\n",
              "\n",
              "  const next = steps.next(outputElement.lastPromiseValue);\n",
              "  return Promise.resolve(next.value.promise).then((value) => {\n",
              "    // Cache the last promise value to make it available to the next\n",
              "    // step of the generator.\n",
              "    outputElement.lastPromiseValue = value;\n",
              "    return next.value.response;\n",
              "  });\n",
              "}\n",
              "\n",
              "/**\n",
              " * Generator function which is called between each async step of the upload\n",
              " * process.\n",
              " * @param {string} inputId Element ID of the input file picker element.\n",
              " * @param {string} outputId Element ID of the output display.\n",
              " * @return {!Iterable<!Object>} Iterable of next steps.\n",
              " */\n",
              "function* uploadFilesStep(inputId, outputId) {\n",
              "  const inputElement = document.getElementById(inputId);\n",
              "  inputElement.disabled = false;\n",
              "\n",
              "  const outputElement = document.getElementById(outputId);\n",
              "  outputElement.innerHTML = '';\n",
              "\n",
              "  const pickedPromise = new Promise((resolve) => {\n",
              "    inputElement.addEventListener('change', (e) => {\n",
              "      resolve(e.target.files);\n",
              "    });\n",
              "  });\n",
              "\n",
              "  const cancel = document.createElement('button');\n",
              "  inputElement.parentElement.appendChild(cancel);\n",
              "  cancel.textContent = 'Cancel upload';\n",
              "  const cancelPromise = new Promise((resolve) => {\n",
              "    cancel.onclick = () => {\n",
              "      resolve(null);\n",
              "    };\n",
              "  });\n",
              "\n",
              "  // Wait for the user to pick the files.\n",
              "  const files = yield {\n",
              "    promise: Promise.race([pickedPromise, cancelPromise]),\n",
              "    response: {\n",
              "      action: 'starting',\n",
              "    }\n",
              "  };\n",
              "\n",
              "  cancel.remove();\n",
              "\n",
              "  // Disable the input element since further picks are not allowed.\n",
              "  inputElement.disabled = true;\n",
              "\n",
              "  if (!files) {\n",
              "    return {\n",
              "      response: {\n",
              "        action: 'complete',\n",
              "      }\n",
              "    };\n",
              "  }\n",
              "\n",
              "  for (const file of files) {\n",
              "    const li = document.createElement('li');\n",
              "    li.append(span(file.name, {fontWeight: 'bold'}));\n",
              "    li.append(span(\n",
              "        `(${file.type || 'n/a'}) - ${file.size} bytes, ` +\n",
              "        `last modified: ${\n",
              "            file.lastModifiedDate ? file.lastModifiedDate.toLocaleDateString() :\n",
              "                                    'n/a'} - `));\n",
              "    const percent = span('0% done');\n",
              "    li.appendChild(percent);\n",
              "\n",
              "    outputElement.appendChild(li);\n",
              "\n",
              "    const fileDataPromise = new Promise((resolve) => {\n",
              "      const reader = new FileReader();\n",
              "      reader.onload = (e) => {\n",
              "        resolve(e.target.result);\n",
              "      };\n",
              "      reader.readAsArrayBuffer(file);\n",
              "    });\n",
              "    // Wait for the data to be ready.\n",
              "    let fileData = yield {\n",
              "      promise: fileDataPromise,\n",
              "      response: {\n",
              "        action: 'continue',\n",
              "      }\n",
              "    };\n",
              "\n",
              "    // Use a chunked sending to avoid message size limits. See b/62115660.\n",
              "    let position = 0;\n",
              "    do {\n",
              "      const length = Math.min(fileData.byteLength - position, MAX_PAYLOAD_SIZE);\n",
              "      const chunk = new Uint8Array(fileData, position, length);\n",
              "      position += length;\n",
              "\n",
              "      const base64 = btoa(String.fromCharCode.apply(null, chunk));\n",
              "      yield {\n",
              "        response: {\n",
              "          action: 'append',\n",
              "          file: file.name,\n",
              "          data: base64,\n",
              "        },\n",
              "      };\n",
              "\n",
              "      let percentDone = fileData.byteLength === 0 ?\n",
              "          100 :\n",
              "          Math.round((position / fileData.byteLength) * 100);\n",
              "      percent.textContent = `${percentDone}% done`;\n",
              "\n",
              "    } while (position < fileData.byteLength);\n",
              "  }\n",
              "\n",
              "  // All done.\n",
              "  yield {\n",
              "    response: {\n",
              "      action: 'complete',\n",
              "    }\n",
              "  };\n",
              "}\n",
              "\n",
              "scope.google = scope.google || {};\n",
              "scope.google.colab = scope.google.colab || {};\n",
              "scope.google.colab._files = {\n",
              "  _uploadFiles,\n",
              "  _uploadFilesContinue,\n",
              "};\n",
              "})(self);\n",
              "</script> "
            ]
          },
          "metadata": {}
        },
        {
          "output_type": "stream",
          "name": "stdout",
          "text": [
            "Saving Data Before.docx to Data Before.docx\n",
            "You have uploaded: Data Before.docx\n"
          ]
        }
      ]
    },
    {
      "cell_type": "markdown",
      "source": [
        "### Dataset Preparation\n",
        "Once the articles are collected, we will categorize the data into two sets:\n",
        "- **Before the Coup**: Articles published before the event.\n",
        "- **After the Coup**: Articles published after the event.\n",
        "\n",
        "In total a 50 articles were taken for \"after\".\n",
        "##TOTAL WORD COUNT: 55261\n",
        "\n",
        "Time duration of all Articles - 1st july 2024 to 3th August 2024."
      ],
      "metadata": {
        "id": "DGggVXxfVbxQ"
      }
    },
    {
      "cell_type": "markdown",
      "source": [
        "# Step 3: Data Preprocessing of Articles published after the event."
      ],
      "metadata": {
        "id": "lHwg02pDVvIi"
      }
    },
    {
      "cell_type": "markdown",
      "source": [
        "**Text Cleaning**: Remove HTML tags, special characters, stopwords, and perform stemming/lemmatization.\n"
      ],
      "metadata": {
        "id": "1DuQszajXQbQ"
      }
    },
    {
      "cell_type": "code",
      "source": [
        "!pip install python-docx\n"
      ],
      "metadata": {
        "colab": {
          "base_uri": "https://localhost:8080/"
        },
        "id": "EaqjBwdNY8Tk",
        "outputId": "5526bb86-1989-496c-8718-f73e889b7dc3"
      },
      "execution_count": null,
      "outputs": [
        {
          "output_type": "stream",
          "name": "stdout",
          "text": [
            "Collecting python-docx\n",
            "  Downloading python_docx-1.1.2-py3-none-any.whl.metadata (2.0 kB)\n",
            "Requirement already satisfied: lxml>=3.1.0 in /usr/local/lib/python3.10/dist-packages (from python-docx) (4.9.4)\n",
            "Requirement already satisfied: typing-extensions>=4.9.0 in /usr/local/lib/python3.10/dist-packages (from python-docx) (4.12.2)\n",
            "Downloading python_docx-1.1.2-py3-none-any.whl (244 kB)\n",
            "\u001b[2K   \u001b[90m━━━━━━━━━━━━━━━━━━━━━━━━━━━━━━━━━━━━━━━━\u001b[0m \u001b[32m244.3/244.3 kB\u001b[0m \u001b[31m4.0 MB/s\u001b[0m eta \u001b[36m0:00:00\u001b[0m\n",
            "\u001b[?25hInstalling collected packages: python-docx\n",
            "Successfully installed python-docx-1.1.2\n"
          ]
        }
      ]
    },
    {
      "cell_type": "code",
      "source": [
        "from google.colab import files # Upload and process the Doc file\n",
        "import docx # Read and extraction of content in Doc file\n",
        "import nltk # Library for text processing and analysis.\n",
        "import re # pattern matching , cleaning unwanted characters in text\n",
        "from nltk.corpus import stopwords\n",
        "from nltk.stem import WordNetLemmatizer\n",
        "from bs4 import BeautifulSoup\n",
        "\n",
        "# Download necessary NLTK data\n",
        "nltk.download('stopwords')\n",
        "nltk.download('wordnet') # Used for lemmatization\n",
        "nltk.download('punkt') # A tokenizer model\n",
        "\n",
        "# Initialize Lemmatizer and stopwords\n",
        "lemmatizer = WordNetLemmatizer()\n",
        "stop_words = set(stopwords.words('english'))\n",
        "\n",
        "# Function to clean text\n",
        "def clean_text(text):\n",
        "    # Remove HTML tags\n",
        "    soup = BeautifulSoup(text, \"html.parser\")\n",
        "    text = soup.get_text() # Strips away HTML tags\n",
        "\n",
        "    # Remove special characters, numbers, and punctuations\n",
        "    text = re.sub(r'[^A-Za-z\\s]', '', text) # keep = alphabetic characters and spaces Removes - punctuation, numbers, etc.\n",
        "\n",
        "    # Convert to lowercase\n",
        "    text = text.lower()\n",
        "\n",
        "    # Tokenize the text\n",
        "    tokens = nltk.word_tokenize(text)\n",
        "\n",
        "    # Remove stopwords and perform lemmatization\n",
        "    cleaned_text = [lemmatizer.lemmatize(word) for word in tokens if word not in stop_words]\n",
        "\n",
        "    # Join the cleaned tokens back into a single string\n",
        "    return ' '.join(cleaned_text) # tokens are rejoined into a single string\n",
        "\n",
        "# Upload the Data.docx file once\n",
        "uploaded = files.upload()\n",
        "\n",
        "# Access the uploaded file directly\n",
        "file_name = list(uploaded.keys())[0]  # Get the uploaded file's name\n",
        "\n",
        "# Function to read the Word file\n",
        "def read_word_file(file_name):\n",
        "    doc = docx.Document(file_name)\n",
        "    content = []\n",
        "    for paragraph in doc.paragraphs:\n",
        "        content.append(paragraph.text)\n",
        "    return \"\\n\".join(content)\n",
        "\n",
        "# Read the content of the uploaded file\n",
        "file_content = read_word_file(file_name)\n",
        "\n",
        "# Clean the content\n",
        "cleaned_content = clean_text(file_content)\n",
        "\n",
        "# Split the cleaned content into words and print the first 500 words\n",
        "words = cleaned_content.split()  # Split into individual words\n",
        "first_500_words = \" \".join(words[:500])  # Join the first 500 words back into a string\n",
        "\n",
        "# Display the first 500 words\n",
        "print(\"First 500 words of the cleaned Data.docx file:\\n\")\n",
        "print(first_500_words)\n"
      ],
      "metadata": {
        "colab": {
          "base_uri": "https://localhost:8080/",
          "height": 238
        },
        "id": "DlSds_-cZbfn",
        "outputId": "70bf68f5-b10e-40f8-eba9-b424130ba52c"
      },
      "execution_count": null,
      "outputs": [
        {
          "output_type": "stream",
          "name": "stderr",
          "text": [
            "[nltk_data] Downloading package stopwords to /root/nltk_data...\n",
            "[nltk_data]   Unzipping corpora/stopwords.zip.\n",
            "[nltk_data] Downloading package wordnet to /root/nltk_data...\n",
            "[nltk_data] Downloading package punkt to /root/nltk_data...\n",
            "[nltk_data]   Unzipping tokenizers/punkt.zip.\n"
          ]
        },
        {
          "output_type": "display_data",
          "data": {
            "text/plain": [
              "<IPython.core.display.HTML object>"
            ],
            "text/html": [
              "\n",
              "     <input type=\"file\" id=\"files-3a12f9df-2d27-4be4-a387-ad82dcce9f2b\" name=\"files[]\" multiple disabled\n",
              "        style=\"border:none\" />\n",
              "     <output id=\"result-3a12f9df-2d27-4be4-a387-ad82dcce9f2b\">\n",
              "      Upload widget is only available when the cell has been executed in the\n",
              "      current browser session. Please rerun this cell to enable.\n",
              "      </output>\n",
              "      <script>// Copyright 2017 Google LLC\n",
              "//\n",
              "// Licensed under the Apache License, Version 2.0 (the \"License\");\n",
              "// you may not use this file except in compliance with the License.\n",
              "// You may obtain a copy of the License at\n",
              "//\n",
              "//      http://www.apache.org/licenses/LICENSE-2.0\n",
              "//\n",
              "// Unless required by applicable law or agreed to in writing, software\n",
              "// distributed under the License is distributed on an \"AS IS\" BASIS,\n",
              "// WITHOUT WARRANTIES OR CONDITIONS OF ANY KIND, either express or implied.\n",
              "// See the License for the specific language governing permissions and\n",
              "// limitations under the License.\n",
              "\n",
              "/**\n",
              " * @fileoverview Helpers for google.colab Python module.\n",
              " */\n",
              "(function(scope) {\n",
              "function span(text, styleAttributes = {}) {\n",
              "  const element = document.createElement('span');\n",
              "  element.textContent = text;\n",
              "  for (const key of Object.keys(styleAttributes)) {\n",
              "    element.style[key] = styleAttributes[key];\n",
              "  }\n",
              "  return element;\n",
              "}\n",
              "\n",
              "// Max number of bytes which will be uploaded at a time.\n",
              "const MAX_PAYLOAD_SIZE = 100 * 1024;\n",
              "\n",
              "function _uploadFiles(inputId, outputId) {\n",
              "  const steps = uploadFilesStep(inputId, outputId);\n",
              "  const outputElement = document.getElementById(outputId);\n",
              "  // Cache steps on the outputElement to make it available for the next call\n",
              "  // to uploadFilesContinue from Python.\n",
              "  outputElement.steps = steps;\n",
              "\n",
              "  return _uploadFilesContinue(outputId);\n",
              "}\n",
              "\n",
              "// This is roughly an async generator (not supported in the browser yet),\n",
              "// where there are multiple asynchronous steps and the Python side is going\n",
              "// to poll for completion of each step.\n",
              "// This uses a Promise to block the python side on completion of each step,\n",
              "// then passes the result of the previous step as the input to the next step.\n",
              "function _uploadFilesContinue(outputId) {\n",
              "  const outputElement = document.getElementById(outputId);\n",
              "  const steps = outputElement.steps;\n",
              "\n",
              "  const next = steps.next(outputElement.lastPromiseValue);\n",
              "  return Promise.resolve(next.value.promise).then((value) => {\n",
              "    // Cache the last promise value to make it available to the next\n",
              "    // step of the generator.\n",
              "    outputElement.lastPromiseValue = value;\n",
              "    return next.value.response;\n",
              "  });\n",
              "}\n",
              "\n",
              "/**\n",
              " * Generator function which is called between each async step of the upload\n",
              " * process.\n",
              " * @param {string} inputId Element ID of the input file picker element.\n",
              " * @param {string} outputId Element ID of the output display.\n",
              " * @return {!Iterable<!Object>} Iterable of next steps.\n",
              " */\n",
              "function* uploadFilesStep(inputId, outputId) {\n",
              "  const inputElement = document.getElementById(inputId);\n",
              "  inputElement.disabled = false;\n",
              "\n",
              "  const outputElement = document.getElementById(outputId);\n",
              "  outputElement.innerHTML = '';\n",
              "\n",
              "  const pickedPromise = new Promise((resolve) => {\n",
              "    inputElement.addEventListener('change', (e) => {\n",
              "      resolve(e.target.files);\n",
              "    });\n",
              "  });\n",
              "\n",
              "  const cancel = document.createElement('button');\n",
              "  inputElement.parentElement.appendChild(cancel);\n",
              "  cancel.textContent = 'Cancel upload';\n",
              "  const cancelPromise = new Promise((resolve) => {\n",
              "    cancel.onclick = () => {\n",
              "      resolve(null);\n",
              "    };\n",
              "  });\n",
              "\n",
              "  // Wait for the user to pick the files.\n",
              "  const files = yield {\n",
              "    promise: Promise.race([pickedPromise, cancelPromise]),\n",
              "    response: {\n",
              "      action: 'starting',\n",
              "    }\n",
              "  };\n",
              "\n",
              "  cancel.remove();\n",
              "\n",
              "  // Disable the input element since further picks are not allowed.\n",
              "  inputElement.disabled = true;\n",
              "\n",
              "  if (!files) {\n",
              "    return {\n",
              "      response: {\n",
              "        action: 'complete',\n",
              "      }\n",
              "    };\n",
              "  }\n",
              "\n",
              "  for (const file of files) {\n",
              "    const li = document.createElement('li');\n",
              "    li.append(span(file.name, {fontWeight: 'bold'}));\n",
              "    li.append(span(\n",
              "        `(${file.type || 'n/a'}) - ${file.size} bytes, ` +\n",
              "        `last modified: ${\n",
              "            file.lastModifiedDate ? file.lastModifiedDate.toLocaleDateString() :\n",
              "                                    'n/a'} - `));\n",
              "    const percent = span('0% done');\n",
              "    li.appendChild(percent);\n",
              "\n",
              "    outputElement.appendChild(li);\n",
              "\n",
              "    const fileDataPromise = new Promise((resolve) => {\n",
              "      const reader = new FileReader();\n",
              "      reader.onload = (e) => {\n",
              "        resolve(e.target.result);\n",
              "      };\n",
              "      reader.readAsArrayBuffer(file);\n",
              "    });\n",
              "    // Wait for the data to be ready.\n",
              "    let fileData = yield {\n",
              "      promise: fileDataPromise,\n",
              "      response: {\n",
              "        action: 'continue',\n",
              "      }\n",
              "    };\n",
              "\n",
              "    // Use a chunked sending to avoid message size limits. See b/62115660.\n",
              "    let position = 0;\n",
              "    do {\n",
              "      const length = Math.min(fileData.byteLength - position, MAX_PAYLOAD_SIZE);\n",
              "      const chunk = new Uint8Array(fileData, position, length);\n",
              "      position += length;\n",
              "\n",
              "      const base64 = btoa(String.fromCharCode.apply(null, chunk));\n",
              "      yield {\n",
              "        response: {\n",
              "          action: 'append',\n",
              "          file: file.name,\n",
              "          data: base64,\n",
              "        },\n",
              "      };\n",
              "\n",
              "      let percentDone = fileData.byteLength === 0 ?\n",
              "          100 :\n",
              "          Math.round((position / fileData.byteLength) * 100);\n",
              "      percent.textContent = `${percentDone}% done`;\n",
              "\n",
              "    } while (position < fileData.byteLength);\n",
              "  }\n",
              "\n",
              "  // All done.\n",
              "  yield {\n",
              "    response: {\n",
              "      action: 'complete',\n",
              "    }\n",
              "  };\n",
              "}\n",
              "\n",
              "scope.google = scope.google || {};\n",
              "scope.google.colab = scope.google.colab || {};\n",
              "scope.google.colab._files = {\n",
              "  _uploadFiles,\n",
              "  _uploadFilesContinue,\n",
              "};\n",
              "})(self);\n",
              "</script> "
            ]
          },
          "metadata": {}
        },
        {
          "output_type": "stream",
          "name": "stdout",
          "text": [
            "Saving Data Before.docx to Data Before (1).docx\n",
            "First 500 words of the cleaned Data.docx file:\n",
            "\n",
            "hazard incidence bangladesh july format situation report source nirapad posted sep originally published sep attachment download reportpdf kb overview hazard incidence july total distinct hazard incident occurred bangladesh july incident included covid dengue fire incident waterlogging heat wave lightning landslide boat capsize flood june july severe monsoon rain caused devastating flood across district significantly impacting life million flood affected total million people reported death including least seven rohingya refugee approximately individual displaced emergency shelter floodwaters damaged home infrastructure agricultural land besides based dghs daily situation report increase confirmed dengue case compared previous month confirmed case reported death total throughout july july series boat capsized across various region bangladesh leading total death missing person one injury hand several lightning occurred impact significant due sudden loss six life affecting multiple family community across different region day additionally according dghs patient newly identified covid period one reported death people made full recovery indicates decrease number confirmed case number death compared previous month month two people killed result landslide injured three individual two extensive waterlogging baghaichhari upazila rangamati dhaka led six union losing communication upazila headquarters washing away student significant damage fish pond crop rise mosquito infestation gas crisis foulsmelling tap water july july total fire incidence recorded across various division bangladesh impact reported region heatwave july july blown across bangladesh heatwave categorized mild impacted wide range several district bangladesh top news day haryana suspends internet hour nuh ahead jalabhishek yatra bangladesh top court scrap job quota behind protest major news headline day published july pm ist hindu bureau read later print police fire tear gas shell disperse student protesting controversial quota system government job applicant dhaka bangladesh july photo credit ap haryana suspends internet bulk sm hour nuh ahead braj mandal yatra haryana government july ordered suspension mobile internet bulk sm service nuh district hour ahead braj mandal jalabhishek yatra marred violence last year internet service district remain suspended pm july sunday pm july monday according order haryana additional chief secretary home anurag rastogi apprehension causing tension annoyance agitation damage public private property disturbance public peace tranquility district nuh read order came feedback additional dgpcid haryana deputy commissioner bangladesh supreme court scrap job quota triggered deadly protest bangladesh top court july pared back contentious civil service hiring rule failed mollify university student leader whose demonstration scheme sparked nationwide clash killed people began protest politicised admission quota soughtafter government job snowballed week worst unrest prime minister sheikh hasinas tenure bsf high alert view widespread violence bangladesh student arrive tripura border security force bsf said closely monitoring situation bangladesh hundred people reportedly died antigovernment protest job quota statement issued july tripura frontier bsf announced troop high alert due ongoing violence across border statement also mentioned safe return indian student stranded brahmanbaria medical college bangladesh stated total student including nepal arrived tripura integrated check post july mamata banerjee offer shelter bangladeshi amid escalating violence west bengal chief minister mamata banerjee july said wake escalating violence bangladesh would keep door state open people distress neighbouring country offer\n"
          ]
        }
      ]
    },
    {
      "cell_type": "markdown",
      "source": [
        "**Tokenization**: Split the text into individual tokens (words) using NLTK’s word_tokenize."
      ],
      "metadata": {
        "id": "mdwEpoChbJx0"
      }
    },
    {
      "cell_type": "code",
      "source": [
        "import nltk\n",
        "\n",
        "# Tokenize the text\n",
        "nltk.download('punkt')\n",
        "tokens = nltk.word_tokenize(cleaned_content)\n",
        "\n",
        "# Join and print the first 500 tokens\n",
        "first_500_tokens = \" \".join(tokens[:500])\n",
        "print(\"First 500 tokens after tokenization:\\n\")\n",
        "print(first_500_tokens)\n"
      ],
      "metadata": {
        "colab": {
          "base_uri": "https://localhost:8080/"
        },
        "id": "Bj03vfRZbKyL",
        "outputId": "741ac03c-6cab-4b87-f0e7-a82bda551aa6"
      },
      "execution_count": null,
      "outputs": [
        {
          "output_type": "stream",
          "name": "stdout",
          "text": [
            "First 500 tokens after tokenization:\n",
            "\n",
            "hazard incidence bangladesh july format situation report source nirapad posted sep originally published sep attachment download reportpdf kb overview hazard incidence july total distinct hazard incident occurred bangladesh july incident included covid dengue fire incident waterlogging heat wave lightning landslide boat capsize flood june july severe monsoon rain caused devastating flood across district significantly impacting life million flood affected total million people reported death including least seven rohingya refugee approximately individual displaced emergency shelter floodwaters damaged home infrastructure agricultural land besides based dghs daily situation report increase confirmed dengue case compared previous month confirmed case reported death total throughout july july series boat capsized across various region bangladesh leading total death missing person one injury hand several lightning occurred impact significant due sudden loss six life affecting multiple family community across different region day additionally according dghs patient newly identified covid period one reported death people made full recovery indicates decrease number confirmed case number death compared previous month month two people killed result landslide injured three individual two extensive waterlogging baghaichhari upazila rangamati dhaka led six union losing communication upazila headquarters washing away student significant damage fish pond crop rise mosquito infestation gas crisis foulsmelling tap water july july total fire incidence recorded across various division bangladesh impact reported region heatwave july july blown across bangladesh heatwave categorized mild impacted wide range several district bangladesh top news day haryana suspends internet hour nuh ahead jalabhishek yatra bangladesh top court scrap job quota behind protest major news headline day published july pm ist hindu bureau read later print police fire tear gas shell disperse student protesting controversial quota system government job applicant dhaka bangladesh july photo credit ap haryana suspends internet bulk sm hour nuh ahead braj mandal yatra haryana government july ordered suspension mobile internet bulk sm service nuh district hour ahead braj mandal jalabhishek yatra marred violence last year internet service district remain suspended pm july sunday pm july monday according order haryana additional chief secretary home anurag rastogi apprehension causing tension annoyance agitation damage public private property disturbance public peace tranquility district nuh read order came feedback additional dgpcid haryana deputy commissioner bangladesh supreme court scrap job quota triggered deadly protest bangladesh top court july pared back contentious civil service hiring rule failed mollify university student leader whose demonstration scheme sparked nationwide clash killed people began protest politicised admission quota soughtafter government job snowballed week worst unrest prime minister sheikh hasinas tenure bsf high alert view widespread violence bangladesh student arrive tripura border security force bsf said closely monitoring situation bangladesh hundred people reportedly died antigovernment protest job quota statement issued july tripura frontier bsf announced troop high alert due ongoing violence across border statement also mentioned safe return indian student stranded brahmanbaria medical college bangladesh stated total student including nepal arrived tripura integrated check post july mamata banerjee offer shelter bangladeshi amid escalating violence west bengal chief minister mamata banerjee july said wake escalating violence bangladesh would keep door state open people distress neighbouring country offer\n"
          ]
        },
        {
          "output_type": "stream",
          "name": "stderr",
          "text": [
            "[nltk_data] Downloading package punkt to /root/nltk_data...\n",
            "[nltk_data]   Package punkt is already up-to-date!\n"
          ]
        }
      ]
    },
    {
      "cell_type": "markdown",
      "source": [
        "**Stopword Removal**: Use NLTK’s built-in stopword corpus to filter out common, non-informative words."
      ],
      "metadata": {
        "id": "RF9K4bYpbRwZ"
      }
    },
    {
      "cell_type": "code",
      "source": [
        "from nltk.corpus import stopwords\n",
        "\n",
        "# Download stopwords if not done already\n",
        "nltk.download('stopwords')\n",
        "stop_words = set(stopwords.words('english'))\n",
        "\n",
        "# Remove stopwords\n",
        "filtered_tokens = [word for word in tokens if word.lower() not in stop_words]\n",
        "\n",
        "# Join and print the first 500 filtered tokens\n",
        "first_500_filtered = \" \".join(filtered_tokens[:500])\n",
        "print(\"First 500 words after stopword removal:\\n\")\n",
        "print(first_500_filtered)\n"
      ],
      "metadata": {
        "colab": {
          "base_uri": "https://localhost:8080/"
        },
        "id": "etQPgsnCbUI4",
        "outputId": "f5815837-121d-4540-feb3-333d87356bde"
      },
      "execution_count": null,
      "outputs": [
        {
          "output_type": "stream",
          "name": "stdout",
          "text": [
            "First 500 words after stopword removal:\n",
            "\n",
            "hazard incidence bangladesh july format situation report source nirapad posted sep originally published sep attachment download reportpdf kb overview hazard incidence july total distinct hazard incident occurred bangladesh july incident included covid dengue fire incident waterlogging heat wave lightning landslide boat capsize flood june july severe monsoon rain caused devastating flood across district significantly impacting life million flood affected total million people reported death including least seven rohingya refugee approximately individual displaced emergency shelter floodwaters damaged home infrastructure agricultural land besides based dghs daily situation report increase confirmed dengue case compared previous month confirmed case reported death total throughout july july series boat capsized across various region bangladesh leading total death missing person one injury hand several lightning occurred impact significant due sudden loss six life affecting multiple family community across different region day additionally according dghs patient newly identified covid period one reported death people made full recovery indicates decrease number confirmed case number death compared previous month month two people killed result landslide injured three individual two extensive waterlogging baghaichhari upazila rangamati dhaka led six union losing communication upazila headquarters washing away student significant damage fish pond crop rise mosquito infestation gas crisis foulsmelling tap water july july total fire incidence recorded across various division bangladesh impact reported region heatwave july july blown across bangladesh heatwave categorized mild impacted wide range several district bangladesh top news day haryana suspends internet hour nuh ahead jalabhishek yatra bangladesh top court scrap job quota behind protest major news headline day published july pm ist hindu bureau read later print police fire tear gas shell disperse student protesting controversial quota system government job applicant dhaka bangladesh july photo credit ap haryana suspends internet bulk sm hour nuh ahead braj mandal yatra haryana government july ordered suspension mobile internet bulk sm service nuh district hour ahead braj mandal jalabhishek yatra marred violence last year internet service district remain suspended pm july sunday pm july monday according order haryana additional chief secretary home anurag rastogi apprehension causing tension annoyance agitation damage public private property disturbance public peace tranquility district nuh read order came feedback additional dgpcid haryana deputy commissioner bangladesh supreme court scrap job quota triggered deadly protest bangladesh top court july pared back contentious civil service hiring rule failed mollify university student leader whose demonstration scheme sparked nationwide clash killed people began protest politicised admission quota soughtafter government job snowballed week worst unrest prime minister sheikh hasinas tenure bsf high alert view widespread violence bangladesh student arrive tripura border security force bsf said closely monitoring situation bangladesh hundred people reportedly died antigovernment protest job quota statement issued july tripura frontier bsf announced troop high alert due ongoing violence across border statement also mentioned safe return indian student stranded brahmanbaria medical college bangladesh stated total student including nepal arrived tripura integrated check post july mamata banerjee offer shelter bangladeshi amid escalating violence west bengal chief minister mamata banerjee july said wake escalating violence bangladesh would keep door state open people distress neighbouring country offer\n"
          ]
        },
        {
          "output_type": "stream",
          "name": "stderr",
          "text": [
            "[nltk_data] Downloading package stopwords to /root/nltk_data...\n",
            "[nltk_data]   Package stopwords is already up-to-date!\n"
          ]
        }
      ]
    },
    {
      "cell_type": "markdown",
      "source": [
        "**Vectorization**: Convert text into numerical data using Count Vectorization or TF-IDF."
      ],
      "metadata": {
        "id": "vqCy3AxIbXjX"
      }
    },
    {
      "cell_type": "code",
      "source": [
        "from sklearn.feature_extraction.text import CountVectorizer #  text into numerical data\n",
        "\n",
        "# Initialize CountVectorizer\n",
        "vectorizer = CountVectorizer() # turns each unique word into a feature (or column) in the matrix.\n",
        "X = vectorizer.fit_transform(filtered_tokens)\n",
        "\n",
        "# Get feature names and print first 500\n",
        "features = vectorizer.get_feature_names_out()\n",
        "print(\"First 500 features from Count Vectorization:\\n\")\n",
        "print(features[:500])\n"
      ],
      "metadata": {
        "colab": {
          "base_uri": "https://localhost:8080/"
        },
        "id": "BlAVY71CbaZV",
        "outputId": "bd7458fc-abbb-4a28-b50f-0fa5d1db57a5"
      },
      "execution_count": null,
      "outputs": [
        {
          "output_type": "stream",
          "name": "stdout",
          "text": [
            "First 500 features from Count Vectorization:\n",
            "\n",
            "['aadmi' 'aajkaalin' 'aam' 'aap' 'aaps' 'aashhabul' 'abc' 'abducted'\n",
            " 'abdul' 'abdullah' 'abdullahs' 'abdullahwere' 'abdur' 'ability' 'abject'\n",
            " 'ablaze' 'able' 'abolished' 'abridged' 'abroad' 'absence' 'absolutely'\n",
            " 'absurd' 'abu' 'abul' 'abuse' 'abused' 'abusive' 'academic' 'academy'\n",
            " 'accelerated' 'accept' 'acceptance' 'accepted' 'accepting' 'accepts'\n",
            " 'access' 'accident' 'accompanied' 'according' 'accordingly' 'account'\n",
            " 'accountability' 'accountable' 'accurate' 'accused' 'accuses' 'accusing'\n",
            " 'achieved' 'achievement' 'achieving' 'acquaintance' 'acquire' 'across'\n",
            " 'act' 'acted' 'acting' 'action' 'actively' 'activist' 'activity' 'actor'\n",
            " 'adadvertise' 'adamjee' 'adani' 'add' 'added' 'adding' 'addition'\n",
            " 'additional' 'additionally' 'address' 'addressed' 'addressing' 'adha'\n",
            " 'adidas' 'aditya' 'adityanath' 'adityanaths' 'adjoining' 'adjusting'\n",
            " 'administered' 'administration' 'admission' 'admitted' 'adolfo' 'adopt'\n",
            " 'adult' 'advance' 'advanceswas' 'adverse' 'adversely' 'advertise'\n",
            " 'advice' 'advised' 'adviser' 'advising' 'advisor' 'advisory' 'advocating'\n",
            " 'afaz' 'affair' 'affect' 'affected' 'affecting' 'affiliated'\n",
            " 'affiliation' 'affirming' 'afford' 'affordable' 'afghan' 'afghanistan'\n",
            " 'afp' 'africa' 'african' 'afrin' 'aftermath' 'afternoon' 'agartala' 'age'\n",
            " 'agence' 'agency' 'agent' 'aggregator' 'aggression' 'aghadi' 'agitation'\n",
            " 'agitator' 'agniveer' 'agniveers' 'ago' 'agree' 'agreed' 'agreeing'\n",
            " 'agrees' 'agricultural' 'agriculture' 'ahead' 'aheadadani' 'ahmed'\n",
            " 'ahmedabad' 'ahsan' 'ahsanullah' 'ai' 'aiadmk' 'aicc' 'aid' 'aide'\n",
            " 'aided' 'aidso' 'aigenerated' 'aim' 'aimed' 'aip' 'air' 'aircraftlike'\n",
            " 'airline' 'airport' 'airstrikes' 'airtel' 'aisa' 'ajio' 'ajit' 'akasa'\n",
            " 'akash' 'akbar' 'akhilesh' 'akhra' 'akhter' 'akpattern' 'akram' 'al'\n",
            " 'aladha' 'alam' 'alamgir' 'alcazar' 'aleem' 'aleksey' 'alert' 'alerter'\n",
            " 'alex' 'alexey' 'alghalib' 'algorithm' 'ali' 'alive' 'aljazeera' 'allah'\n",
            " 'allegation' 'allege' 'alleged' 'allegedly' 'alleging' 'alleviate'\n",
            " 'alliance' 'allindia' 'allocates' 'allocation' 'allotment' 'allotted'\n",
            " 'allotting' 'allout' 'allow' 'allowed' 'allowing' 'allparty' 'allrounder'\n",
            " 'ally' 'almighty' 'almost' 'alo' 'alone' 'along' 'alongside' 'alqaida'\n",
            " 'already' 'also' 'alternative' 'although' 'always' 'amazed' 'amazing'\n",
            " 'amazon' 'ambala' 'ambani' 'ambanis' 'ambassador' 'ambulance' 'amendment'\n",
            " 'america' 'american' 'amid' 'amidst' 'amin' 'amir' 'amit' 'ammunition'\n",
            " 'ammy' 'amnesty' 'among' 'amongst' 'amounted' 'amounting' 'amplify'\n",
            " 'amreen' 'amritsar' 'amroha' 'anadolu' 'analysis' 'analyst' 'analyzes'\n",
            " 'ananda' 'anbarasan' 'anchor' 'ancient' 'andhra' 'andy' 'angel' 'anger'\n",
            " 'angered' 'angry' 'ani' 'anil' 'anisul' 'ankola' 'anna' 'annexation'\n",
            " 'announce' 'announced' 'announcement' 'announces' 'announcing'\n",
            " 'annoyance' 'annually' 'anonymity' 'another' 'answer' 'anti'\n",
            " 'antiauthoritarian' 'antibody' 'anticipate' 'anticipatory'\n",
            " 'antidiscrimination' 'antigovernment' 'antigovernmente' 'antihasina'\n",
            " 'antihindu' 'antijob' 'antipension' 'antiquota' 'antirepression'\n",
            " 'antisemitic' 'antisuperstition' 'antiterrorism' 'antivirus' 'antnio'\n",
            " 'antofagasta' 'antonio' 'antony' 'anubhuti' 'anupreeta' 'anurag' 'anwara'\n",
            " 'anxiously' 'anymore' 'anyone' 'anything' 'ap' 'aparajeyo' 'apart' 'apc'\n",
            " 'apex' 'apollo' 'apologize' 'apology' 'app' 'apparent' 'appeal'\n",
            " 'appealed' 'appealing' 'appearance' 'appeared' 'appears' 'appellate'\n",
            " 'apple' 'applicable' 'applicant' 'application' 'apply' 'appointed'\n",
            " 'appreciate' 'appreciated' 'apprehended' 'apprehension' 'approach'\n",
            " 'appropriate' 'approx' 'approximately' 'apps' 'april' 'arab' 'arabiya'\n",
            " 'araby' 'arafat' 'arbitrarily' 'arbitrary' 'archived' 'area' 'areataylor'\n",
            " 'areeb' 'arena' 'argue' 'argued' 'arguing' 'argument' 'arif' 'arild'\n",
            " 'arindam' 'arm' 'armed' 'armoured' 'army' 'armymilitary' 'around'\n",
            " 'arrangement' 'arrest' 'arrested' 'arresting' 'arrestsk' 'arrival'\n",
            " 'arrive' 'arrived' 'arriving' 'arrogance' 'arrogant' 'arrow' 'arsalan'\n",
            " 'arson' 'art' 'arthritis' 'article' 'arvind' 'arvindji' 'arvindjis'\n",
            " 'asaduzzaman' 'ashadha' 'ashamed' 'ashish' 'ashulia' 'ashwini' 'asi'\n",
            " 'asia' 'asian' 'asif' 'ask' 'asked' 'asking' 'asks' 'aspect'\n",
            " 'aspirational' 'ass' 'assailant' 'assam' 'assassin' 'assassination'\n",
            " 'assault' 'assaulted' 'assembled' 'assembling' 'assembly' 'asserted'\n",
            " 'assessment' 'assist' 'assistance' 'assistant' 'assisted' 'assisting'\n",
            " 'associate' 'associated' 'association' 'assured' 'assures' 'atishi'\n",
            " 'atoll' 'attachment' 'attack' 'attacked' 'attacker' 'attacking' 'attempt'\n",
            " 'attempted' 'attempting' 'attend' 'attended' 'attendee' 'attending'\n",
            " 'attention' 'attorney' 'attribute' 'attributed' 'attributionsharealike'\n",
            " 'au' 'audience' 'aug' 'august' 'australia' 'australian' 'author'\n",
            " 'authoritarian' 'authority' 'auto' 'autocracy' 'autocrat' 'autocratx'\n",
            " 'automaker' 'autonomous' 'autorickshaw' 'avail' 'availability'\n",
            " 'available' 'availing' 'average' 'averaging' 'avert' 'aviation' 'aviv'\n",
            " 'avoid' 'avoidance' 'awaiting' 'awaits' 'awami' 'award' 'awarded' 'aware'\n",
            " 'away' 'axe' 'axis' 'aysenur' 'ayushman' 'azure' 'baazar' 'baba' 'baby'\n",
            " 'bacchu' 'back' 'backed' 'backfired' 'background' 'backlash' 'backlog'\n",
            " 'backup' 'bad' 'badda' 'badly' 'badwe' 'baf' 'bagchi' 'baghaichhari'\n",
            " 'bahla' 'bail']\n"
          ]
        }
      ]
    },
    {
      "cell_type": "markdown",
      "source": [
        "**POS Tagging**: Use NLTK’s averaged_perceptron_tagger to tag parts of speech, which could be used as features."
      ],
      "metadata": {
        "id": "ea9L1Wckbqyx"
      }
    },
    {
      "cell_type": "code",
      "source": [
        "nltk.download('averaged_perceptron_tagger')\n"
      ],
      "metadata": {
        "colab": {
          "base_uri": "https://localhost:8080/"
        },
        "id": "nqQxSSrIcBvc",
        "outputId": "92a043e6-2d17-4c52-f831-e72c38eace79"
      },
      "execution_count": null,
      "outputs": [
        {
          "output_type": "stream",
          "name": "stderr",
          "text": [
            "[nltk_data] Downloading package averaged_perceptron_tagger to\n",
            "[nltk_data]     /root/nltk_data...\n",
            "[nltk_data]   Unzipping taggers/averaged_perceptron_tagger.zip.\n"
          ]
        },
        {
          "output_type": "execute_result",
          "data": {
            "text/plain": [
              "True"
            ]
          },
          "metadata": {},
          "execution_count": 7
        }
      ]
    },
    {
      "cell_type": "code",
      "source": [
        "# Download necessary POS tagger from NLTK\n",
        "nltk.download('averaged_perceptron_tagger')\n",
        "\n",
        "# Perform POS tagging\n",
        "pos_tags = nltk.pos_tag(filtered_tokens) # = which are the words remaining after stopword removal\n",
        "\n",
        "# Print the first 500 POS tags\n",
        "first_500_pos = pos_tags[:500]\n",
        "print(\"First 500 POS tags:\\n\")\n",
        "print(first_500_pos)\n",
        "\n",
        "#grammatical structure of sentences, named entity recognition (NER), or improving features for machine learning models.\n"
      ],
      "metadata": {
        "colab": {
          "base_uri": "https://localhost:8080/"
        },
        "id": "MKsiUNPPcC6_",
        "outputId": "2304ff40-3439-458f-bef1-2950d2fc1b59"
      },
      "execution_count": null,
      "outputs": [
        {
          "output_type": "stream",
          "name": "stderr",
          "text": [
            "[nltk_data] Downloading package averaged_perceptron_tagger to\n",
            "[nltk_data]     /root/nltk_data...\n",
            "[nltk_data]   Package averaged_perceptron_tagger is already up-to-\n",
            "[nltk_data]       date!\n"
          ]
        },
        {
          "output_type": "stream",
          "name": "stdout",
          "text": [
            "First 500 POS tags:\n",
            "\n",
            "[('hazard', 'NN'), ('incidence', 'NN'), ('bangladesh', 'JJ'), ('july', 'NN'), ('format', 'JJ'), ('situation', 'NN'), ('report', 'NN'), ('source', 'NN'), ('nirapad', 'RB'), ('posted', 'VBD'), ('sep', 'JJ'), ('originally', 'RB'), ('published', 'VBN'), ('sep', 'JJ'), ('attachment', 'NN'), ('download', 'NN'), ('reportpdf', 'NN'), ('kb', 'NN'), ('overview', 'VBP'), ('hazard', 'NN'), ('incidence', 'NN'), ('july', 'NN'), ('total', 'JJ'), ('distinct', 'JJ'), ('hazard', 'NN'), ('incident', 'NN'), ('occurred', 'VBD'), ('bangladesh', 'JJ'), ('july', 'NN'), ('incident', 'NN'), ('included', 'VBD'), ('covid', 'JJ'), ('dengue', 'NN'), ('fire', 'NN'), ('incident', 'NN'), ('waterlogging', 'VBG'), ('heat', 'NN'), ('wave', 'VBP'), ('lightning', 'VBG'), ('landslide', 'NN'), ('boat', 'NN'), ('capsize', 'VB'), ('flood', 'NN'), ('june', 'NN'), ('july', 'NN'), ('severe', 'JJ'), ('monsoon', 'NN'), ('rain', 'NN'), ('caused', 'VBD'), ('devastating', 'VBG'), ('flood', 'NN'), ('across', 'IN'), ('district', 'NN'), ('significantly', 'RB'), ('impacting', 'VBG'), ('life', 'NN'), ('million', 'CD'), ('flood', 'NN'), ('affected', 'VBD'), ('total', 'JJ'), ('million', 'CD'), ('people', 'NNS'), ('reported', 'VBN'), ('death', 'NN'), ('including', 'VBG'), ('least', 'JJS'), ('seven', 'CD'), ('rohingya', 'JJ'), ('refugee', 'NN'), ('approximately', 'RB'), ('individual', 'JJ'), ('displaced', 'VBD'), ('emergency', 'NN'), ('shelter', 'NN'), ('floodwaters', 'NNS'), ('damaged', 'VBD'), ('home', 'NN'), ('infrastructure', 'NN'), ('agricultural', 'JJ'), ('land', 'NN'), ('besides', 'NNS'), ('based', 'VBN'), ('dghs', 'NNS'), ('daily', 'JJ'), ('situation', 'NN'), ('report', 'NN'), ('increase', 'NN'), ('confirmed', 'VBD'), ('dengue', 'JJ'), ('case', 'NN'), ('compared', 'VBN'), ('previous', 'JJ'), ('month', 'NN'), ('confirmed', 'VBD'), ('case', 'NN'), ('reported', 'VBN'), ('death', 'NN'), ('total', 'NN'), ('throughout', 'IN'), ('july', 'NN'), ('july', 'JJ'), ('series', 'NN'), ('boat', 'NN'), ('capsized', 'VBN'), ('across', 'IN'), ('various', 'JJ'), ('region', 'NN'), ('bangladesh', 'NN'), ('leading', 'VBG'), ('total', 'JJ'), ('death', 'NN'), ('missing', 'VBG'), ('person', 'NN'), ('one', 'CD'), ('injury', 'NN'), ('hand', 'NN'), ('several', 'JJ'), ('lightning', 'NN'), ('occurred', 'VBD'), ('impact', 'JJ'), ('significant', 'JJ'), ('due', 'JJ'), ('sudden', 'JJ'), ('loss', 'NN'), ('six', 'CD'), ('life', 'NN'), ('affecting', 'VBG'), ('multiple', 'JJ'), ('family', 'NN'), ('community', 'NN'), ('across', 'IN'), ('different', 'JJ'), ('region', 'NN'), ('day', 'NN'), ('additionally', 'RB'), ('according', 'VBG'), ('dghs', 'NNS'), ('patient', 'JJ'), ('newly', 'RB'), ('identified', 'VBN'), ('covid', 'JJ'), ('period', 'NN'), ('one', 'CD'), ('reported', 'VBN'), ('death', 'NN'), ('people', 'NNS'), ('made', 'VBN'), ('full', 'JJ'), ('recovery', 'NN'), ('indicates', 'VBZ'), ('decrease', 'JJ'), ('number', 'NN'), ('confirmed', 'VBN'), ('case', 'NN'), ('number', 'NN'), ('death', 'NN'), ('compared', 'VBN'), ('previous', 'JJ'), ('month', 'NN'), ('month', 'NN'), ('two', 'CD'), ('people', 'NNS'), ('killed', 'VBD'), ('result', 'NN'), ('landslide', 'NN'), ('injured', 'VBD'), ('three', 'CD'), ('individual', 'JJ'), ('two', 'CD'), ('extensive', 'JJ'), ('waterlogging', 'VBG'), ('baghaichhari', 'NN'), ('upazila', 'JJ'), ('rangamati', 'NN'), ('dhaka', 'NN'), ('led', 'VBD'), ('six', 'CD'), ('union', 'NN'), ('losing', 'VBG'), ('communication', 'NN'), ('upazila', 'JJ'), ('headquarters', 'NN'), ('washing', 'VBG'), ('away', 'RB'), ('student', 'NN'), ('significant', 'JJ'), ('damage', 'NN'), ('fish', 'JJ'), ('pond', 'NN'), ('crop', 'NN'), ('rise', 'NN'), ('mosquito', 'NN'), ('infestation', 'NN'), ('gas', 'NN'), ('crisis', 'NN'), ('foulsmelling', 'VBG'), ('tap', 'JJ'), ('water', 'NN'), ('july', 'NN'), ('july', 'NN'), ('total', 'JJ'), ('fire', 'NN'), ('incidence', 'NN'), ('recorded', 'VBN'), ('across', 'IN'), ('various', 'JJ'), ('division', 'NN'), ('bangladesh', 'JJ'), ('impact', 'NN'), ('reported', 'VBN'), ('region', 'NN'), ('heatwave', 'NN'), ('july', 'NN'), ('july', 'RB'), ('blown', 'JJ'), ('across', 'IN'), ('bangladesh', 'JJ'), ('heatwave', 'NN'), ('categorized', 'VBN'), ('mild', 'RB'), ('impacted', 'JJ'), ('wide', 'JJ'), ('range', 'NN'), ('several', 'JJ'), ('district', 'NN'), ('bangladesh', 'NN'), ('top', 'JJ'), ('news', 'NN'), ('day', 'NN'), ('haryana', 'VB'), ('suspends', 'NNS'), ('internet', 'JJ'), ('hour', 'NN'), ('nuh', 'NN'), ('ahead', 'RB'), ('jalabhishek', 'JJ'), ('yatra', 'JJ'), ('bangladesh', 'JJ'), ('top', 'JJ'), ('court', 'NN'), ('scrap', 'VBD'), ('job', 'NN'), ('quota', 'NN'), ('behind', 'IN'), ('protest', 'NN'), ('major', 'JJ'), ('news', 'NN'), ('headline', 'NN'), ('day', 'NN'), ('published', 'VBN'), ('july', 'RB'), ('pm', 'JJ'), ('ist', 'NN'), ('hindu', 'NN'), ('bureau', 'NN'), ('read', 'VBP'), ('later', 'RB'), ('print', 'JJ'), ('police', 'NNS'), ('fire', 'VBP'), ('tear', 'IN'), ('gas', 'NN'), ('shell', 'NN'), ('disperse', 'JJ'), ('student', 'NN'), ('protesting', 'VBG'), ('controversial', 'JJ'), ('quota', 'NN'), ('system', 'NN'), ('government', 'NN'), ('job', 'NN'), ('applicant', 'JJ'), ('dhaka', 'NN'), ('bangladesh', 'NN'), ('july', 'NN'), ('photo', 'NN'), ('credit', 'NN'), ('ap', 'NN'), ('haryana', 'NN'), ('suspends', 'VBZ'), ('internet', 'JJ'), ('bulk', 'NN'), ('sm', 'VBD'), ('hour', 'NN'), ('nuh', 'NN'), ('ahead', 'RB'), ('braj', 'VBD'), ('mandal', 'JJ'), ('yatra', 'NNP'), ('haryana', 'NN'), ('government', 'NN'), ('july', 'NN'), ('ordered', 'VBD'), ('suspension', 'NN'), ('mobile', 'JJ'), ('internet', 'NN'), ('bulk', 'NN'), ('sm', 'NN'), ('service', 'NN'), ('nuh', 'JJ'), ('district', 'NN'), ('hour', 'NN'), ('ahead', 'RB'), ('braj', 'VBD'), ('mandal', 'JJ'), ('jalabhishek', 'NN'), ('yatra', 'NN'), ('marred', 'VBD'), ('violence', 'NN'), ('last', 'JJ'), ('year', 'NN'), ('internet', 'NN'), ('service', 'NN'), ('district', 'NN'), ('remain', 'NN'), ('suspended', 'VBD'), ('pm', 'JJ'), ('july', 'NN'), ('sunday', 'JJ'), ('pm', 'NN'), ('july', 'NN'), ('monday', 'JJ'), ('according', 'VBG'), ('order', 'NN'), ('haryana', 'NN'), ('additional', 'JJ'), ('chief', 'NN'), ('secretary', 'NN'), ('home', 'NN'), ('anurag', 'NN'), ('rastogi', 'JJ'), ('apprehension', 'NN'), ('causing', 'VBG'), ('tension', 'NN'), ('annoyance', 'NN'), ('agitation', 'NN'), ('damage', 'NN'), ('public', 'JJ'), ('private', 'JJ'), ('property', 'NN'), ('disturbance', 'NN'), ('public', 'JJ'), ('peace', 'NN'), ('tranquility', 'NN'), ('district', 'NN'), ('nuh', 'NN'), ('read', 'JJ'), ('order', 'NN'), ('came', 'VBD'), ('feedback', 'JJ'), ('additional', 'JJ'), ('dgpcid', 'NN'), ('haryana', 'NN'), ('deputy', 'NN'), ('commissioner', 'NN'), ('bangladesh', 'JJ'), ('supreme', 'JJ'), ('court', 'NN'), ('scrap', 'VBD'), ('job', 'NN'), ('quota', 'NN'), ('triggered', 'VBD'), ('deadly', 'RB'), ('protest', 'JJ'), ('bangladesh', 'JJ'), ('top', 'JJ'), ('court', 'NN'), ('july', 'NN'), ('pared', 'VBD'), ('back', 'RB'), ('contentious', 'JJ'), ('civil', 'JJ'), ('service', 'NN'), ('hiring', 'VBG'), ('rule', 'NN'), ('failed', 'VBD'), ('mollify', 'CD'), ('university', 'JJ'), ('student', 'NN'), ('leader', 'NN'), ('whose', 'WP$'), ('demonstration', 'NN'), ('scheme', 'NN'), ('sparked', 'VBD'), ('nationwide', 'JJ'), ('clash', 'NN'), ('killed', 'VBD'), ('people', 'NNS'), ('began', 'VBD'), ('protest', 'JJS'), ('politicised', 'JJ'), ('admission', 'NN'), ('quota', 'NN'), ('soughtafter', 'JJ'), ('government', 'NN'), ('job', 'NN'), ('snowballed', 'VBD'), ('week', 'NN'), ('worst', 'RB'), ('unrest', 'JJ'), ('prime', 'JJ'), ('minister', 'NN'), ('sheikh', 'NN'), ('hasinas', 'JJ'), ('tenure', 'NN'), ('bsf', 'NN'), ('high', 'JJ'), ('alert', 'JJ'), ('view', 'NN'), ('widespread', 'JJ'), ('violence', 'NN'), ('bangladesh', 'JJ'), ('student', 'NN'), ('arrive', 'JJ'), ('tripura', 'NN'), ('border', 'NN'), ('security', 'NN'), ('force', 'NN'), ('bsf', 'NN'), ('said', 'VBD'), ('closely', 'RB'), ('monitoring', 'JJ'), ('situation', 'NN'), ('bangladesh', 'NN'), ('hundred', 'VBD'), ('people', 'NNS'), ('reportedly', 'RB'), ('died', 'VBD'), ('antigovernment', 'JJ'), ('protest', 'NN'), ('job', 'NN'), ('quota', 'JJ'), ('statement', 'NN'), ('issued', 'VBN'), ('july', 'RB'), ('tripura', 'JJ'), ('frontier', 'JJR'), ('bsf', 'NN'), ('announced', 'VBD'), ('troop', 'RB'), ('high', 'JJ'), ('alert', 'NN'), ('due', 'JJ'), ('ongoing', 'VBG'), ('violence', 'NN'), ('across', 'IN'), ('border', 'NN'), ('statement', 'NN'), ('also', 'RB'), ('mentioned', 'VBD'), ('safe', 'JJ'), ('return', 'NN'), ('indian', 'JJ'), ('student', 'NN'), ('stranded', 'VBD'), ('brahmanbaria', 'RB'), ('medical', 'JJ'), ('college', 'NN'), ('bangladesh', 'NN'), ('stated', 'VBD'), ('total', 'JJ'), ('student', 'NN'), ('including', 'VBG'), ('nepal', 'JJ'), ('arrived', 'JJ'), ('tripura', 'NN'), ('integrated', 'VBD'), ('check', 'NN'), ('post', 'NN'), ('july', 'NN'), ('mamata', 'NNS'), ('banerjee', 'NN'), ('offer', 'VBP'), ('shelter', 'NN'), ('bangladeshi', 'NN'), ('amid', 'IN'), ('escalating', 'VBG'), ('violence', 'NN'), ('west', 'JJS'), ('bengal', 'JJ'), ('chief', 'JJ'), ('minister', 'NN'), ('mamata', 'NN'), ('banerjee', 'NN'), ('july', 'NN'), ('said', 'VBD'), ('wake', 'NN'), ('escalating', 'VBG'), ('violence', 'NN'), ('bangladesh', 'NN'), ('would', 'MD'), ('keep', 'VB'), ('door', 'NN'), ('state', 'NN'), ('open', 'JJ'), ('people', 'NNS'), ('distress', 'VBP'), ('neighbouring', 'JJ'), ('country', 'NN'), ('offer', 'VBP')]\n"
          ]
        }
      ]
    },
    {
      "cell_type": "markdown",
      "source": [
        "# Step 4: Exploratory Data Analysis (EDA)\n"
      ],
      "metadata": {
        "id": "20AU8gOFceuF"
      }
    },
    {
      "cell_type": "markdown",
      "source": [
        "### 1. Word Frequency Analysis\n",
        "We will perform word frequency analysis to identify the most common words and phrases in the dataset. Using NLTK’s `FreqDist`, we can compute the frequency of each word after cleaning and tokenization."
      ],
      "metadata": {
        "id": "clW2WiskciZK"
      }
    },
    {
      "cell_type": "code",
      "source": [
        "import nltk\n",
        "from nltk.probability import FreqDist\n",
        "import matplotlib.pyplot as plt\n",
        "\n",
        "# Perform word frequency analysis\n",
        "freq_dist = FreqDist(filtered_tokens)\n",
        "\n",
        "# Plot the 20 most common words\n",
        "freq_dist.plot(20, title=\"Top 20 Most Common Words\")\n"
      ],
      "metadata": {
        "colab": {
          "base_uri": "https://localhost:8080/",
          "height": 560
        },
        "id": "81CwMY4bdI7s",
        "outputId": "b7ff059d-d8c8-4d6e-9d56-47bba2cbb63c"
      },
      "execution_count": null,
      "outputs": [
        {
          "output_type": "display_data",
          "data": {
            "text/plain": [
              "<Figure size 640x480 with 1 Axes>"
            ],
            "image/png": "[encoded data removed]"
          },
          "metadata": {}
        },
        {
          "output_type": "execute_result",
          "data": {
            "text/plain": [
              "<Axes: title={'center': 'Top 20 Most Common Words'}, xlabel='Samples', ylabel='Counts'>"
            ]
          },
          "metadata": {},
          "execution_count": 9
        }
      ]
    },
    {
      "cell_type": "markdown",
      "source": [
        "### 2. Sentiment Distribution\n",
        "Visualizing the sentiment distribution across the dataset will help us understand the overall tone of the articles, both before and after the Bangladesh military coup. We can use libraries such as `matplotlib` or `seaborn` to create visual representations of the sentiment scores.\n"
      ],
      "metadata": {
        "id": "taw74pMgdtEk"
      }
    },
    {
      "cell_type": "code",
      "source": [
        "from textblob import TextBlob # analyzes the polarity of text\n",
        "import matplotlib.pyplot as plt # creating visualizations like plots and histograms.\n",
        "\n",
        "# Perform sentiment analysis\n",
        "sentiments = [TextBlob(word).sentiment.polarity for word in filtered_tokens]\n",
        "\n",
        "# Plot sentiment distribution\n",
        "plt.hist(sentiments, bins=20, edgecolor='black')\n",
        "plt.title(\"Sentiment Distribution\")\n",
        "plt.xlabel(\"Sentiment Polarity\")\n",
        "plt.ylabel(\"Frequency\")\n",
        "plt.show()\n",
        "\n",
        "# Note: Since you're analyzing word-by-word sentiment here, single words like \"great\" might be positive,\n",
        "# while words like \"bad\" might be negative. However, many neutral words (like \"and\", \"in\", etc.)\n",
        "# may get a polarity of 0, which can skew the results.\n"
      ],
      "metadata": {
        "colab": {
          "base_uri": "https://localhost:8080/",
          "height": 472
        },
        "id": "QVYxSniAdudH",
        "outputId": "0595dfcf-f91d-4708-a624-13e57aaf21cc"
      },
      "execution_count": null,
      "outputs": [
        {
          "output_type": "display_data",
          "data": {
            "text/plain": [
              "<Figure size 640x480 with 1 Axes>"
            ],
            "image/png": "[encoded data removed]"
          },
          "metadata": {}
        }
      ]
    },
    {
      "cell_type": "code",
      "source": [
        "from textblob import TextBlob\n",
        "\n",
        "# Function to categorize words by sentiment polarity (-1, 0, 1)\n",
        "def get_words_by_polarity(tokens, polarity_value, count=5):\n",
        "    selected_words = []\n",
        "    for word in tokens:\n",
        "        polarity = TextBlob(word).sentiment.polarity\n",
        "        if polarity == polarity_value:\n",
        "            selected_words.append(word)\n",
        "        if len(selected_words) >= count:  # Stop after collecting 5 words\n",
        "            break\n",
        "    return selected_words\n",
        "\n",
        "# Fetch 5 words for polarity -1, 0, and 1\n",
        "negative_words = get_words_by_polarity(filtered_tokens, -1.0, 5)\n",
        "neutral_words = get_words_by_polarity(filtered_tokens, 0.0, 5)\n",
        "positive_words = get_words_by_polarity(filtered_tokens, 1.0, 5)\n",
        "\n",
        "# Print the results\n",
        "print(\"5 words with polarity -1 (Negative):\", negative_words)\n",
        "print(\"5 words with polarity 0 (Neutral):\", neutral_words)\n",
        "print(\"5 words with polarity 1 (Positive):\", positive_words)\n"
      ],
      "metadata": {
        "colab": {
          "base_uri": "https://localhost:8080/"
        },
        "id": "4UP2WeyFwaEH",
        "outputId": "b9512724-5549-4e4b-fa57-a5de660f2f3a"
      },
      "execution_count": null,
      "outputs": [
        {
          "output_type": "stream",
          "name": "stdout",
          "text": [
            "5 words with polarity -1 (Negative): ['devastating', 'worst', 'insulting', 'cruel', 'shocking']\n",
            "5 words with polarity 0 (Neutral): ['hazard', 'incidence', 'bangladesh', 'july', 'format']\n",
            "5 words with polarity 1 (Positive): ['best', 'best', 'greatest', 'best', 'best']\n"
          ]
        }
      ]
    },
    {
      "cell_type": "markdown",
      "source": [
        "### 3. Collocations and Concordance\n",
        "By extracting collocations (frequent word pairs), we can identify words that commonly appear together in the text. Additionally, using NLTK’s `concordance` method, we can examine how specific words are used in context."
      ],
      "metadata": {
        "id": "5tn68XG3e2JX"
      }
    },
    {
      "cell_type": "code",
      "source": [
        "from nltk.collocations import BigramCollocationFinder\n",
        "from nltk.metrics import BigramAssocMeasures\n",
        "\n",
        "# Find bigram collocations\n",
        "bigram_finder = BigramCollocationFinder.from_words(filtered_tokens)\n",
        "bigram_finder.apply_freq_filter(3)  # Only consider bigrams that appear at least 3 times\n",
        "top_10_bigrams = bigram_finder.nbest(BigramAssocMeasures.likelihood_ratio, 10)\n",
        "\n",
        "# Print top 10 collocations\n",
        "print(\"Top 10 Collocations:\")\n",
        "print(top_10_bigrams)\n"
      ],
      "metadata": {
        "colab": {
          "base_uri": "https://localhost:8080/"
        },
        "id": "y-AbXoP4e3F3",
        "outputId": "e5aacf34-6461-4266-b98a-667678d9e8b0"
      },
      "execution_count": null,
      "outputs": [
        {
          "output_type": "stream",
          "name": "stdout",
          "text": [
            "Top 10 Collocations:\n",
            "[('archived', 'original'), ('pm', 'ist'), ('live', 'update'), ('retrieved', 'july'), ('full', 'story'), ('news', 'live'), ('read', 'full'), ('ist', 'jul'), ('share', 'price'), ('july', 'retrieved')]\n"
          ]
        }
      ]
    },
    {
      "cell_type": "markdown",
      "source": [
        "### 4. Topic Modelling\n",
        "For a deeper analysis, we can employ Latent Dirichlet Allocation (LDA) to identify common topics across the articles. This optional step allows us to understand underlying themes in the dataset by clustering similar words and phrases."
      ],
      "metadata": {
        "id": "S9tBCKewe66M"
      }
    },
    {
      "cell_type": "code",
      "source": [
        "from sklearn.decomposition import LatentDirichletAllocation\n",
        "from sklearn.feature_extraction.text import CountVectorizer\n",
        "\n",
        "# Vectorize the text\n",
        "vectorizer = CountVectorizer(max_df=0.95, min_df=2, stop_words='english')\n",
        "X = vectorizer.fit_transform(filtered_tokens)\n",
        "\n",
        "# Perform LDA\n",
        "lda = LatentDirichletAllocation(n_components=5, random_state=42)\n",
        "lda.fit(X)\n",
        "\n",
        "# Print the top words for each topic\n",
        "def print_top_words(model, feature_names, n_top_words):\n",
        "    for topic_idx, topic in enumerate(model.components_):\n",
        "        print(f\"Topic #{topic_idx}:\")\n",
        "        print(\" \".join([feature_names[i] for i in topic.argsort()[:-n_top_words - 1:-1]]))\n",
        "    print()\n",
        "\n",
        "n_top_words = 10\n",
        "print(\"Topics in LDA model:\")\n",
        "print_top_words(lda, vectorizer.get_feature_names_out(), n_top_words)\n"
      ],
      "metadata": {
        "colab": {
          "base_uri": "https://localhost:8080/"
        },
        "id": "5tdToTykfApy",
        "outputId": "5df6fd86-a6f9-4280-d261-66967afa9819"
      },
      "execution_count": null,
      "outputs": [
        {
          "output_type": "stream",
          "name": "stdout",
          "text": [
            "Topics in LDA model:\n",
            "Topic #0:\n",
            "bangladesh student original dhaka india share minister movement read people\n",
            "Topic #1:\n",
            "outage university price day bengali daily indian death hasina service\n",
            "Topic #2:\n",
            "july protest jul pm government live update protester violence microsoft\n",
            "Topic #3:\n",
            "retrieved august ist news quota attack injured international reported hospital\n",
            "Topic #4:\n",
            "archived police said story country say sheikh edit leader state\n",
            "\n"
          ]
        }
      ]
    },
    {
      "cell_type": "markdown",
      "source": [
        "#Step 5 - Model Selection for training"
      ],
      "metadata": {
        "id": "r5VPw-gwlcE_"
      }
    },
    {
      "cell_type": "markdown",
      "source": [
        "### 1. Logistic Regression\n",
        "We will start by applying Logistic Regression, which is a simple yet effective machine learning model for binary classification tasks such as sentiment analysis. It is often a good baseline model for initial performance evaluation."
      ],
      "metadata": {
        "id": "iZMKqHpAmEGQ"
      }
    },
    {
      "cell_type": "code",
      "source": [
        "import numpy as np\n",
        "from sklearn.model_selection import train_test_split\n",
        "from sklearn.feature_extraction.text import CountVectorizer\n",
        "from sklearn.linear_model import LogisticRegression\n",
        "from sklearn.metrics import accuracy_score, classification_report\n",
        "\n",
        "# Vectorize the data\n",
        "vectorizer = CountVectorizer()\n",
        "X = vectorizer.fit_transform(filtered_tokens)  # Assuming filtered_tokens contains your preprocessed text data\n",
        "\n",
        "# Assuming 'sentiments' contains continuous sentiment polarity from TextBlob or another source\n",
        "# Convert sentiment scores to discrete classes (positive: 1, negative: -1, neutral: 0)\n",
        "y_discrete = np.where(np.array(sentiments) > 0, 1, np.where(np.array(sentiments) < 0, -1, 0))\n",
        "\n",
        "# Split the data into training and testing sets (80% train, 20% test)\n",
        "X_train, X_test, y_train, y_test = train_test_split(X, y_discrete, test_size=0.2, random_state=42)\n",
        "\n",
        "# Train Logistic Regression model\n",
        "log_reg = LogisticRegression()\n",
        "log_reg.fit(X_train, y_train)\n",
        "\n",
        "# Make predictions on the test set\n",
        "y_pred = log_reg.predict(X_test)\n",
        "\n",
        "# Evaluate the model\n",
        "print(\"Accuracy:\", accuracy_score(y_test, y_pred))\n",
        "print(\"Classification Report:\\n\", classification_report(y_test, y_pred))\n"
      ],
      "metadata": {
        "colab": {
          "base_uri": "https://localhost:8080/"
        },
        "id": "uLBhTRTemgUp",
        "outputId": "c7222762-a13c-492c-b063-9e65fa788de9"
      },
      "execution_count": null,
      "outputs": [
        {
          "output_type": "stream",
          "name": "stdout",
          "text": [
            "Accuracy: 0.9852918877937832\n",
            "Classification Report:\n",
            "               precision    recall  f1-score   support\n",
            "\n",
            "          -1       1.00      0.67      0.80       142\n",
            "           0       0.98      1.00      0.99      6164\n",
            "           1       1.00      0.83      0.91       289\n",
            "\n",
            "    accuracy                           0.99      6595\n",
            "   macro avg       0.99      0.83      0.90      6595\n",
            "weighted avg       0.99      0.99      0.98      6595\n",
            "\n"
          ]
        }
      ]
    },
    {
      "cell_type": "markdown",
      "source": [
        "### Conclusion and Observations for Logistic Regression (Before Bangladesh Coup Data)\n",
        "\n",
        "#### Overall Performance:\n",
        "The Logistic Regression model achieved an overall accuracy of **98.53%**, which indicates strong performance in predicting the sentiment classes. Here's a breakdown of the key metrics:\n",
        "- **Precision**: The model exhibits perfect precision for all sentiment classes (negative, neutral, and positive). This means that when the model predicts a sentiment class, it is almost always correct.\n",
        "- **Recall**:\n",
        "  - **Neutral sentiment (class 0)**: The model performs exceptionally well on neutral sentiment, with a recall of **1.00**, meaning it captures almost all instances of this class.\n",
        "  - **Positive sentiment (class 1)**: The recall for positive sentiment is **0.83**, suggesting that some positive cases are missed.\n",
        "  - **Negative sentiment (class -1)**: The recall for negative sentiment is **0.67**, meaning the model struggles more to identify all instances of negative sentiment.\n",
        "  \n",
        "#### Class Imbalance:\n",
        "There is a notable **class imbalance** in the dataset:\n",
        "- **Neutral sentiment (class 0)** has **6164** instances, which makes up the majority of the data.\n",
        "- **Positive sentiment (class 1)** has **289** instances, which is significantly fewer.\n",
        "- **Negative sentiment (class -1)** has **142** instances, making it the rarest class.\n",
        "\n",
        "This imbalance is likely contributing to the lower recall for the positive and negative classes, as the model has more examples of neutral sentiment to learn from.\n",
        "\n",
        "#### Observations:\n",
        "1. **Perfect precision**: The model is highly precise across all classes, meaning that when it predicts a sentiment (whether negative, neutral, or positive), it is likely to be correct.\n",
        "2. **Lower recall for minority classes**: Both positive and negative sentiments have lower recall scores compared to neutral sentiment, meaning the model is missing some instances of these sentiments.\n",
        "3. **Class Imbalance Effect**: The imbalance between the classes is likely contributing to the lower recall for the minority classes (negative and positive sentiments), as the model is biased towards predicting the majority class (neutral).\n",
        "\n",
        "#### Possible Improvements:\n",
        "- **Handling Class Imbalance**: The class imbalance can be addressed using techniques like **oversampling** the minority classes (positive and negative) or **undersampling** the majority class (neutral). This could improve recall for the minority classes.\n",
        "- **Exploring Advanced Models**: Since Logistic Regression is a relatively simple model, you could experiment with more complex models like **Support Vector Machines (SVM)**, **Random Forest**, or even deep learning models such as **LSTM** or **BERT** to potentially achieve better results, especially for the minority classes.\n",
        "\n",
        "#### Conclusion:\n",
        "Overall, the model performs well with an accuracy of **98.53%**. However, due to the class imbalance, the model's performance on minority classes (positive and negative) could be improved. Addressing this imbalance and exploring more advanced models could enhance the recall for these classes and provide a more balanced sentiment analysis.\n"
      ],
      "metadata": {
        "id": "24nl_Fu_mqo1"
      }
    },
    {
      "cell_type": "markdown",
      "source": [
        "### 2. Explore More Complex Models"
      ],
      "metadata": {
        "id": "R1MZdx65nLFN"
      }
    },
    {
      "cell_type": "markdown",
      "source": [
        "**Support Vector Machine (SVM)**: A powerful algorithm for text classification, which works well for high-dimensional data."
      ],
      "metadata": {
        "id": "TrciqMzKnRqN"
      }
    },
    {
      "cell_type": "code",
      "source": [
        "from sklearn.svm import SVC\n",
        "\n",
        "# Train Support Vector Machine model\n",
        "svm_model = SVC()\n",
        "svm_model.fit(X_train, y_train)\n",
        "\n",
        "# Make predictions on the test set\n",
        "y_pred_svm = svm_model.predict(X_test)\n",
        "\n",
        "# Evaluate the model\n",
        "print(\"SVM Accuracy:\", accuracy_score(y_test, y_pred_svm))\n",
        "print(\"SVM Classification Report:\\n\", classification_report(y_test, y_pred_svm))\n"
      ],
      "metadata": {
        "colab": {
          "base_uri": "https://localhost:8080/"
        },
        "id": "cdHJEwLxnUre",
        "outputId": "3b184991-27e7-40ec-fac2-093b21d52ed5"
      },
      "execution_count": null,
      "outputs": [
        {
          "output_type": "stream",
          "name": "stdout",
          "text": [
            "SVM Accuracy: 0.9912054586808188\n",
            "SVM Classification Report:\n",
            "               precision    recall  f1-score   support\n",
            "\n",
            "          -1       1.00      0.84      0.91       142\n",
            "           0       0.99      1.00      1.00      6164\n",
            "           1       1.00      0.88      0.94       289\n",
            "\n",
            "    accuracy                           0.99      6595\n",
            "   macro avg       1.00      0.91      0.95      6595\n",
            "weighted avg       0.99      0.99      0.99      6595\n",
            "\n"
          ]
        }
      ]
    },
    {
      "cell_type": "markdown",
      "source": [
        "### Conclusion and Observations for Support Vector Machine (SVM)\n",
        "\n",
        "#### Overall Performance:\n",
        "The SVM model achieved an overall accuracy of **99.12%**, which is slightly better than the Logistic Regression model. This high accuracy shows that the model is highly effective in predicting the sentiment classes.\n",
        "\n",
        "#### Precision, Recall, and F1-Score:\n",
        "- **Negative sentiment (class -1)**:\n",
        "  - **Precision**: 1.00, meaning all the predictions for negative sentiment are correct.\n",
        "  - **Recall**: 0.84, indicating that the model identifies 84% of the negative sentiment instances.\n",
        "  - **F1-Score**: 0.91, showing a good balance between precision and recall for negative sentiment.\n",
        "- **Neutral sentiment (class 0)**:\n",
        "  - **Precision**: 0.99, showing nearly perfect precision for neutral sentiment.\n",
        "  - **Recall**: 1.00, meaning the model identifies all instances of neutral sentiment perfectly.\n",
        "  - **F1-Score**: 1.00, indicating a perfect balance between precision and recall for this majority class.\n",
        "- **Positive sentiment (class 1)**:\n",
        "  - **Precision**: 1.00, indicating that all predictions for positive sentiment are correct.\n",
        "  - **Recall**: 0.88, meaning the model captures 88% of the positive sentiment instances.\n",
        "  - **F1-Score**: 0.94, showing a high level of performance for positive sentiment prediction.\n",
        "\n",
        "#### Class Imbalance:\n",
        "As with previous models, the dataset is still imbalanced:\n",
        "- **Neutral sentiment (class 0)** remains the majority class with **6164** instances.\n",
        "- **Positive sentiment (class 1)** has **289** instances.\n",
        "- **Negative sentiment (class -1)** has the fewest instances, **142**.\n",
        "\n",
        "Despite this imbalance, the SVM model is handling the minority classes better than the Logistic Regression model, especially for negative sentiment where the recall improved to **0.84**.\n",
        "\n",
        "#### Observations:\n",
        "1. **Excellent Precision**: The precision for all sentiment classes is 1.00, meaning the model does not make false positive predictions.\n",
        "2. **Improved Recall for Minority Classes**: Compared to Logistic Regression, the recall for negative sentiment (class -1) has improved from 0.67 to **0.84**, and for positive sentiment (class 1) from 0.83 to **0.88**. This shows the SVM model is better at capturing these minority classes.\n",
        "3. **Balanced F1-Scores**: The F1-scores for all classes are strong, especially for the majority class (neutral sentiment), and for minority classes as well. This means the model achieves a good balance between precision and recall.\n",
        "\n",
        "#### Possible Improvements:\n",
        "- **Further Handling of Class Imbalance**: Although the SVM model handles the class imbalance better than Logistic Regression, more advanced techniques like **SMOTE (Synthetic Minority Over-sampling Technique)** or **ensemble methods** could improve recall for the negative and positive sentiment classes even further.\n",
        "- **Hyperparameter Tuning**: Fine-tuning the SVM hyperparameters (like the `C` parameter or kernel type) could potentially boost performance for the minority classes.\n",
        "\n",
        "#### Conclusion:\n",
        "The Support Vector Machine model provides a more balanced and improved performance compared to Logistic Regression, especially in identifying minority sentiment classes (negative and positive). The overall accuracy of **99.12%** reflects the model’s strong predictive power, but further improvements could be made in handling class imbalance and fine-tuning hyperparameters to improve recall for minority classes.\n"
      ],
      "metadata": {
        "id": "9iB3jzi8nzhn"
      }
    },
    {
      "cell_type": "markdown",
      "source": [
        "**Random Forest**: An ensemble method that builds multiple decision trees and merges them to improve accuracy and reduce overfitting."
      ],
      "metadata": {
        "id": "8dDK--xEnqSf"
      }
    },
    {
      "cell_type": "code",
      "source": [
        "from sklearn.ensemble import RandomForestClassifier\n",
        "\n",
        "# Train Random Forest model\n",
        "rf_model = RandomForestClassifier()\n",
        "rf_model.fit(X_train, y_train)\n",
        "\n",
        "# Make predictions on the test set\n",
        "y_pred_rf = rf_model.predict(X_test)\n",
        "\n",
        "# Evaluate the model\n",
        "print(\"Random Forest Accuracy:\", accuracy_score(y_test, y_pred_rf))\n",
        "print(\"Random Forest Classification Report:\\n\", classification_report(y_test, y_pred_rf))\n"
      ],
      "metadata": {
        "colab": {
          "base_uri": "https://localhost:8080/"
        },
        "id": "GBd666IFnrKb",
        "outputId": "d17f3f9a-3c23-46be-8bca-0ddc8e2a7690"
      },
      "execution_count": null,
      "outputs": [
        {
          "output_type": "stream",
          "name": "stdout",
          "text": [
            "Random Forest Accuracy: 0.9957543593631539\n",
            "Random Forest Classification Report:\n",
            "               precision    recall  f1-score   support\n",
            "\n",
            "          -1       1.00      0.92      0.96       142\n",
            "           0       1.00      1.00      1.00      6164\n",
            "           1       1.00      0.94      0.97       289\n",
            "\n",
            "    accuracy                           1.00      6595\n",
            "   macro avg       1.00      0.95      0.98      6595\n",
            "weighted avg       1.00      1.00      1.00      6595\n",
            "\n"
          ]
        }
      ]
    },
    {
      "cell_type": "markdown",
      "source": [
        "### Conclusion and Observations for Random Forest\n",
        "\n",
        "#### Overall Performance:\n",
        "The Random Forest model achieved an outstanding accuracy of **99.58%**, indicating that it is highly effective in predicting sentiment classes. This is the highest accuracy achieved so far compared to Logistic Regression and SVM models.\n",
        "\n",
        "#### Precision, Recall, and F1-Score:\n",
        "- **Negative sentiment (class -1)**:\n",
        "  - **Precision**: 1.00, meaning all predictions for negative sentiment are correct.\n",
        "  - **Recall**: 0.92, indicating that the model captures 92% of the negative sentiment instances.\n",
        "  - **F1-Score**: 0.96, which shows a strong balance between precision and recall.\n",
        "  \n",
        "- **Neutral sentiment (class 0)**:\n",
        "  - **Precision**: 1.00, which means almost all predictions for neutral sentiment are correct.\n",
        "  - **Recall**: 1.00, meaning the model identifies all neutral sentiment cases perfectly.\n",
        "  - **F1-Score**: 1.00, indicating perfect performance on neutral sentiment.\n",
        "\n",
        "- **Positive sentiment (class 1)**:\n",
        "  - **Precision**: 1.00, meaning the model makes no incorrect predictions for positive sentiment.\n",
        "  - **Recall**: 0.94, which indicates that the model captures 94% of the positive sentiment instances.\n",
        "  - **F1-Score**: 0.97, showing excellent performance in predicting positive sentiment.\n",
        "\n",
        "#### Class Imbalance:\n",
        "The dataset continues to show class imbalance, with **neutral sentiment (class 0)** having the most data points (6164), followed by **positive sentiment (class 1)** with 289, and **negative sentiment (class -1)** with 142. Despite this imbalance, the Random Forest model handles the minority classes (negative and positive) very well, with high recall scores for both.\n",
        "\n",
        "#### Observations:\n",
        "1. **High Precision Across All Classes**: Precision remains perfect (1.00) for all sentiment classes, meaning the model makes no false positive predictions.\n",
        "2. **Improved Recall for Minority Classes**: The recall for negative sentiment (class -1) is **0.92**, and for positive sentiment (class 1), it is **0.94**, which are the highest recall scores among the models tested so far.\n",
        "3. **Balanced F1-Scores**: The F1-scores for all classes are excellent, especially for the majority class (neutral sentiment), and the minority classes also have strong F1-scores.\n",
        "\n",
        "#### Possible Improvements:\n",
        "- **Handling Class Imbalance**: While the Random Forest model performs exceptionally well, further handling of class imbalance with techniques like **SMOTE** or **class weight adjustments** could slightly improve recall for the minority classes.\n",
        "- **Feature Importance**: Exploring the feature importance provided by Random Forest could help in understanding which words or phrases are most influential in sentiment classification.\n",
        "\n",
        "#### Conclusion:\n",
        "The Random Forest model outperforms the Logistic Regression and SVM models, achieving an accuracy of **99.58%**. It handles both majority and minority classes exceptionally well, with perfect precision and near-perfect recall for all classes. While there is room for minor improvements in recall for minority classes, the Random Forest model provides the best overall performance for this sentiment analysis task.\n",
        "\n"
      ],
      "metadata": {
        "id": "tgHXKP34of3r"
      }
    },
    {
      "cell_type": "markdown",
      "source": [
        "## VADER Sentiment Analysis\n",
        "\n",
        "We will use **VADER (Valence Aware Dictionary for Sentiment Reasoning)**, a pre-trained model in NLTK specifically tuned for sentiment analysis. It works well for news articles and social media text by handling nuances like punctuation, capitalization, and intensity (e.g., \"!!!\" or \"VERY good\").\n",
        "\n",
        "- **VADER Principle**: VADER works on the rule-based classification system, and its polarity scores (positive, neutral, negative) help to categorize the sentiment:\n",
        "  - Positive sentiment (`1`): Compound score ≥ 0.05\n",
        "  - Negative sentiment (`-1`): Compound score ≤ -0.05\n",
        "  - Neutral sentiment (`0`): Compound score in between\n",
        "\n",
        "We will use VADER to get an initial understanding of the sentiment distribution in our dataset.\n",
        "\n",
        "---"
      ],
      "metadata": {
        "id": "FoQlZe4wohMq"
      }
    },
    {
      "cell_type": "code",
      "source": [
        "from nltk.sentiment.vader import SentimentIntensityAnalyzer\n",
        "import nltk\n",
        "import pandas as pd\n",
        "\n",
        "# Download VADER lexicon for sentiment analysis\n",
        "nltk.download('vader_lexicon')\n",
        "\n",
        "# Initialize the VADER sentiment analyzer\n",
        "sia = SentimentIntensityAnalyzer()\n",
        "\n",
        "# Example function to apply VADER sentiment analysis\n",
        "def get_vader_sentiment(text):\n",
        "    scores = sia.polarity_scores(text)\n",
        "    # Categorizing the sentiment based on the compound score\n",
        "    if scores['compound'] >= 0.05:\n",
        "        return 1  # Positive\n",
        "    elif scores['compound'] <= -0.05:\n",
        "        return -1  # Negative\n",
        "    else:\n",
        "        return 0   # Neutral\n",
        "\n",
        "# Apply VADER sentiment analysis to the dataset (assuming `cleaned_content` is your text data)\n",
        "vader_sentiments = [get_vader_sentiment(sentence) for sentence in filtered_tokens[:500]]  # Apply to a subset or full dataset\n",
        "\n",
        "# Print sample results\n",
        "df = pd.DataFrame({'Text': filtered_tokens[:500], 'VADER Sentiment': vader_sentiments})\n",
        "print(df.head())\n"
      ],
      "metadata": {
        "colab": {
          "base_uri": "https://localhost:8080/"
        },
        "id": "JLk8v-l3pQDq",
        "outputId": "c5bfefc9-ce1a-4457-a4ad-233f865d4834"
      },
      "execution_count": null,
      "outputs": [
        {
          "output_type": "stream",
          "name": "stderr",
          "text": [
            "[nltk_data] Downloading package vader_lexicon to /root/nltk_data...\n"
          ]
        },
        {
          "output_type": "stream",
          "name": "stdout",
          "text": [
            "         Text  VADER Sentiment\n",
            "0      hazard                0\n",
            "1   incidence                0\n",
            "2  bangladesh                0\n",
            "3        july                0\n",
            "4      format                0\n"
          ]
        }
      ]
    },
    {
      "cell_type": "code",
      "source": [
        "# Apply VADER sentiment analysis to full sentences or longer text instead of individual tokens\n",
        "vader_sentiments = [get_vader_sentiment(\" \".join(filtered_tokens[i:i+20])) for i in range(0, len(filtered_tokens), 20)]  # Join tokens into chunks of 20 words\n",
        "\n",
        "# Print sample results for chunks of text\n",
        "df = pd.DataFrame({'Text': [\" \".join(filtered_tokens[i:i+20]) for i in range(0, len(filtered_tokens), 20)], 'VADER Sentiment': vader_sentiments})\n",
        "print(df.head())\n"
      ],
      "metadata": {
        "colab": {
          "base_uri": "https://localhost:8080/"
        },
        "id": "nr0PoeHupird",
        "outputId": "dcc05a0f-79f2-4e2c-fe1a-577690f59e26"
      },
      "execution_count": null,
      "outputs": [
        {
          "output_type": "stream",
          "name": "stdout",
          "text": [
            "                                                Text  VADER Sentiment\n",
            "0  hazard incidence bangladesh july format situat...                1\n",
            "1  incidence july total distinct hazard incident ...               -1\n",
            "2  boat capsize flood june july severe monsoon ra...               -1\n",
            "3  million people reported death including least ...               -1\n",
            "4  besides based dghs daily situation report incr...               -1\n"
          ]
        }
      ]
    },
    {
      "cell_type": "markdown",
      "source": [
        "### VADER Sentiment Analysis for Individual Words and Full Sentences\n",
        "\n",
        "#### **VADER Sentiment Analysis for Individual Words:**\n",
        "\n",
        "The first table shows the VADER sentiment analysis output for individual words:\n",
        "\n",
        "| Text         | VADER Sentiment |\n",
        "|--------------|-----------------|\n",
        "| hazard       | 0               |\n",
        "| incidence    | 0               |\n",
        "| bangladesh   | 0               |\n",
        "| july         | 0               |\n",
        "| format       | 0               |\n",
        "\n",
        "- **Observation**: For individual words, VADER does not assign significant sentiment values, and most of these words receive a neutral sentiment score of **0**. This is expected because words like \"hazard,\" \"incidence,\" \"Bangladesh,\" and \"July\" do not have inherent sentiment when considered in isolation. VADER works best for entire phrases or sentences where context can give meaning to the words.\n",
        "\n",
        "#### **VADER Sentiment Analysis for Full Sentences:**\n",
        "\n",
        "The second table shows the VADER sentiment analysis for full sentences:\n",
        "\n",
        "| Text                                                   | VADER Sentiment |\n",
        "|--------------------------------------------------------|-----------------|\n",
        "| hazard incidence bangladesh july format situat...       | 1               |\n",
        "| incidence july total distinct hazard incident ...       | -1              |\n",
        "| boat capsize flood june july severe monsoon ra...       | -1              |\n",
        "| million people reported death including least ...       | -1              |\n",
        "| besides based dghs daily situation report incr...       | -1              |\n",
        "\n",
        "- **Observation**:\n",
        "  - **Sentence 1** has a **positive sentiment score** of **1**, likely due to words related to situational reporting or format, which may indicate something organized or informative.\n",
        "  - **Sentences 2 to 5** are assigned a **negative sentiment score** of **-1**, indicating that they contain words like \"hazard,\" \"death,\" \"flood,\" \"severe,\" and \"incident,\" which all carry negative connotations. VADER accurately captures the negative sentiment based on the context of these words.\n",
        "\n",
        "#### **Conclusion:**\n",
        "VADER performs well for sentiment analysis of full sentences where context matters. In contrast, when analyzing individual words without context, the sentiment scores tend to be neutral. This demonstrates the importance of analyzing text at the sentence level to capture the true sentiment.\n",
        "\n",
        "- **Recommendation**: For more meaningful sentiment analysis in text data, always apply VADER or any sentiment analysis tool on full sentences or paragraphs rather than individual words, as isolated words might not provide enough context for accurate sentiment prediction.\n"
      ],
      "metadata": {
        "id": "F8b8u2aKqTcS"
      }
    },
    {
      "cell_type": "markdown",
      "source": [
        "#Second Half"
      ],
      "metadata": {
        "id": "x6L3rss0Szzg"
      }
    },
    {
      "cell_type": "markdown",
      "source": [
        "## Step 6 - Feature Engineering: Lexicon-Based Features\n",
        "\n",
        "In this step, we will use **VADER’s sentiment scores** as features in our model. VADER provides sentiment scores for each piece of text, including positive, negative, neutral, and a compound score (a normalized score between -1 and 1 indicating overall sentiment).\n",
        "\n",
        "We will extract the **compound score** for each text sample and use it as an additional feature to enrich our model.\n"
      ],
      "metadata": {
        "id": "Ruwd2ZPxsPJs"
      }
    },
    {
      "cell_type": "code",
      "source": [
        "from nltk.sentiment.vader import SentimentIntensityAnalyzer\n",
        "import pandas as pd\n",
        "import nltk\n",
        "\n",
        "# Download VADER lexicon for sentiment analysis\n",
        "nltk.download('vader_lexicon')\n",
        "\n",
        "# Initialize the VADER sentiment analyzer\n",
        "sia = SentimentIntensityAnalyzer()\n",
        "\n",
        "# Function to extract VADER sentiment scores (compound score) as features\n",
        "def vader_sentiment_features(text):\n",
        "    scores = sia.polarity_scores(text)\n",
        "    return scores['compound']  # We'll use the compound score for feature engineering\n",
        "\n",
        "# Example: Apply VADER to your dataset (assuming `filtered_tokens` contains cleaned text data)\n",
        "vader_features = [vader_sentiment_features(\" \".join(filtered_tokens[i:i+20])) for i in range(0, len(filtered_tokens), 20)]\n",
        "\n",
        "# Create a DataFrame to store the compound scores as features\n",
        "vader_df = pd.DataFrame({'Text': [\" \".join(filtered_tokens[i:i+20]) for i in range(0, len(filtered_tokens), 20)],\n",
        "                         'VADER Compound Score': vader_features})\n",
        "\n",
        "# Display the DataFrame with VADER sentiment features\n",
        "print(vader_df.head())\n"
      ],
      "metadata": {
        "colab": {
          "base_uri": "https://localhost:8080/"
        },
        "id": "_mDHlBcXsUCh",
        "outputId": "e8690525-64c2-4ad9-f5f0-74da197de38f"
      },
      "execution_count": null,
      "outputs": [
        {
          "output_type": "stream",
          "name": "stderr",
          "text": [
            "[nltk_data] Downloading package vader_lexicon to /root/nltk_data...\n",
            "[nltk_data]   Package vader_lexicon is already up-to-date!\n"
          ]
        },
        {
          "output_type": "stream",
          "name": "stdout",
          "text": [
            "                                                Text  VADER Compound Score\n",
            "0  hazard incidence bangladesh july format situat...                0.2960\n",
            "1  incidence july total distinct hazard incident ...               -0.3400\n",
            "2  boat capsize flood june july severe monsoon ra...               -0.8176\n",
            "3  million people reported death including least ...               -0.8555\n",
            "4  besides based dghs daily situation report incr...               -0.3818\n"
          ]
        }
      ]
    },
    {
      "cell_type": "markdown",
      "source": [
        "### Lexicon-Based Features (VADER Sentiment Scores)\n",
        "\n",
        "The VADER sentiment analysis generates a **compound score** for each sentence, which ranges from **-1** (most negative) to **+1** (most positive). The compound score combines the positivity, negativity, and neutrality of words in a sentence to give a single sentiment value.\n",
        "\n",
        "#### **VADER Compound Scores Output:**\n",
        "\n",
        "| Text                                                   | VADER Compound Score |\n",
        "|--------------------------------------------------------|----------------------|\n",
        "| hazard incidence bangladesh july format situat...       | 0.2960               |\n",
        "| incidence july total distinct hazard incident ...       | -0.3400              |\n",
        "| boat capsize flood june july severe monsoon ra...       | -0.8176              |\n",
        "| million people reported death including least ...       | -0.8555              |\n",
        "| besides based dghs daily situation report incr...       | -0.3818              |\n",
        "\n",
        "#### **Interpretation of Compound Scores:**\n",
        "\n",
        "1. **First Sentence**:\n",
        "   - **Score**: 0.2960\n",
        "   - **Interpretation**: This sentence has a mildly positive sentiment. While words like \"hazard\" might indicate some negativity, the overall context could suggest a neutral or slightly positive tone.\n",
        "   \n",
        "2. **Second Sentence**:\n",
        "   - **Score**: -0.3400\n",
        "   - **Interpretation**: This sentence has a **moderate negative sentiment**, likely because it contains terms like \"hazard\" or \"incident,\" which suggest negative events.\n",
        "   \n",
        "3. **Third Sentence**:\n",
        "   - **Score**: -0.8176\n",
        "   - **Interpretation**: This sentence has a **strong negative sentiment**. Words like \"flood,\" \"capsize,\" and \"monsoon\" are clearly associated with negative or harmful events, which heavily influence the sentiment score.\n",
        "   \n",
        "4. **Fourth Sentence**:\n",
        "   - **Score**: -0.8555\n",
        "   - **Interpretation**: This sentence also has a **strong negative sentiment**. The mention of \"death\" and \"reported\" contributes to this very negative score.\n",
        "   \n",
        "5. **Fifth Sentence**:\n",
        "   - **Score**: -0.3818\n",
        "   - **Interpretation**: This sentence has a **moderately negative sentiment**, likely due to the terms \"daily situation report\" and \"increased,\" which could imply worsening or ongoing negative situations.\n",
        "\n",
        "#### **Conclusion:**\n",
        "- VADER compound scores are useful for gauging the overall sentiment of a sentence.\n",
        "- **Positive Scores** (closer to 1) indicate positive or optimistic tones.\n",
        "- **Negative Scores** (closer to -1) indicate negative, pessimistic, or concerning tones.\n",
        "- In this case, most sentences display negative sentiment, likely due to the content related to disasters, incidents, and loss. The VADER scores successfully capture the underlying negative tone of these sentences.\n",
        "\n",
        "#### **Recommendation**:\n",
        "- **Contextual Analysis**: When analyzing articles or reports, the VADER compound score provides a clear indication of the sentiment, but it's always a good idea to interpret scores in the context of the full text to understand the underlying reasons for positive or negative sentiments.\n",
        "\n"
      ],
      "metadata": {
        "id": "0gGh7BfLsmfM"
      }
    },
    {
      "cell_type": "markdown",
      "source": [
        "## Feature Engineering: Custom Features (Word Frequency, POS Tags, Bigrams/Trigrams)\n",
        "\n",
        "In this step, we will generate custom features to provide more contextual information to the model. These include:\n",
        "1. **Word Frequency**: Calculate the frequency of each word in the dataset to capture important terms.\n",
        "2. **Part-of-Speech (POS) Tags**: Tag each word with its grammatical category (e.g., noun, verb) to help the model understand sentence structure.\n",
        "3. **Bigrams/Trigrams**: Capture frequently occurring word pairs (bigrams) and triples (trigrams) to add more context to the text.\n"
      ],
      "metadata": {
        "id": "81_dYJVVsnjB"
      }
    },
    {
      "cell_type": "code",
      "source": [
        "import nltk\n",
        "from sklearn.feature_extraction.text import CountVectorizer\n",
        "\n",
        "# 1. Word Frequency\n",
        "vectorizer = CountVectorizer()\n",
        "X_word_freq = vectorizer.fit_transform([\" \".join(filtered_tokens[i:i+20]) for i in range(0, len(filtered_tokens), 20)])\n",
        "word_freq_df = pd.DataFrame(X_word_freq.toarray(), columns=vectorizer.get_feature_names_out())\n",
        "\n",
        "# Display the word frequency data\n",
        "print(\"Word Frequency Features:\")\n",
        "print(word_freq_df.head())\n",
        "\n",
        "# 2. POS Tags\n",
        "# Apply POS tagging to each text chunk\n",
        "def pos_tag_features(text):\n",
        "    tokens = nltk.word_tokenize(text)\n",
        "    pos_tags = nltk.pos_tag(tokens)\n",
        "    return [tag for word, tag in pos_tags]  # Return only the POS tags\n",
        "\n",
        "# Apply POS tagging to the text chunks\n",
        "pos_features = [\" \".join(pos_tag_features(\" \".join(filtered_tokens[i:i+20]))) for i in range(0, len(filtered_tokens), 20)]\n",
        "\n",
        "# Display POS tag features\n",
        "pos_df = pd.DataFrame({'Text': [\" \".join(filtered_tokens[i:i+20]) for i in range(0, len(filtered_tokens), 20)], 'POS Tags': pos_features})\n",
        "print(\"\\nPOS Tag Features:\")\n",
        "print(pos_df.head())\n",
        "\n",
        "# 3. Bigrams/Trigrams\n",
        "# Extract bigrams and trigrams from the text\n",
        "vectorizer_ngrams = CountVectorizer(ngram_range=(2, 3))  # Bigrams and trigrams\n",
        "X_ngrams = vectorizer_ngrams.fit_transform([\" \".join(filtered_tokens[i:i+20]) for i in range(0, len(filtered_tokens), 20)])\n",
        "ngrams_df = pd.DataFrame(X_ngrams.toarray(), columns=vectorizer_ngrams.get_feature_names_out())\n",
        "\n",
        "# Display bigram and trigram features\n",
        "print(\"\\nBigram/Trigram Features:\")\n",
        "print(ngrams_df.head())\n"
      ],
      "metadata": {
        "colab": {
          "base_uri": "https://localhost:8080/"
        },
        "id": "sZmv3mdwsuHd",
        "outputId": "ee149d26-76ee-4cbc-ce3a-4d1ea28d74b8"
      },
      "execution_count": null,
      "outputs": [
        {
          "output_type": "stream",
          "name": "stdout",
          "text": [
            "Word Frequency Features:\n",
            "   aadmi  aajkaalin  aam  aap  aaps  aashhabul  abc  abducted  abdul  \\\n",
            "0      0          0    0    0     0          0    0         0      0   \n",
            "1      0          0    0    0     0          0    0         0      0   \n",
            "2      0          0    0    0     0          0    0         0      0   \n",
            "3      0          0    0    0     0          0    0         0      0   \n",
            "4      0          0    0    0     0          0    0         0      0   \n",
            "\n",
            "   abdullah  ...  zabed  zafar  zamanafp  zambia  zayed  zealand  zelenskyy  \\\n",
            "0         0  ...      0      0         0       0      0        0          0   \n",
            "1         0  ...      0      0         0       0      0        0          0   \n",
            "2         0  ...      0      0         0       0      0        0          0   \n",
            "3         0  ...      0      0         0       0      0        0          0   \n",
            "4         0  ...      0      0         0       0      0        0          0   \n",
            "\n",
            "   zerodose  zone  zuckerberg  \n",
            "0         0     0           0  \n",
            "1         0     0           0  \n",
            "2         0     0           0  \n",
            "3         0     0           0  \n",
            "4         0     0           0  \n",
            "\n",
            "[5 rows x 6026 columns]\n",
            "\n",
            "POS Tag Features:\n",
            "                                                Text  \\\n",
            "0  hazard incidence bangladesh july format situat...   \n",
            "1  incidence july total distinct hazard incident ...   \n",
            "2  boat capsize flood june july severe monsoon ra...   \n",
            "3  million people reported death including least ...   \n",
            "4  besides based dghs daily situation report incr...   \n",
            "\n",
            "                                            POS Tags  \n",
            "0  NN NN JJ NN JJ NN NN NN RB VBD JJ RB VBN JJ NN...  \n",
            "1  NN NN JJ JJ NN NN VBD JJ NN NN VBD JJ NN NN NN...  \n",
            "2  NN VB NN NN NN JJ NN NN VBD VBG NN IN NN RB VB...  \n",
            "3  CD NNS VBN NN VBG JJS CD JJ NN RB JJ VBD NN NN...  \n",
            "4  IN VBN NNS JJ NN NN NN VBD JJ NN VBN JJ NN VBD...  \n",
            "\n",
            "Bigram/Trigram Features:\n",
            "   aadmi party  aadmi party aap  aadmi party convenor  aam aadmi  \\\n",
            "0            0                0                     0          0   \n",
            "1            0                0                     0          0   \n",
            "2            0                0                     0          0   \n",
            "3            0                0                     0          0   \n",
            "4            0                0                     0          0   \n",
            "\n",
            "   aam aadmi party  aap accuses  aap accuses bjp  aap candidate  \\\n",
            "0                0            0                0              0   \n",
            "1                0            0                0              0   \n",
            "2                0            0                0              0   \n",
            "3                0            0                0              0   \n",
            "4                0            0                0              0   \n",
            "\n",
            "   aap candidate constituency  aap hit  ...  zayed al nahyan  zealand japan  \\\n",
            "0                           0        0  ...                0              0   \n",
            "1                           0        0  ...                0              0   \n",
            "2                           0        0  ...                0              0   \n",
            "3                           0        0  ...                0              0   \n",
            "4                           0        0  ...                0              0   \n",
            "\n",
            "   zelenskyy reached  zelenskyy reached former  zerodose child  \\\n",
            "0                  0                         0               0   \n",
            "1                  0                         0               0   \n",
            "2                  0                         0               0   \n",
            "3                  0                         0               0   \n",
            "4                  0                         0               0   \n",
            "\n",
            "   zerodose child immunization  zone protester  zone protester hurling  \\\n",
            "0                            0               0                       0   \n",
            "1                            0               0                       0   \n",
            "2                            0               0                       0   \n",
            "3                            0               0                       0   \n",
            "4                            0               0                       0   \n",
            "\n",
            "   zuckerberg declined  zuckerberg declined endorse  \n",
            "0                    0                            0  \n",
            "1                    0                            0  \n",
            "2                    0                            0  \n",
            "3                    0                            0  \n",
            "4                    0                            0  \n",
            "\n",
            "[5 rows x 46426 columns]\n"
          ]
        }
      ]
    },
    {
      "cell_type": "markdown",
      "source": [
        "### Custom Features (Word Frequency, POS Tags, Bigrams/Trigrams)\n",
        "\n",
        "#### 1. **Word Frequency Features:**\n",
        "The first table represents the **word frequency features**, where each word (column) is assigned a frequency count across the sentences. The table has **6026 columns**, each representing a unique word, with values indicating the frequency of that word in the corresponding sentence (row).\n",
        "\n",
        "|   | aadmi  | aajkaalin  | aam  | aap  | aaps  | aashhabul  | abc  | abducted  | abdul  | ... | zuckerberg  |\n",
        "|---|--------|------------|------|------|-------|------------|------|-----------|--------|-----|-------------|\n",
        "| 0 | 0      | 0          | 0    | 0    | 0     | 0          | 0    | 0         | 0      | ... | 0           |\n",
        "| 1 | 0      | 0          | 0    | 0    | 0     | 0          | 0    | 0         | 0      | ... | 0           |\n",
        "| 2 | 0      | 0          | 0    | 0    | 0     | 0          | 0    | 0         | 0      | ... | 0           |\n",
        "| 3 | 0      | 0          | 0    | 0    | 0     | 0          | 0    | 0         | 0      | ... | 0           |\n",
        "| 4 | 0      | 0          | 0    | 0    | 0     | 0          | 0    | 0         | 0      | ... | 0           |\n",
        "\n",
        "- **Observation**:\n",
        "  - Each word column represents the frequency count of that word across different sentences. In this case, words like “aadmi,” “abdul,” and “zuckerberg” do not appear in the given sentences, so their frequency remains 0.\n",
        "  - A high word frequency can indicate the importance of certain words across the dataset.\n",
        "\n",
        "#### 2. **POS (Part-of-Speech) Tag Features:**\n",
        "The second table shows **POS tag features**, where each sentence is tagged with grammatical labels such as noun (NN), verb (VB), adjective (JJ), etc.\n",
        "\n",
        "| Text                                                   | POS Tags                                               |\n",
        "|--------------------------------------------------------|--------------------------------------------------------|\n",
        "| hazard incidence bangladesh july format situat...       | NN NN JJ NN JJ NN NN NN RB VBD JJ RB VBN JJ NN...       |\n",
        "| incidence july total distinct hazard incident ...       | NN NN JJ JJ NN NN VBD JJ NN NN VBD JJ NN NN NN...       |\n",
        "| boat capsize flood june july severe monsoon ra...       | NN VB NN NN NN JJ NN NN VBD VBG NN IN NN RB VB...       |\n",
        "| million people reported death including least ...       | CD NNS VBN NN VBG JJS CD JJ NN RB JJ VBD NN NN...       |\n",
        "| besides based dghs daily situation report incr...       | IN VBN NNS JJ NN NN NN VBD JJ NN VBN JJ NN VBD...       |\n",
        "\n",
        "- **Observation**:\n",
        "  - The POS tags for each sentence provide insight into the grammatical structure, showing how nouns, verbs, adjectives, etc., are distributed. For example, in the first sentence, many nouns (NN) and adjectives (JJ) appear, which is typical in news reports.\n",
        "\n",
        "#### 3. **Bigram/Trigram Features:**\n",
        "The final table represents **bigram and trigram features**, where phrases consisting of two (bigram) or three (trigram) words are used as features. The table has **46426 columns**, representing unique bigram and trigram combinations across the sentences.\n",
        "\n",
        "|   | aadmi party  | aadmi party aap  | aadmi party convenor  | aam aadmi  | aap accuses bjp  | zelenskyy reached  | zuckerberg declined  |\n",
        "|---|--------------|------------------|-----------------------|------------|------------------|--------------------|---------------------|\n",
        "| 0 | 0            | 0                | 0                     | 0          | 0                | 0                  | 0                   |\n",
        "| 1 | 0            | 0                | 0                     | 0          | 0                | 0                  | 0                   |\n",
        "| 2 | 0            | 0                | 0                     | 0          | 0                | 0                  | 0                   |\n",
        "| 3 | 0            | 0                | 0                     | 0          | 0                | 0                  | 0                   |\n",
        "| 4 | 0            | 0                | 0                     | 0          | 0                | 0                  | 0                   |\n",
        "\n",
        "- **Observation**:\n",
        "  - Bigram and trigram features capture word pairings or triplets that might offer deeper context compared to single words alone.\n",
        "  - In the given rows, the bigrams and trigrams such as \"aadmi party\" or \"zuckerberg declined\" do not appear in the sentences, so their values remain 0.\n",
        "\n",
        "#### **Conclusion**:\n",
        "The custom features generated (word frequency, POS tags, and bigrams/trigrams) provide a rich set of attributes for machine learning models:\n",
        "- **Word Frequency**: Highlights the distribution of individual words across the dataset.\n",
        "- **POS Tags**: Helps in analyzing the grammatical structure and could be used for syntactic feature extraction.\n",
        "- **Bigrams/Trigrams**: Capture word combinations that can provide contextual information, offering a higher level of insight beyond individual words.\n",
        "  \n",
        "These features can be used for training machine learning models to improve the prediction of sentiment, classification, or any other text-based task.\n",
        "\n"
      ],
      "metadata": {
        "id": "Gs6GAc7XtD8m"
      }
    },
    {
      "cell_type": "markdown",
      "source": [
        "## Feature Engineering: Feature Selection\n",
        "\n",
        "In this step, we will use **feature selection** techniques to refine the dataset and choose only the most informative features for our model. Reducing the number of features helps prevent overfitting and speeds up the training process while retaining the most relevant data.\n"
      ],
      "metadata": {
        "id": "1UBtyqUMtLKN"
      }
    },
    {
      "cell_type": "code",
      "source": [
        "import numpy as np\n",
        "from sklearn.feature_selection import SelectKBest, chi2\n",
        "\n",
        "# Convert VADER compound scores to discrete sentiment classes\n",
        "def vader_to_sentiment_class(compound_score):\n",
        "    if compound_score > 0.05:\n",
        "        return 1  # Positive\n",
        "    elif compound_score < -0.05:\n",
        "        return -1  # Negative\n",
        "    else:\n",
        "        return 0  # Neutral\n",
        "\n",
        "# Apply the conversion to vader_sentiments\n",
        "vader_discrete_sentiments = np.array([vader_to_sentiment_class(score) for score in vader_sentiments])\n",
        "\n",
        "# Perform feature selection using the discrete sentiment labels\n",
        "select_k_best = SelectKBest(chi2, k=100)\n",
        "X_selected = select_k_best.fit_transform(X_word_freq, vader_discrete_sentiments)\n",
        "\n",
        "# Display the names of the top selected features\n",
        "top_features = np.array(vectorizer.get_feature_names_out())[select_k_best.get_support()]\n",
        "print(\"Top 100 Selected Features:\\n\", top_features)\n"
      ],
      "metadata": {
        "colab": {
          "base_uri": "https://localhost:8080/"
        },
        "id": "GvBu07qRtLv7",
        "outputId": "abf46508-cd53-4337-bf2b-c1a97e4b133d"
      },
      "execution_count": null,
      "outputs": [
        {
          "output_type": "stream",
          "name": "stdout",
          "text": [
            "Top 100 Selected Features:\n",
            " ['according' 'across' 'adityanath' 'adityanaths' 'alo' 'archived' 'arrest'\n",
            " 'arrested' 'atishi' 'attack' 'attacked' 'august' 'bank' 'bengali' 'biswa'\n",
            " 'bjp' 'bn' 'budget' 'clash' 'committee' 'company' 'crore' 'cst' 'da'\n",
            " 'daily' 'data' 'dead' 'death' 'delhi' 'deliberately' 'detained' 'dhaka'\n",
            " 'died' 'eatery' 'economic' 'elon' 'financial' 'fiveday' 'food' 'freedom'\n",
            " 'governor' 'guarantee' 'hasina' 'highlight' 'holiday' 'impacted'\n",
            " 'injured' 'internet' 'ist' 'jul' 'july' 'kanwar' 'killed' 'least' 'live'\n",
            " 'meeting' 'mehbooba' 'microsoft' 'minister' 'musk' 'operation' 'original'\n",
            " 'outage' 'party' 'people' 'plan' 'pm' 'police' 'price' 'priceadani'\n",
            " 'profit' 'protest' 'protester' 'protesting' 'rate' 'ratnagiri'\n",
            " 'regulator' 'retrieved' 'shaktikanta' 'share' 'shop' 'star' 'student'\n",
            " 'support' 'supreme' 'tata' 'temporarily' 'today' 'toll' 'tomato' 'top'\n",
            " 'two' 'union' 'update' 'verdict' 'violence' 'violent' 'war' 'yogi' 'yoy']\n"
          ]
        }
      ]
    },
    {
      "cell_type": "markdown",
      "source": [
        "### Observations and Conclusion for Feature Selection\n",
        "\n",
        "#### **Observations**:\n",
        "- The **top 100 selected features** represent a mix of important topics and terms related to the dataset. These include:\n",
        "  - **Political Figures and Entities**: Terms such as 'adityanath', 'hasina', 'pm', 'bjp', and 'police' highlight the presence of political discussions.\n",
        "  - **Events and Actions**: Words like 'attack', 'protest', 'killed', 'clash', 'arrest', and 'violence' reflect discussions around conflicts, protests, and legal actions.\n",
        "  - **Geographical Locations**: Locations such as 'delhi', 'dhaka', and 'ratnagiri' show the focus on specific regions.\n",
        "  - **Economic and Financial Terms**: Words such as 'budget', 'price', 'profit', and 'financial' emphasize economic discussions in the data.\n",
        "  - **Media and Technology**: Terms like 'elon', 'microsoft', 'internet', and 'data' indicate discussions related to technology and prominent figures in that space.\n",
        "  \n",
        "- The presence of a wide variety of topics (e.g., political, financial, violent events, geographical locations) suggests that the dataset covers a broad spectrum of issues, making these selected features highly informative for understanding sentiment, classification, or other predictive tasks.\n",
        "\n",
        "#### **Conclusion**:\n",
        "- The selected features capture the **most relevant terms** in the dataset, focusing on major political events, economic discussions, and social unrest. These features will provide valuable insights for downstream tasks such as sentiment analysis or text classification, as they highlight key entities, actions, and locations that are central to the subject matter of the data.\n",
        "- **Feature selection** has successfully reduced the dimensionality while preserving the most important and relevant terms, which will improve the performance of any machine learning model trained on this data.\n"
      ],
      "metadata": {
        "id": "D0wAwCKStvxk"
      }
    },
    {
      "cell_type": "markdown",
      "source": [
        "## Project Progress Overview\n",
        "\n",
        "| **Step**                         | **Description**                                                                 | **Status**         |\n",
        "|-----------------------------------|---------------------------------------------------------------------------------|--------------------|\n",
        "| **1. Define Your Project Scope**  | Objective and data sources for sentiment analysis before and after the coup.     | **Completed**      |\n",
        "| **2. Data Collection**            | Scrape and gather news articles.                                                | **Completed**      |\n",
        "| **3. Data Preprocessing**         | Text cleaning, tokenization, stopword removal, vectorization, POS tagging.       | **Completed**      |\n",
        "| **4. Exploratory Data Analysis**  | Word frequency analysis, sentiment distribution, collocations, and topic modeling. | **Completed**      |\n",
        "| **5. Model Selection**            | Logistic Regression, SVM, Random Forest, VADER sentiment analysis, Train-Test Split. | **Completed**      |\n",
        "| **6. Feature Engineering**        | Lexicon-based features, custom features (word frequency, POS tags), feature selection. | **In Progress**      |\n",
        "| **7. Model Training**             | Pipeline creation, hyperparameter tuning, and model training.                    | **In Progress**    |\n",
        "| **8. Model Evaluation**           | Classification report, confusion matrix, cross-validation, comparison of classifiers. | **Next**           |\n",
        "| **9. Sentiment Analysis**         | Apply the model, compare sentiments before and after the coup, and visualize results. | **Next**           |\n",
        "| **10. Result Interpretation**     | Summarize findings, correlate sentiment changes with significant events.         | **Next**           |\n",
        "| **11. Data Visualization**        | Word clouds, sentiment distribution charts, time-series analysis, confusion matrix, ROC curve. | **Next**           |\n",
        "| **12. Project Documentation**     | Write markdown files, Jupyter notebooks, and comment code clearly.               | **Next**           |\n",
        "| **13. Deployment on GitHub**      | Set up repository, push code, and create a comprehensive README file.            | **Next**           |\n",
        "| **14. Optional Enhancements**     | Create an interactive dashboard, improve models with advanced NLP techniques.    | **Next (Optional)**|\n",
        "| **15. Final Review and Sharing**  | Peer review and sharing on platforms like GitHub, LinkedIn, or Medium.           | **Next**           |\n"
      ],
      "metadata": {
        "id": "2H9Lg_4EvClr"
      }
    }
  ]
}